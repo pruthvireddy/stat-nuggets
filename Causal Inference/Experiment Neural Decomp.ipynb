{
 "cells": [
  {
   "cell_type": "code",
   "execution_count": 15,
   "metadata": {},
   "outputs": [],
   "source": [
    "%matplotlib inline"
   ]
  },
  {
   "cell_type": "code",
   "execution_count": 171,
   "metadata": {},
   "outputs": [],
   "source": [
    "import pandas as pd\n",
    "import numpy as np\n",
    "\n",
    "\n",
    "N = 100000\n",
    "\n",
    "p0 = 0.1\n",
    "p = 0.01\n",
    "tau = 5\n",
    "\n",
    "alpha_x = {0: 10, 1: 5, 2: 2}\n",
    "beta_x =  {0: 1, 1: 1, 2: 1}\n",
    "lambda_x = {0: 20, 1: 10, 2: 5}\n",
    "\n",
    "x = np.random.choice([0, 1, 2], size=N)\n",
    "\n",
    "k = [alpha_x[x_i] for x_i in x]\n",
    "theta = [1. / beta_x[x_i] for x_i in x]\n",
    "lambd = [lambda_x[x_i] for x_i in x]\n",
    "z2 = np.random.gamma(k, theta)\n",
    "z1 = np.random.poisson(lambd)\n",
    "\n",
    "y2 = np.random.binomial(1, p=p0 * np.exp(-z2/tau))\n",
    "y1 = np.random.binomial(z1, p)\n",
    "y = y1 + y2\n",
    "\n",
    "df = pd.DataFrame({'X': x, 'Y': y, 'Z_1': z1, 'Z_2': z2, \n",
    "                   'Y1': y1, 'Y2': y2})"
   ]
  },
  {
   "cell_type": "code",
   "execution_count": 172,
   "metadata": {},
   "outputs": [
    {
     "data": {
      "text/plain": [
       "array([[<matplotlib.axes._subplots.AxesSubplot object at 0x7f235fce5208>,\n",
       "        <matplotlib.axes._subplots.AxesSubplot object at 0x7f235fa60630>],\n",
       "       [<matplotlib.axes._subplots.AxesSubplot object at 0x7f235fa10860>,\n",
       "        <matplotlib.axes._subplots.AxesSubplot object at 0x7f235f9c2ac8>],\n",
       "       [<matplotlib.axes._subplots.AxesSubplot object at 0x7f235f9f3d30>,\n",
       "        <matplotlib.axes._subplots.AxesSubplot object at 0x7f235f9a2ef0>]],\n",
       "      dtype=object)"
      ]
     },
     "execution_count": 172,
     "metadata": {},
     "output_type": "execute_result"
    },
    {
     "data": {
      "image/png": "[encoded data removed]",
      "text/plain": [
       "<Figure size 432x288 with 6 Axes>"
      ]
     },
     "metadata": {
      "needs_background": "light"
     },
     "output_type": "display_data"
    }
   ],
   "source": [
    "df.hist()"
   ]
  },
  {
   "cell_type": "code",
   "execution_count": 173,
   "metadata": {},
   "outputs": [
    {
     "data": {
      "text/plain": [
       "X\n",
       "0    0.219032\n",
       "1    0.140734\n",
       "2    0.119037\n",
       "Name: Y, dtype: float64"
      ]
     },
     "execution_count": 173,
     "metadata": {},
     "output_type": "execute_result"
    }
   ],
   "source": [
    "df.groupby('X').mean()['Y']"
   ]
  },
  {
   "cell_type": "code",
   "execution_count": 174,
   "metadata": {},
   "outputs": [
    {
     "data": {
      "text/html": [
       "<div>\n",
       "<style scoped>\n",
       "    .dataframe tbody tr th:only-of-type {\n",
       "        vertical-align: middle;\n",
       "    }\n",
       "\n",
       "    .dataframe tbody tr th {\n",
       "        vertical-align: top;\n",
       "    }\n",
       "\n",
       "    .dataframe thead th {\n",
       "        text-align: right;\n",
       "    }\n",
       "</style>\n",
       "<table border=\"1\" class=\"dataframe\">\n",
       "  <thead>\n",
       "    <tr style=\"text-align: right;\">\n",
       "      <th></th>\n",
       "      <th>Y1</th>\n",
       "      <th>Y2</th>\n",
       "      <th>Y</th>\n",
       "    </tr>\n",
       "    <tr>\n",
       "      <th>X</th>\n",
       "      <th></th>\n",
       "      <th></th>\n",
       "      <th></th>\n",
       "    </tr>\n",
       "  </thead>\n",
       "  <tbody>\n",
       "    <tr>\n",
       "      <th>0</th>\n",
       "      <td>0.202518</td>\n",
       "      <td>0.016514</td>\n",
       "      <td>0.219032</td>\n",
       "    </tr>\n",
       "    <tr>\n",
       "      <th>1</th>\n",
       "      <td>0.100605</td>\n",
       "      <td>0.040128</td>\n",
       "      <td>0.140734</td>\n",
       "    </tr>\n",
       "    <tr>\n",
       "      <th>2</th>\n",
       "      <td>0.050711</td>\n",
       "      <td>0.068326</td>\n",
       "      <td>0.119037</td>\n",
       "    </tr>\n",
       "  </tbody>\n",
       "</table>\n",
       "</div>"
      ],
      "text/plain": [
       "         Y1        Y2         Y\n",
       "X                              \n",
       "0  0.202518  0.016514  0.219032\n",
       "1  0.100605  0.040128  0.140734\n",
       "2  0.050711  0.068326  0.119037"
      ]
     },
     "execution_count": 174,
     "metadata": {},
     "output_type": "execute_result"
    }
   ],
   "source": [
    "df.groupby('X').mean()[['Y1', 'Y2', 'Y']]"
   ]
  },
  {
   "cell_type": "code",
   "execution_count": 20,
   "metadata": {
    "scrolled": true
   },
   "outputs": [
    {
     "data": {
      "text/html": [
       "<table class=\"simpletable\">\n",
       "<caption>OLS Regression Results</caption>\n",
       "<tr>\n",
       "  <th>Dep. Variable:</th>            <td>Y</td>        <th>  R-squared:         </th> <td>   0.020</td> \n",
       "</tr>\n",
       "<tr>\n",
       "  <th>Model:</th>                   <td>OLS</td>       <th>  Adj. R-squared:    </th> <td>   0.020</td> \n",
       "</tr>\n",
       "<tr>\n",
       "  <th>Method:</th>             <td>Least Squares</td>  <th>  F-statistic:       </th> <td>   503.6</td> \n",
       "</tr>\n",
       "<tr>\n",
       "  <th>Date:</th>             <td>Wed, 08 Apr 2020</td> <th>  Prob (F-statistic):</th>  <td>  0.00</td>  \n",
       "</tr>\n",
       "<tr>\n",
       "  <th>Time:</th>                 <td>17:19:17</td>     <th>  Log-Likelihood:    </th> <td> -48958.</td> \n",
       "</tr>\n",
       "<tr>\n",
       "  <th>No. Observations:</th>      <td>100000</td>      <th>  AIC:               </th> <td>9.793e+04</td>\n",
       "</tr>\n",
       "<tr>\n",
       "  <th>Df Residuals:</th>          <td> 99995</td>      <th>  BIC:               </th> <td>9.797e+04</td>\n",
       "</tr>\n",
       "<tr>\n",
       "  <th>Df Model:</th>              <td>     4</td>      <th>                     </th>     <td> </td>    \n",
       "</tr>\n",
       "<tr>\n",
       "  <th>Covariance Type:</th>      <td>nonrobust</td>    <th>                     </th>     <td> </td>    \n",
       "</tr>\n",
       "</table>\n",
       "<table class=\"simpletable\">\n",
       "<tr>\n",
       "      <td></td>         <th>coef</th>     <th>std err</th>      <th>t</th>      <th>P>|t|</th>  <th>[0.025</th>    <th>0.975]</th>  \n",
       "</tr>\n",
       "<tr>\n",
       "  <th>expz2</th>     <td>    0.0959</td> <td>    0.014</td> <td>    6.733</td> <td> 0.000</td> <td>    0.068</td> <td>    0.124</td>\n",
       "</tr>\n",
       "<tr>\n",
       "  <th>Z_2</th>       <td>   -0.0005</td> <td>    0.001</td> <td>   -0.579</td> <td> 0.563</td> <td>   -0.002</td> <td>    0.001</td>\n",
       "</tr>\n",
       "<tr>\n",
       "  <th>Z_1</th>       <td>    0.0100</td> <td>    0.000</td> <td>   28.519</td> <td> 0.000</td> <td>    0.009</td> <td>    0.011</td>\n",
       "</tr>\n",
       "<tr>\n",
       "  <th>X</th>         <td>   -0.0021</td> <td>    0.004</td> <td>   -0.540</td> <td> 0.589</td> <td>   -0.010</td> <td>    0.005</td>\n",
       "</tr>\n",
       "<tr>\n",
       "  <th>intercept</th> <td>    0.0081</td> <td>    0.011</td> <td>    0.713</td> <td> 0.476</td> <td>   -0.014</td> <td>    0.030</td>\n",
       "</tr>\n",
       "</table>\n",
       "<table class=\"simpletable\">\n",
       "<tr>\n",
       "  <th>Omnibus:</th>       <td>48712.902</td> <th>  Durbin-Watson:     </th>  <td>   1.999</td> \n",
       "</tr>\n",
       "<tr>\n",
       "  <th>Prob(Omnibus):</th>  <td> 0.000</td>   <th>  Jarque-Bera (JB):  </th> <td>245106.469</td>\n",
       "</tr>\n",
       "<tr>\n",
       "  <th>Skew:</th>           <td> 2.417</td>   <th>  Prob(JB):          </th>  <td>    0.00</td> \n",
       "</tr>\n",
       "<tr>\n",
       "  <th>Kurtosis:</th>       <td> 8.954</td>   <th>  Cond. No.          </th>  <td>    204.</td> \n",
       "</tr>\n",
       "</table><br/><br/>Warnings:<br/>[1] Standard Errors assume that the covariance matrix of the errors is correctly specified."
      ],
      "text/plain": [
       "<class 'statsmodels.iolib.summary.Summary'>\n",
       "\"\"\"\n",
       "                            OLS Regression Results                            \n",
       "==============================================================================\n",
       "Dep. Variable:                      Y   R-squared:                       0.020\n",
       "Model:                            OLS   Adj. R-squared:                  0.020\n",
       "Method:                 Least Squares   F-statistic:                     503.6\n",
       "Date:                Wed, 08 Apr 2020   Prob (F-statistic):               0.00\n",
       "Time:                        17:19:17   Log-Likelihood:                -48958.\n",
       "No. Observations:              100000   AIC:                         9.793e+04\n",
       "Df Residuals:                   99995   BIC:                         9.797e+04\n",
       "Df Model:                           4                                         \n",
       "Covariance Type:            nonrobust                                         \n",
       "==============================================================================\n",
       "                 coef    std err          t      P>|t|      [0.025      0.975]\n",
       "------------------------------------------------------------------------------\n",
       "expz2          0.0959      0.014      6.733      0.000       0.068       0.124\n",
       "Z_2           -0.0005      0.001     -0.579      0.563      -0.002       0.001\n",
       "Z_1            0.0100      0.000     28.519      0.000       0.009       0.011\n",
       "X             -0.0021      0.004     -0.540      0.589      -0.010       0.005\n",
       "intercept      0.0081      0.011      0.713      0.476      -0.014       0.030\n",
       "==============================================================================\n",
       "Omnibus:                    48712.902   Durbin-Watson:                   1.999\n",
       "Prob(Omnibus):                  0.000   Jarque-Bera (JB):           245106.469\n",
       "Skew:                           2.417   Prob(JB):                         0.00\n",
       "Kurtosis:                       8.954   Cond. No.                         204.\n",
       "==============================================================================\n",
       "\n",
       "Warnings:\n",
       "[1] Standard Errors assume that the covariance matrix of the errors is correctly specified.\n",
       "\"\"\""
      ]
     },
     "execution_count": 20,
     "metadata": {},
     "output_type": "execute_result"
    }
   ],
   "source": [
    "from statsmodels.api import OLS\n",
    "\n",
    "df['expz2'] = np.exp(-z2/tau)\n",
    "df['intercept'] = 1.\n",
    "model = OLS(endog=df['Y'], exog=df[['expz2', 'Z_2', 'Z_1', 'X', 'intercept']])\n",
    "\n",
    "result1 = model.fit()\n",
    "df['y_given_z2_x'] = result1.predict()\n",
    "result1.summary()"
   ]
  },
  {
   "cell_type": "code",
   "execution_count": 221,
   "metadata": {
    "scrolled": true
   },
   "outputs": [
    {
     "name": "stdout",
     "output_type": "stream",
     "text": [
      "Epoch 1/100\n",
      "100000/100000 [==============================] - 0s 2us/step - loss: 1.8057\n",
      "Epoch 2/100\n",
      "100000/100000 [==============================] - 0s 1us/step - loss: 0.7030\n",
      "Epoch 3/100\n",
      "100000/100000 [==============================] - 0s 1us/step - loss: 0.3675\n",
      "Epoch 4/100\n",
      "100000/100000 [==============================] - 0s 1us/step - loss: 0.2348\n",
      "Epoch 5/100\n",
      "100000/100000 [==============================] - 0s 1us/step - loss: 0.1831\n",
      "Epoch 6/100\n",
      "100000/100000 [==============================] - 0s 1us/step - loss: 0.1646\n",
      "Epoch 7/100\n",
      "100000/100000 [==============================] - 0s 1us/step - loss: 0.1588\n",
      "Epoch 8/100\n",
      "100000/100000 [==============================] - 0s 1us/step - loss: 0.1571\n",
      "Epoch 9/100\n",
      "100000/100000 [==============================] - 0s 1us/step - loss: 0.1565\n",
      "Epoch 10/100\n",
      "100000/100000 [==============================] - 0s 1us/step - loss: 0.1563\n",
      "Epoch 11/100\n",
      "100000/100000 [==============================] - 0s 1us/step - loss: 0.1560\n",
      "Epoch 12/100\n",
      "100000/100000 [==============================] - 0s 1us/step - loss: 0.1559\n",
      "Epoch 13/100\n",
      "100000/100000 [==============================] - 0s 1us/step - loss: 0.1557\n",
      "Epoch 14/100\n",
      "100000/100000 [==============================] - 0s 1us/step - loss: 0.1556\n",
      "Epoch 15/100\n",
      "100000/100000 [==============================] - 0s 1us/step - loss: 0.1555\n",
      "Epoch 16/100\n",
      "100000/100000 [==============================] - 0s 1us/step - loss: 0.1555\n",
      "Epoch 17/100\n",
      "100000/100000 [==============================] - 0s 1us/step - loss: 0.1554\n",
      "Epoch 18/100\n",
      "100000/100000 [==============================] - 0s 1us/step - loss: 0.1554\n",
      "Epoch 19/100\n",
      "100000/100000 [==============================] - 0s 1us/step - loss: 0.1553\n",
      "Epoch 20/100\n",
      "100000/100000 [==============================] - 0s 1us/step - loss: 0.1553\n",
      "Epoch 21/100\n",
      "100000/100000 [==============================] - 0s 1us/step - loss: 0.1553\n",
      "Epoch 22/100\n",
      "100000/100000 [==============================] - 0s 1us/step - loss: 0.1553\n",
      "Epoch 23/100\n",
      "100000/100000 [==============================] - 0s 1us/step - loss: 0.1552\n",
      "Epoch 24/100\n",
      "100000/100000 [==============================] - 0s 1us/step - loss: 0.1552\n",
      "Epoch 25/100\n",
      "100000/100000 [==============================] - 0s 1us/step - loss: 0.1552\n",
      "Epoch 26/100\n",
      "100000/100000 [==============================] - 0s 1us/step - loss: 0.1552\n",
      "Epoch 27/100\n",
      "100000/100000 [==============================] - 0s 1us/step - loss: 0.1552\n",
      "Epoch 28/100\n",
      "100000/100000 [==============================] - 0s 1us/step - loss: 0.1551\n",
      "Epoch 29/100\n",
      "100000/100000 [==============================] - 0s 1us/step - loss: 0.1551\n",
      "Epoch 30/100\n",
      "100000/100000 [==============================] - 0s 1us/step - loss: 0.1551\n",
      "Epoch 31/100\n",
      "100000/100000 [==============================] - 0s 1us/step - loss: 0.1551\n",
      "Epoch 32/100\n",
      "100000/100000 [==============================] - 0s 1us/step - loss: 0.1551\n",
      "Epoch 33/100\n",
      "100000/100000 [==============================] - 0s 1us/step - loss: 0.1551\n",
      "Epoch 34/100\n",
      "100000/100000 [==============================] - 0s 1us/step - loss: 0.1551\n",
      "Epoch 35/100\n",
      "100000/100000 [==============================] - 0s 1us/step - loss: 0.1551\n",
      "Epoch 36/100\n",
      "100000/100000 [==============================] - 0s 1us/step - loss: 0.1551\n",
      "Epoch 37/100\n",
      "100000/100000 [==============================] - 0s 1us/step - loss: 0.1551\n",
      "Epoch 38/100\n",
      "100000/100000 [==============================] - 0s 1us/step - loss: 0.1551\n",
      "Epoch 39/100\n",
      "100000/100000 [==============================] - 0s 1us/step - loss: 0.1551\n",
      "Epoch 40/100\n",
      "100000/100000 [==============================] - 0s 1us/step - loss: 0.1550\n",
      "Epoch 41/100\n",
      "100000/100000 [==============================] - 0s 1us/step - loss: 0.1551\n",
      "Epoch 42/100\n",
      "100000/100000 [==============================] - 0s 1us/step - loss: 0.1551\n",
      "Epoch 43/100\n",
      "100000/100000 [==============================] - 0s 1us/step - loss: 0.1551\n",
      "Epoch 44/100\n",
      "100000/100000 [==============================] - 0s 1us/step - loss: 0.1551\n",
      "Epoch 45/100\n",
      "100000/100000 [==============================] - 0s 1us/step - loss: 0.1551\n",
      "Epoch 46/100\n",
      "100000/100000 [==============================] - 0s 1us/step - loss: 0.1551\n",
      "Epoch 47/100\n",
      "100000/100000 [==============================] - 0s 1us/step - loss: 0.1550\n",
      "Epoch 48/100\n",
      "100000/100000 [==============================] - 0s 1us/step - loss: 0.1551\n",
      "Epoch 49/100\n",
      "100000/100000 [==============================] - 0s 1us/step - loss: 0.1551\n",
      "Epoch 50/100\n",
      "100000/100000 [==============================] - 0s 1us/step - loss: 0.1550\n",
      "Epoch 51/100\n",
      "100000/100000 [==============================] - 0s 1us/step - loss: 0.1551\n",
      "Epoch 52/100\n",
      "100000/100000 [==============================] - 0s 1us/step - loss: 0.1550\n",
      "Epoch 53/100\n",
      "100000/100000 [==============================] - 0s 1us/step - loss: 0.1551\n",
      "Epoch 54/100\n",
      "100000/100000 [==============================] - 0s 1us/step - loss: 0.1550\n",
      "Epoch 55/100\n",
      "100000/100000 [==============================] - 0s 1us/step - loss: 0.1551\n",
      "Epoch 56/100\n",
      "100000/100000 [==============================] - 0s 1us/step - loss: 0.1550\n",
      "Epoch 57/100\n",
      "100000/100000 [==============================] - 0s 1us/step - loss: 0.1550\n",
      "Epoch 58/100\n",
      "100000/100000 [==============================] - 0s 1us/step - loss: 0.1550\n",
      "Epoch 59/100\n",
      "100000/100000 [==============================] - 0s 1us/step - loss: 0.1550\n",
      "Epoch 60/100\n",
      "100000/100000 [==============================] - 0s 1us/step - loss: 0.1550\n",
      "Epoch 61/100\n",
      "100000/100000 [==============================] - 0s 1us/step - loss: 0.1550\n",
      "Epoch 62/100\n",
      "100000/100000 [==============================] - 0s 1us/step - loss: 0.1550\n",
      "Epoch 63/100\n",
      "100000/100000 [==============================] - 0s 1us/step - loss: 0.1550\n",
      "Epoch 64/100\n",
      "100000/100000 [==============================] - 0s 1us/step - loss: 0.1550\n",
      "Epoch 65/100\n",
      "100000/100000 [==============================] - 0s 1us/step - loss: 0.1550\n",
      "Epoch 66/100\n",
      "100000/100000 [==============================] - 0s 1us/step - loss: 0.1550\n",
      "Epoch 67/100\n",
      "100000/100000 [==============================] - 0s 1us/step - loss: 0.1550\n",
      "Epoch 68/100\n",
      "100000/100000 [==============================] - 0s 1us/step - loss: 0.1550\n",
      "Epoch 69/100\n",
      "100000/100000 [==============================] - 0s 1us/step - loss: 0.1550\n",
      "Epoch 70/100\n",
      "100000/100000 [==============================] - 0s 1us/step - loss: 0.1550\n",
      "Epoch 71/100\n",
      "100000/100000 [==============================] - 0s 1us/step - loss: 0.1550\n",
      "Epoch 72/100\n",
      "100000/100000 [==============================] - 0s 1us/step - loss: 0.1550\n",
      "Epoch 73/100\n",
      "100000/100000 [==============================] - 0s 1us/step - loss: 0.1550\n",
      "Epoch 74/100\n",
      "100000/100000 [==============================] - 0s 1us/step - loss: 0.1550\n",
      "Epoch 75/100\n",
      "100000/100000 [==============================] - 0s 1us/step - loss: 0.1550\n",
      "Epoch 76/100\n",
      "100000/100000 [==============================] - 0s 1us/step - loss: 0.1550\n",
      "Epoch 77/100\n",
      "100000/100000 [==============================] - 0s 1us/step - loss: 0.1550\n",
      "Epoch 78/100\n",
      "100000/100000 [==============================] - 0s 1us/step - loss: 0.1550\n",
      "Epoch 79/100\n",
      "100000/100000 [==============================] - 0s 1us/step - loss: 0.1550\n",
      "Epoch 80/100\n",
      "100000/100000 [==============================] - 0s 1us/step - loss: 0.1550\n",
      "Epoch 81/100\n",
      "100000/100000 [==============================] - 0s 1us/step - loss: 0.1550\n",
      "Epoch 82/100\n",
      "100000/100000 [==============================] - 0s 1us/step - loss: 0.1550\n",
      "Epoch 83/100\n",
      "100000/100000 [==============================] - 0s 1us/step - loss: 0.1550\n",
      "Epoch 84/100\n",
      "100000/100000 [==============================] - 0s 1us/step - loss: 0.1550\n",
      "Epoch 85/100\n",
      "100000/100000 [==============================] - 0s 1us/step - loss: 0.1551\n",
      "Epoch 86/100\n",
      "100000/100000 [==============================] - 0s 1us/step - loss: 0.1550\n",
      "Epoch 87/100\n",
      "100000/100000 [==============================] - 0s 1us/step - loss: 0.1550\n",
      "Epoch 88/100\n",
      "100000/100000 [==============================] - 0s 1us/step - loss: 0.1550\n",
      "Epoch 89/100\n",
      "100000/100000 [==============================] - 0s 1us/step - loss: 0.1550\n",
      "Epoch 90/100\n",
      "100000/100000 [==============================] - 0s 1us/step - loss: 0.1550\n",
      "Epoch 91/100\n",
      "100000/100000 [==============================] - 0s 1us/step - loss: 0.1550\n",
      "Epoch 92/100\n",
      "100000/100000 [==============================] - 0s 1us/step - loss: 0.1550\n",
      "Epoch 93/100\n",
      "100000/100000 [==============================] - 0s 1us/step - loss: 0.1550\n",
      "Epoch 94/100\n",
      "100000/100000 [==============================] - 0s 1us/step - loss: 0.1550\n",
      "Epoch 95/100\n",
      "100000/100000 [==============================] - 0s 1us/step - loss: 0.1550\n",
      "Epoch 96/100\n",
      "100000/100000 [==============================] - 0s 1us/step - loss: 0.1550\n",
      "Epoch 97/100\n",
      "100000/100000 [==============================] - 0s 1us/step - loss: 0.1550\n",
      "Epoch 98/100\n",
      "100000/100000 [==============================] - 0s 1us/step - loss: 0.1550\n",
      "Epoch 99/100\n",
      "100000/100000 [==============================] - 0s 1us/step - loss: 0.1550\n",
      "Epoch 100/100\n",
      "100000/100000 [==============================] - 0s 1us/step - loss: 0.1550\n"
     ]
    },
    {
     "data": {
      "text/plain": [
       "<keras.callbacks.callbacks.History at 0x7f2365631320>"
      ]
     },
     "execution_count": 221,
     "metadata": {},
     "output_type": "execute_result"
    }
   ],
   "source": [
    "import keras\n",
    "from keras.models import Model\n",
    "from keras.layers import Dense, Input, Concatenate, Add\n",
    "import tensorflow as tf\n",
    "\n",
    "\n",
    "z1_in = Input(shape=(2,))\n",
    "h11 = Dense(8, activation='tanh')(z1_in)\n",
    "h12 = Dense(8, activation='tanh')(h11)\n",
    "y1 = Dense(1, activation='exponential')(h12)\n",
    "\n",
    "z2_in = Input(shape=(2,))\n",
    "h21 = Dense(8, activation='tanh')(z2_in)\n",
    "h22 = Dense(8, activation='tanh')(h21)\n",
    "y2 = Dense(1, activation='exponential')(h22)\n",
    "\n",
    "\n",
    "y_out = Add()([y1, y2])\n",
    "#y_out = Dense(1, activation='linear')(h)\n",
    "\n",
    "\n",
    "model = Model(inputs=[z1_in, z2_in], outputs=[y_out])\n",
    "model.compile('RMSProp', loss='mse')\n",
    "\n",
    "model.fit([df[['Z_1', 'X']], df[['Z_2', 'X']]], df['Y'], epochs=100, batch_size=4096)"
   ]
  },
  {
   "cell_type": "code",
   "execution_count": 222,
   "metadata": {},
   "outputs": [],
   "source": [
    "model = Model(inputs=[z1_in, z2_in], outputs=[y1, y2])\n",
    "model.compile('RMSProp', loss='mse')\n"
   ]
  },
  {
   "cell_type": "code",
   "execution_count": 223,
   "metadata": {},
   "outputs": [
    {
     "data": {
      "text/plain": [
       "array([[<matplotlib.axes._subplots.AxesSubplot object at 0x7f2366dd89e8>]],\n",
       "      dtype=object)"
      ]
     },
     "execution_count": 223,
     "metadata": {},
     "output_type": "execute_result"
    },
    {
     "data": {
      "image/png": "[encoded data removed]",
      "text/plain": [
       "<Figure size 432x288 with 1 Axes>"
      ]
     },
     "metadata": {
      "needs_background": "light"
     },
     "output_type": "display_data"
    }
   ],
   "source": [
    "pd.DataFrame(model.predict([df[['Z_1', 'X']], df[['Z_2', 'X']]])[1]).hist()"
   ]
  },
  {
   "cell_type": "code",
   "execution_count": 224,
   "metadata": {},
   "outputs": [],
   "source": [
    "from statsmodels.nonparametric.kernel_density import KDEMultivariateConditional\n",
    "\n",
    "p_z1_given_x = KDEMultivariateConditional(endog=df[['Z_1']], exog=df[['X']], \n",
    "                                          dep_type='c', indep_type='u', \n",
    "                                          bw='normal_reference')"
   ]
  },
  {
   "cell_type": "code",
   "execution_count": 225,
   "metadata": {},
   "outputs": [],
   "source": [
    "p_z2_given_x = KDEMultivariateConditional(endog=df[['Z_2']], exog=df[['X']], \n",
    "                                          dep_type='c', indep_type='u', \n",
    "                                          bw='normal_reference')\n"
   ]
  },
  {
   "cell_type": "code",
   "execution_count": 191,
   "metadata": {
    "scrolled": true
   },
   "outputs": [
    {
     "ename": "KeyboardInterrupt",
     "evalue": "",
     "output_type": "error",
     "traceback": [
      "\u001b[0;31m---------------------------------------------------------------------------\u001b[0m",
      "\u001b[0;31mKeyboardInterrupt\u001b[0m                         Traceback (most recent call last)",
      "\u001b[0;32m<ipython-input-191-22c439bb69c8>\u001b[0m in \u001b[0;36m<module>\u001b[0;34m\u001b[0m\n\u001b[0;32m----> 1\u001b[0;31m \u001b[0mdf\u001b[0m\u001b[0;34m[\u001b[0m\u001b[0;34m'p_z2_given_x'\u001b[0m\u001b[0;34m]\u001b[0m \u001b[0;34m=\u001b[0m \u001b[0mp_z2_given_x\u001b[0m\u001b[0;34m.\u001b[0m\u001b[0mpdf\u001b[0m\u001b[0;34m(\u001b[0m\u001b[0;34m)\u001b[0m\u001b[0;34m\u001b[0m\u001b[0;34m\u001b[0m\u001b[0m\n\u001b[0m\u001b[1;32m      2\u001b[0m \u001b[0mdf\u001b[0m\u001b[0;34m[\u001b[0m\u001b[0;34m'p_z1_given_x'\u001b[0m\u001b[0;34m]\u001b[0m \u001b[0;34m=\u001b[0m \u001b[0mp_z1_given_x\u001b[0m\u001b[0;34m.\u001b[0m\u001b[0mpdf\u001b[0m\u001b[0;34m(\u001b[0m\u001b[0;34m)\u001b[0m\u001b[0;34m\u001b[0m\u001b[0;34m\u001b[0m\u001b[0m\n",
      "\u001b[0;32m~/.virtualenvs/data/lib/python3.6/site-packages/statsmodels/nonparametric/kernel_density.py\u001b[0m in \u001b[0;36mpdf\u001b[0;34m(self, endog_predict, exog_predict)\u001b[0m\n\u001b[1;32m    521\u001b[0m             f_yx = gpke(self.bw, data=self.data,\n\u001b[1;32m    522\u001b[0m                         \u001b[0mdata_predict\u001b[0m\u001b[0;34m=\u001b[0m\u001b[0mdata_predict\u001b[0m\u001b[0;34m[\u001b[0m\u001b[0mi\u001b[0m\u001b[0;34m,\u001b[0m \u001b[0;34m:\u001b[0m\u001b[0;34m]\u001b[0m\u001b[0;34m,\u001b[0m\u001b[0;34m\u001b[0m\u001b[0;34m\u001b[0m\u001b[0m\n\u001b[0;32m--> 523\u001b[0;31m                         var_type=(self.dep_type + self.indep_type))\n\u001b[0m\u001b[1;32m    524\u001b[0m             f_x = gpke(self.bw[self.k_dep:], data=self.exog,\n\u001b[1;32m    525\u001b[0m                        \u001b[0mdata_predict\u001b[0m\u001b[0;34m=\u001b[0m\u001b[0mexog_predict\u001b[0m\u001b[0;34m[\u001b[0m\u001b[0mi\u001b[0m\u001b[0;34m,\u001b[0m \u001b[0;34m:\u001b[0m\u001b[0;34m]\u001b[0m\u001b[0;34m,\u001b[0m\u001b[0;34m\u001b[0m\u001b[0;34m\u001b[0m\u001b[0m\n",
      "\u001b[0;32m~/.virtualenvs/data/lib/python3.6/site-packages/statsmodels/nonparametric/_kernel_base.py\u001b[0m in \u001b[0;36mgpke\u001b[0;34m(bw, data, data_predict, var_type, ckertype, okertype, ukertype, tosum)\u001b[0m\n\u001b[1;32m    512\u001b[0m \u001b[0;34m\u001b[0m\u001b[0m\n\u001b[1;32m    513\u001b[0m     \u001b[0miscontinuous\u001b[0m \u001b[0;34m=\u001b[0m \u001b[0mnp\u001b[0m\u001b[0;34m.\u001b[0m\u001b[0marray\u001b[0m\u001b[0;34m(\u001b[0m\u001b[0;34m[\u001b[0m\u001b[0mc\u001b[0m \u001b[0;34m==\u001b[0m \u001b[0;34m'c'\u001b[0m \u001b[0;32mfor\u001b[0m \u001b[0mc\u001b[0m \u001b[0;32min\u001b[0m \u001b[0mvar_type\u001b[0m\u001b[0;34m]\u001b[0m\u001b[0;34m)\u001b[0m\u001b[0;34m\u001b[0m\u001b[0;34m\u001b[0m\u001b[0m\n\u001b[0;32m--> 514\u001b[0;31m     \u001b[0mdens\u001b[0m \u001b[0;34m=\u001b[0m \u001b[0mKval\u001b[0m\u001b[0;34m.\u001b[0m\u001b[0mprod\u001b[0m\u001b[0;34m(\u001b[0m\u001b[0maxis\u001b[0m\u001b[0;34m=\u001b[0m\u001b[0;36m1\u001b[0m\u001b[0;34m)\u001b[0m \u001b[0;34m/\u001b[0m \u001b[0mnp\u001b[0m\u001b[0;34m.\u001b[0m\u001b[0mprod\u001b[0m\u001b[0;34m(\u001b[0m\u001b[0mbw\u001b[0m\u001b[0;34m[\u001b[0m\u001b[0miscontinuous\u001b[0m\u001b[0;34m]\u001b[0m\u001b[0;34m)\u001b[0m\u001b[0;34m\u001b[0m\u001b[0;34m\u001b[0m\u001b[0m\n\u001b[0m\u001b[1;32m    515\u001b[0m     \u001b[0;32mif\u001b[0m \u001b[0mtosum\u001b[0m\u001b[0;34m:\u001b[0m\u001b[0;34m\u001b[0m\u001b[0;34m\u001b[0m\u001b[0m\n\u001b[1;32m    516\u001b[0m         \u001b[0;32mreturn\u001b[0m \u001b[0mdens\u001b[0m\u001b[0;34m.\u001b[0m\u001b[0msum\u001b[0m\u001b[0;34m(\u001b[0m\u001b[0maxis\u001b[0m\u001b[0;34m=\u001b[0m\u001b[0;36m0\u001b[0m\u001b[0;34m)\u001b[0m\u001b[0;34m\u001b[0m\u001b[0;34m\u001b[0m\u001b[0m\n",
      "\u001b[0;32m~/.virtualenvs/data/lib/python3.6/site-packages/numpy/core/_methods.py\u001b[0m in \u001b[0;36m_prod\u001b[0;34m(a, axis, dtype, out, keepdims, initial, where)\u001b[0m\n\u001b[1;32m     40\u001b[0m def _prod(a, axis=None, dtype=None, out=None, keepdims=False,\n\u001b[1;32m     41\u001b[0m           initial=_NoValue, where=True):\n\u001b[0;32m---> 42\u001b[0;31m     \u001b[0;32mreturn\u001b[0m \u001b[0mumr_prod\u001b[0m\u001b[0;34m(\u001b[0m\u001b[0ma\u001b[0m\u001b[0;34m,\u001b[0m \u001b[0maxis\u001b[0m\u001b[0;34m,\u001b[0m \u001b[0mdtype\u001b[0m\u001b[0;34m,\u001b[0m \u001b[0mout\u001b[0m\u001b[0;34m,\u001b[0m \u001b[0mkeepdims\u001b[0m\u001b[0;34m,\u001b[0m \u001b[0minitial\u001b[0m\u001b[0;34m,\u001b[0m \u001b[0mwhere\u001b[0m\u001b[0;34m)\u001b[0m\u001b[0;34m\u001b[0m\u001b[0;34m\u001b[0m\u001b[0m\n\u001b[0m\u001b[1;32m     43\u001b[0m \u001b[0;34m\u001b[0m\u001b[0m\n\u001b[1;32m     44\u001b[0m \u001b[0;32mdef\u001b[0m \u001b[0m_any\u001b[0m\u001b[0;34m(\u001b[0m\u001b[0ma\u001b[0m\u001b[0;34m,\u001b[0m \u001b[0maxis\u001b[0m\u001b[0;34m=\u001b[0m\u001b[0;32mNone\u001b[0m\u001b[0;34m,\u001b[0m \u001b[0mdtype\u001b[0m\u001b[0;34m=\u001b[0m\u001b[0;32mNone\u001b[0m\u001b[0;34m,\u001b[0m \u001b[0mout\u001b[0m\u001b[0;34m=\u001b[0m\u001b[0;32mNone\u001b[0m\u001b[0;34m,\u001b[0m \u001b[0mkeepdims\u001b[0m\u001b[0;34m=\u001b[0m\u001b[0;32mFalse\u001b[0m\u001b[0;34m)\u001b[0m\u001b[0;34m:\u001b[0m\u001b[0;34m\u001b[0m\u001b[0;34m\u001b[0m\u001b[0m\n",
      "\u001b[0;31mKeyboardInterrupt\u001b[0m: "
     ]
    }
   ],
   "source": [
    "df['p_z2_given_x'] = p_z2_given_x.pdf()\n",
    "df['p_z1_given_x'] = p_z1_given_x.pdf()"
   ]
  },
  {
   "cell_type": "code",
   "execution_count": null,
   "metadata": {},
   "outputs": [],
   "source": [
    "df[df.X==1].plot(x='Z_2', y='p_z2_given_x', kind='scatter')"
   ]
  },
  {
   "cell_type": "code",
   "execution_count": null,
   "metadata": {},
   "outputs": [],
   "source": [
    "df[df.X==2].plot(x='Z_2', y='p_z2_given_x', kind='scatter')"
   ]
  },
  {
   "cell_type": "code",
   "execution_count": null,
   "metadata": {},
   "outputs": [],
   "source": [
    "px = df.groupby('X').count()"
   ]
  },
  {
   "cell_type": "code",
   "execution_count": null,
   "metadata": {},
   "outputs": [],
   "source": [
    "px / len(df)"
   ]
  },
  {
   "cell_type": "code",
   "execution_count": 226,
   "metadata": {},
   "outputs": [
    {
     "data": {
      "text/plain": [
       "(0.18016819189803418, 3.420985525998103e-09)"
      ]
     },
     "execution_count": 226,
     "metadata": {},
     "output_type": "execute_result"
    }
   ],
   "source": [
    "from scipy.integrate import quad\n",
    "\n",
    "def integrand(z1, x=0):\n",
    "    f1 = float(p_z1_given_x.pdf(endog_predict=[z1], exog_predict=[x]))\n",
    "    the_sum = 0.\n",
    "    for xp in df.X.unique():\n",
    "        y1 = model.predict([[[z1, xp]], [[df.Z_2.mean(), 0]]])[0][0][0]\n",
    "        p_x = 1/3.\n",
    "        the_sum += y1 * p_x\n",
    "    return the_sum*f1\n",
    "        \n",
    "quad(lambda z: integrand(z, x=0.), df.Z_1.min(), df.Z_1.max())"
   ]
  },
  {
   "cell_type": "code",
   "execution_count": 227,
   "metadata": {},
   "outputs": [
    {
     "data": {
      "text/plain": [
       "(0.09424426943521841, 1.3560215620582093e-08)"
      ]
     },
     "execution_count": 227,
     "metadata": {},
     "output_type": "execute_result"
    }
   ],
   "source": [
    "quad(lambda z: integrand(z, x=1.), df.Z_1.min(), df.Z_1.max())"
   ]
  },
  {
   "cell_type": "code",
   "execution_count": 228,
   "metadata": {},
   "outputs": [
    {
     "data": {
      "text/plain": [
       "(0.06298908857941396, 9.869472595083272e-09)"
      ]
     },
     "execution_count": 228,
     "metadata": {},
     "output_type": "execute_result"
    }
   ],
   "source": [
    "quad(lambda z: integrand(z, x=2.), df.Z_1.min(), df.Z_1.max())"
   ]
  },
  {
   "cell_type": "code",
   "execution_count": 229,
   "metadata": {},
   "outputs": [
    {
     "data": {
      "text/plain": [
       "(0.033986835933868434, 1.762487491206813e-09)"
      ]
     },
     "execution_count": 229,
     "metadata": {},
     "output_type": "execute_result"
    }
   ],
   "source": [
    "from scipy.integrate import quad\n",
    "\n",
    "def integrand(z2, x=0):\n",
    "    f1 = float(p_z2_given_x.pdf(endog_predict=[z2], exog_predict=[x]))\n",
    "    the_sum = 0.\n",
    "    for xp in df.X.unique():\n",
    "        y2 = model.predict([[[df.Z_1.mean(), 0]], [[z2, xp]]])[1][0][0]\n",
    "        p_x = 1/3.\n",
    "        the_sum += y2 * p_x\n",
    "    return the_sum*f1\n",
    "        \n",
    "quad(lambda z: integrand(z, x=0.), df.Z_2.min(), df.Z_2.max())"
   ]
  },
  {
   "cell_type": "code",
   "execution_count": 230,
   "metadata": {},
   "outputs": [
    {
     "data": {
      "text/plain": [
       "(0.05024109200426411, 2.3963653143324222e-09)"
      ]
     },
     "execution_count": 230,
     "metadata": {},
     "output_type": "execute_result"
    }
   ],
   "source": [
    "quad(lambda z: integrand(z, x=1.), df.Z_2.min(), df.Z_2.max())"
   ]
  },
  {
   "cell_type": "code",
   "execution_count": 231,
   "metadata": {},
   "outputs": [
    {
     "data": {
      "text/plain": [
       "(0.07915992039444318, 2.410230366131944e-09)"
      ]
     },
     "execution_count": 231,
     "metadata": {},
     "output_type": "execute_result"
    }
   ],
   "source": [
    "quad(lambda z: integrand(z, x=2.), df.Z_2.min(), df.Z_2.max())"
   ]
  },
  {
   "cell_type": "code",
   "execution_count": null,
   "metadata": {},
   "outputs": [],
   "source": []
  },
  {
   "cell_type": "code",
   "execution_count": null,
   "metadata": {},
   "outputs": [],
   "source": []
  }
 ],
 "metadata": {
  "kernelspec": {
   "display_name": "Python 3",
   "language": "python",
   "name": "python3"
  },
  "language_info": {
   "codemirror_mode": {
    "name": "ipython",
    "version": 3
   },
   "file_extension": ".py",
   "mimetype": "text/x-python",
   "name": "python",
   "nbconvert_exporter": "python",
   "pygments_lexer": "ipython3",
   "version": "3.6.9"
  }
 },
 "nbformat": 4,
 "nbformat_minor": 4
}
