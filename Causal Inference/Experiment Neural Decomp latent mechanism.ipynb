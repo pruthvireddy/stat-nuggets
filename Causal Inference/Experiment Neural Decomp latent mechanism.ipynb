{
 "cells": [
  {
   "cell_type": "code",
   "execution_count": 15,
   "metadata": {},
   "outputs": [],
   "source": [
    "%matplotlib inline"
   ]
  },
  {
   "cell_type": "code",
   "execution_count": 127,
   "metadata": {},
   "outputs": [],
   "source": [
    "import pandas as pd\n",
    "import numpy as np\n",
    "\n",
    "\n",
    "N = 1000000\n",
    "\n",
    "p0 = 0.1\n",
    "p = 0.01\n",
    "tau = 5\n",
    "\n",
    "alpha_x = {0: 10, 1: 5, 2: 2}\n",
    "beta_x =  {0: 1, 1: 1, 2: 1}\n",
    "lambda_x = {0: 20, 1: 10, 2: 5}\n",
    "\n",
    "x = np.random.choice([0, 1, 2], size=N)\n",
    "\n",
    "k = [alpha_x[x_i] for x_i in x]\n",
    "theta = [1. / beta_x[x_i] for x_i in x]\n",
    "lambd = [lambda_x[x_i] for x_i in x]\n",
    "z2 = np.random.gamma(k, theta)\n",
    "z1 = np.random.poisson(lambd)\n",
    "\n",
    "y2 = np.random.binomial(1, p=p0 * np.exp(-z2/tau))\n",
    "y1 = np.random.binomial(z1, p)\n",
    "y = y1 + y2\n",
    "\n",
    "df = pd.DataFrame({'X': x, 'Y': y, 'Z_1': z1, 'Z_2': z2, \n",
    "                   'Y1': y1, 'Y2': y2})"
   ]
  },
  {
   "cell_type": "code",
   "execution_count": 75,
   "metadata": {},
   "outputs": [
    {
     "data": {
      "text/plain": [
       "array([[<matplotlib.axes._subplots.AxesSubplot object at 0x7f1ad4373a90>,\n",
       "        <matplotlib.axes._subplots.AxesSubplot object at 0x7f1ad42b6240>],\n",
       "       [<matplotlib.axes._subplots.AxesSubplot object at 0x7f1b3c7d9438>,\n",
       "        <matplotlib.axes._subplots.AxesSubplot object at 0x7f1b3c7896a0>],\n",
       "       [<matplotlib.axes._subplots.AxesSubplot object at 0x7f1b3c7b2fd0>,\n",
       "        <matplotlib.axes._subplots.AxesSubplot object at 0x7f1b3c56d3c8>]],\n",
       "      dtype=object)"
      ]
     },
     "execution_count": 75,
     "metadata": {},
     "output_type": "execute_result"
    },
    {
     "data": {
      "image/png": "[encoded data removed]",
      "text/plain": [
       "<Figure size 432x288 with 6 Axes>"
      ]
     },
     "metadata": {
      "needs_background": "light"
     },
     "output_type": "display_data"
    }
   ],
   "source": [
    "df.hist()"
   ]
  },
  {
   "cell_type": "code",
   "execution_count": 76,
   "metadata": {},
   "outputs": [
    {
     "data": {
      "text/plain": [
       "X\n",
       "0    0.229627\n",
       "1    0.138549\n",
       "2    0.122388\n",
       "Name: Y, dtype: float64"
      ]
     },
     "execution_count": 76,
     "metadata": {},
     "output_type": "execute_result"
    }
   ],
   "source": [
    "df.groupby('X').mean()['Y']"
   ]
  },
  {
   "cell_type": "code",
   "execution_count": 77,
   "metadata": {},
   "outputs": [
    {
     "data": {
      "text/html": [
       "<div>\n",
       "<style scoped>\n",
       "    .dataframe tbody tr th:only-of-type {\n",
       "        vertical-align: middle;\n",
       "    }\n",
       "\n",
       "    .dataframe tbody tr th {\n",
       "        vertical-align: top;\n",
       "    }\n",
       "\n",
       "    .dataframe thead th {\n",
       "        text-align: right;\n",
       "    }\n",
       "</style>\n",
       "<table border=\"1\" class=\"dataframe\">\n",
       "  <thead>\n",
       "    <tr style=\"text-align: right;\">\n",
       "      <th></th>\n",
       "      <th>Y1</th>\n",
       "      <th>Y2</th>\n",
       "      <th>Y</th>\n",
       "    </tr>\n",
       "    <tr>\n",
       "      <th>X</th>\n",
       "      <th></th>\n",
       "      <th></th>\n",
       "      <th></th>\n",
       "    </tr>\n",
       "  </thead>\n",
       "  <tbody>\n",
       "    <tr>\n",
       "      <th>0</th>\n",
       "      <td>0.213875</td>\n",
       "      <td>0.015753</td>\n",
       "      <td>0.229627</td>\n",
       "    </tr>\n",
       "    <tr>\n",
       "      <th>1</th>\n",
       "      <td>0.100926</td>\n",
       "      <td>0.037623</td>\n",
       "      <td>0.138549</td>\n",
       "    </tr>\n",
       "    <tr>\n",
       "      <th>2</th>\n",
       "      <td>0.046567</td>\n",
       "      <td>0.075821</td>\n",
       "      <td>0.122388</td>\n",
       "    </tr>\n",
       "  </tbody>\n",
       "</table>\n",
       "</div>"
      ],
      "text/plain": [
       "         Y1        Y2         Y\n",
       "X                              \n",
       "0  0.213875  0.015753  0.229627\n",
       "1  0.100926  0.037623  0.138549\n",
       "2  0.046567  0.075821  0.122388"
      ]
     },
     "execution_count": 77,
     "metadata": {},
     "output_type": "execute_result"
    }
   ],
   "source": [
    "df.groupby('X').mean()[['Y1', 'Y2', 'Y']]"
   ]
  },
  {
   "cell_type": "code",
   "execution_count": 78,
   "metadata": {},
   "outputs": [
    {
     "data": {
      "text/html": [
       "<div>\n",
       "<style scoped>\n",
       "    .dataframe tbody tr th:only-of-type {\n",
       "        vertical-align: middle;\n",
       "    }\n",
       "\n",
       "    .dataframe tbody tr th {\n",
       "        vertical-align: top;\n",
       "    }\n",
       "\n",
       "    .dataframe thead th {\n",
       "        text-align: right;\n",
       "    }\n",
       "</style>\n",
       "<table border=\"1\" class=\"dataframe\">\n",
       "  <thead>\n",
       "    <tr style=\"text-align: right;\">\n",
       "      <th></th>\n",
       "      <th>X</th>\n",
       "      <th>Y</th>\n",
       "      <th>Z_1</th>\n",
       "      <th>Z_2</th>\n",
       "      <th>Y1</th>\n",
       "      <th>Y2</th>\n",
       "    </tr>\n",
       "  </thead>\n",
       "  <tbody>\n",
       "    <tr>\n",
       "      <th>X</th>\n",
       "      <td>1.000000</td>\n",
       "      <td>-0.109143</td>\n",
       "      <td>-0.865280</td>\n",
       "      <td>-0.794974</td>\n",
       "      <td>-0.194512</td>\n",
       "      <td>0.120556</td>\n",
       "    </tr>\n",
       "    <tr>\n",
       "      <th>Y</th>\n",
       "      <td>-0.109143</td>\n",
       "      <td>1.000000</td>\n",
       "      <td>0.145894</td>\n",
       "      <td>0.072406</td>\n",
       "      <td>0.861295</td>\n",
       "      <td>0.482693</td>\n",
       "    </tr>\n",
       "    <tr>\n",
       "      <th>Z_1</th>\n",
       "      <td>-0.865280</td>\n",
       "      <td>0.145894</td>\n",
       "      <td>1.000000</td>\n",
       "      <td>0.705808</td>\n",
       "      <td>0.226358</td>\n",
       "      <td>-0.103150</td>\n",
       "    </tr>\n",
       "    <tr>\n",
       "      <th>Z_2</th>\n",
       "      <td>-0.794974</td>\n",
       "      <td>0.072406</td>\n",
       "      <td>0.705808</td>\n",
       "      <td>1.000000</td>\n",
       "      <td>0.157410</td>\n",
       "      <td>-0.128878</td>\n",
       "    </tr>\n",
       "    <tr>\n",
       "      <th>Y1</th>\n",
       "      <td>-0.194512</td>\n",
       "      <td>0.861295</td>\n",
       "      <td>0.226358</td>\n",
       "      <td>0.157410</td>\n",
       "      <td>1.000000</td>\n",
       "      <td>-0.029251</td>\n",
       "    </tr>\n",
       "    <tr>\n",
       "      <th>Y2</th>\n",
       "      <td>0.120556</td>\n",
       "      <td>0.482693</td>\n",
       "      <td>-0.103150</td>\n",
       "      <td>-0.128878</td>\n",
       "      <td>-0.029251</td>\n",
       "      <td>1.000000</td>\n",
       "    </tr>\n",
       "  </tbody>\n",
       "</table>\n",
       "</div>"
      ],
      "text/plain": [
       "            X         Y       Z_1       Z_2        Y1        Y2\n",
       "X    1.000000 -0.109143 -0.865280 -0.794974 -0.194512  0.120556\n",
       "Y   -0.109143  1.000000  0.145894  0.072406  0.861295  0.482693\n",
       "Z_1 -0.865280  0.145894  1.000000  0.705808  0.226358 -0.103150\n",
       "Z_2 -0.794974  0.072406  0.705808  1.000000  0.157410 -0.128878\n",
       "Y1  -0.194512  0.861295  0.226358  0.157410  1.000000 -0.029251\n",
       "Y2   0.120556  0.482693 -0.103150 -0.128878 -0.029251  1.000000"
      ]
     },
     "execution_count": 78,
     "metadata": {},
     "output_type": "execute_result"
    }
   ],
   "source": [
    "df.corr()"
   ]
  },
  {
   "cell_type": "code",
   "execution_count": 79,
   "metadata": {
    "scrolled": true
   },
   "outputs": [
    {
     "data": {
      "text/html": [
       "<table class=\"simpletable\">\n",
       "<caption>OLS Regression Results</caption>\n",
       "<tr>\n",
       "  <th>Dep. Variable:</th>            <td>Y</td>        <th>  R-squared:         </th> <td>   0.024</td>\n",
       "</tr>\n",
       "<tr>\n",
       "  <th>Model:</th>                   <td>OLS</td>       <th>  Adj. R-squared:    </th> <td>   0.023</td>\n",
       "</tr>\n",
       "<tr>\n",
       "  <th>Method:</th>             <td>Least Squares</td>  <th>  F-statistic:       </th> <td>   60.59</td>\n",
       "</tr>\n",
       "<tr>\n",
       "  <th>Date:</th>             <td>Mon, 25 May 2020</td> <th>  Prob (F-statistic):</th> <td>1.19e-50</td>\n",
       "</tr>\n",
       "<tr>\n",
       "  <th>Time:</th>                 <td>14:43:25</td>     <th>  Log-Likelihood:    </th> <td> -4905.6</td>\n",
       "</tr>\n",
       "<tr>\n",
       "  <th>No. Observations:</th>      <td> 10000</td>      <th>  AIC:               </th> <td>   9821.</td>\n",
       "</tr>\n",
       "<tr>\n",
       "  <th>Df Residuals:</th>          <td>  9995</td>      <th>  BIC:               </th> <td>   9857.</td>\n",
       "</tr>\n",
       "<tr>\n",
       "  <th>Df Model:</th>              <td>     4</td>      <th>                     </th>     <td> </td>   \n",
       "</tr>\n",
       "<tr>\n",
       "  <th>Covariance Type:</th>      <td>nonrobust</td>    <th>                     </th>     <td> </td>   \n",
       "</tr>\n",
       "</table>\n",
       "<table class=\"simpletable\">\n",
       "<tr>\n",
       "      <td></td>         <th>coef</th>     <th>std err</th>      <th>t</th>      <th>P>|t|</th>  <th>[0.025</th>    <th>0.975]</th>  \n",
       "</tr>\n",
       "<tr>\n",
       "  <th>expz2</th>     <td>    0.0838</td> <td>    0.045</td> <td>    1.866</td> <td> 0.062</td> <td>   -0.004</td> <td>    0.172</td>\n",
       "</tr>\n",
       "<tr>\n",
       "  <th>Z_2</th>       <td>   -0.0010</td> <td>    0.003</td> <td>   -0.367</td> <td> 0.713</td> <td>   -0.006</td> <td>    0.004</td>\n",
       "</tr>\n",
       "<tr>\n",
       "  <th>Z_1</th>       <td>    0.0114</td> <td>    0.001</td> <td>   10.228</td> <td> 0.000</td> <td>    0.009</td> <td>    0.014</td>\n",
       "</tr>\n",
       "<tr>\n",
       "  <th>X</th>         <td>    0.0070</td> <td>    0.012</td> <td>    0.571</td> <td> 0.568</td> <td>   -0.017</td> <td>    0.031</td>\n",
       "</tr>\n",
       "<tr>\n",
       "  <th>intercept</th> <td>   -0.0069</td> <td>    0.036</td> <td>   -0.194</td> <td> 0.846</td> <td>   -0.077</td> <td>    0.063</td>\n",
       "</tr>\n",
       "</table>\n",
       "<table class=\"simpletable\">\n",
       "<tr>\n",
       "  <th>Omnibus:</th>       <td>4486.508</td> <th>  Durbin-Watson:     </th> <td>   2.009</td> \n",
       "</tr>\n",
       "<tr>\n",
       "  <th>Prob(Omnibus):</th>  <td> 0.000</td>  <th>  Jarque-Bera (JB):  </th> <td>18379.923</td>\n",
       "</tr>\n",
       "<tr>\n",
       "  <th>Skew:</th>           <td> 2.280</td>  <th>  Prob(JB):          </th> <td>    0.00</td> \n",
       "</tr>\n",
       "<tr>\n",
       "  <th>Kurtosis:</th>       <td> 7.829</td>  <th>  Cond. No.          </th> <td>    203.</td> \n",
       "</tr>\n",
       "</table><br/><br/>Warnings:<br/>[1] Standard Errors assume that the covariance matrix of the errors is correctly specified."
      ],
      "text/plain": [
       "<class 'statsmodels.iolib.summary.Summary'>\n",
       "\"\"\"\n",
       "                            OLS Regression Results                            \n",
       "==============================================================================\n",
       "Dep. Variable:                      Y   R-squared:                       0.024\n",
       "Model:                            OLS   Adj. R-squared:                  0.023\n",
       "Method:                 Least Squares   F-statistic:                     60.59\n",
       "Date:                Mon, 25 May 2020   Prob (F-statistic):           1.19e-50\n",
       "Time:                        14:43:25   Log-Likelihood:                -4905.6\n",
       "No. Observations:               10000   AIC:                             9821.\n",
       "Df Residuals:                    9995   BIC:                             9857.\n",
       "Df Model:                           4                                         \n",
       "Covariance Type:            nonrobust                                         \n",
       "==============================================================================\n",
       "                 coef    std err          t      P>|t|      [0.025      0.975]\n",
       "------------------------------------------------------------------------------\n",
       "expz2          0.0838      0.045      1.866      0.062      -0.004       0.172\n",
       "Z_2           -0.0010      0.003     -0.367      0.713      -0.006       0.004\n",
       "Z_1            0.0114      0.001     10.228      0.000       0.009       0.014\n",
       "X              0.0070      0.012      0.571      0.568      -0.017       0.031\n",
       "intercept     -0.0069      0.036     -0.194      0.846      -0.077       0.063\n",
       "==============================================================================\n",
       "Omnibus:                     4486.508   Durbin-Watson:                   2.009\n",
       "Prob(Omnibus):                  0.000   Jarque-Bera (JB):            18379.923\n",
       "Skew:                           2.280   Prob(JB):                         0.00\n",
       "Kurtosis:                       7.829   Cond. No.                         203.\n",
       "==============================================================================\n",
       "\n",
       "Warnings:\n",
       "[1] Standard Errors assume that the covariance matrix of the errors is correctly specified.\n",
       "\"\"\""
      ]
     },
     "execution_count": 79,
     "metadata": {},
     "output_type": "execute_result"
    }
   ],
   "source": [
    "from statsmodels.api import OLS\n",
    "\n",
    "df['expz2'] = np.exp(-z2/tau)\n",
    "df['intercept'] = 1.\n",
    "model = OLS(endog=df['Y'], exog=df[['expz2', 'Z_2', 'Z_1', 'X', 'intercept']])\n",
    "\n",
    "result1 = model.fit()\n",
    "df['y_given_z2_x'] = result1.predict()\n",
    "result1.summary()"
   ]
  },
  {
   "cell_type": "code",
   "execution_count": 80,
   "metadata": {
    "scrolled": true
   },
   "outputs": [
    {
     "name": "stdout",
     "output_type": "stream",
     "text": [
      "Epoch 1/100\n",
      "10000/10000 [==============================] - 0s 5us/step - loss: 1.1389\n",
      "Epoch 2/100\n",
      "10000/10000 [==============================] - 0s 1us/step - loss: 0.7985\n",
      "Epoch 3/100\n",
      "10000/10000 [==============================] - 0s 1us/step - loss: 0.6532\n",
      "Epoch 4/100\n",
      "10000/10000 [==============================] - 0s 1us/step - loss: 0.5594\n",
      "Epoch 5/100\n",
      "10000/10000 [==============================] - 0s 1us/step - loss: 0.4914\n",
      "Epoch 6/100\n",
      "10000/10000 [==============================] - 0s 1us/step - loss: 0.4388\n",
      "Epoch 7/100\n",
      "10000/10000 [==============================] - 0s 1us/step - loss: 0.3965\n",
      "Epoch 8/100\n",
      "10000/10000 [==============================] - 0s 1us/step - loss: 0.3614\n",
      "Epoch 9/100\n",
      "10000/10000 [==============================] - 0s 1us/step - loss: 0.3322\n",
      "Epoch 10/100\n",
      "10000/10000 [==============================] - 0s 1us/step - loss: 0.3076\n",
      "Epoch 11/100\n",
      "10000/10000 [==============================] - 0s 1us/step - loss: 0.2867\n",
      "Epoch 12/100\n",
      "10000/10000 [==============================] - 0s 1us/step - loss: 0.2685\n",
      "Epoch 13/100\n",
      "10000/10000 [==============================] - 0s 1us/step - loss: 0.2530\n",
      "Epoch 14/100\n",
      "10000/10000 [==============================] - 0s 1us/step - loss: 0.2396\n",
      "Epoch 15/100\n",
      "10000/10000 [==============================] - 0s 1us/step - loss: 0.2281\n",
      "Epoch 16/100\n",
      "10000/10000 [==============================] - 0s 1us/step - loss: 0.2181\n",
      "Epoch 17/100\n",
      "10000/10000 [==============================] - 0s 1us/step - loss: 0.2094\n",
      "Epoch 18/100\n",
      "10000/10000 [==============================] - 0s 1us/step - loss: 0.2019\n",
      "Epoch 19/100\n",
      "10000/10000 [==============================] - 0s 1us/step - loss: 0.1954\n",
      "Epoch 20/100\n",
      "10000/10000 [==============================] - 0s 1us/step - loss: 0.1898\n",
      "Epoch 21/100\n",
      "10000/10000 [==============================] - 0s 1us/step - loss: 0.1850\n",
      "Epoch 22/100\n",
      "10000/10000 [==============================] - 0s 1us/step - loss: 0.1808\n",
      "Epoch 23/100\n",
      "10000/10000 [==============================] - 0s 1us/step - loss: 0.1772\n",
      "Epoch 24/100\n",
      "10000/10000 [==============================] - 0s 1us/step - loss: 0.1742\n",
      "Epoch 25/100\n",
      "10000/10000 [==============================] - 0s 1us/step - loss: 0.1716\n",
      "Epoch 26/100\n",
      "10000/10000 [==============================] - 0s 1us/step - loss: 0.1695\n",
      "Epoch 27/100\n",
      "10000/10000 [==============================] - 0s 1us/step - loss: 0.1676\n",
      "Epoch 28/100\n",
      "10000/10000 [==============================] - 0s 1us/step - loss: 0.1661\n",
      "Epoch 29/100\n",
      "10000/10000 [==============================] - 0s 1us/step - loss: 0.1648\n",
      "Epoch 30/100\n",
      "10000/10000 [==============================] - 0s 1us/step - loss: 0.1637\n",
      "Epoch 31/100\n",
      "10000/10000 [==============================] - 0s 1us/step - loss: 0.1628\n",
      "Epoch 32/100\n",
      "10000/10000 [==============================] - 0s 1us/step - loss: 0.1621\n",
      "Epoch 33/100\n",
      "10000/10000 [==============================] - 0s 1us/step - loss: 0.1615\n",
      "Epoch 34/100\n",
      "10000/10000 [==============================] - 0s 1us/step - loss: 0.1610\n",
      "Epoch 35/100\n",
      "10000/10000 [==============================] - 0s 1us/step - loss: 0.1605\n",
      "Epoch 36/100\n",
      "10000/10000 [==============================] - 0s 1us/step - loss: 0.1602\n",
      "Epoch 37/100\n",
      "10000/10000 [==============================] - 0s 1us/step - loss: 0.1599\n",
      "Epoch 38/100\n",
      "10000/10000 [==============================] - 0s 1us/step - loss: 0.1596\n",
      "Epoch 39/100\n",
      "10000/10000 [==============================] - 0s 1us/step - loss: 0.1593\n",
      "Epoch 40/100\n",
      "10000/10000 [==============================] - 0s 1us/step - loss: 0.1591\n",
      "Epoch 41/100\n",
      "10000/10000 [==============================] - 0s 1us/step - loss: 0.1589\n",
      "Epoch 42/100\n",
      "10000/10000 [==============================] - 0s 1us/step - loss: 0.1587\n",
      "Epoch 43/100\n",
      "10000/10000 [==============================] - 0s 1us/step - loss: 0.1585\n",
      "Epoch 44/100\n",
      "10000/10000 [==============================] - 0s 1us/step - loss: 0.1583\n",
      "Epoch 45/100\n",
      "10000/10000 [==============================] - 0s 1us/step - loss: 0.1582\n",
      "Epoch 46/100\n",
      "10000/10000 [==============================] - 0s 1us/step - loss: 0.1581\n",
      "Epoch 47/100\n",
      "10000/10000 [==============================] - 0s 1us/step - loss: 0.1580\n",
      "Epoch 48/100\n",
      "10000/10000 [==============================] - 0s 1us/step - loss: 0.1579\n",
      "Epoch 49/100\n",
      "10000/10000 [==============================] - 0s 1us/step - loss: 0.1578\n",
      "Epoch 50/100\n",
      "10000/10000 [==============================] - 0s 1us/step - loss: 0.1578\n",
      "Epoch 51/100\n",
      "10000/10000 [==============================] - 0s 1us/step - loss: 0.1577\n",
      "Epoch 52/100\n",
      "10000/10000 [==============================] - 0s 1us/step - loss: 0.1576\n",
      "Epoch 53/100\n",
      "10000/10000 [==============================] - 0s 1us/step - loss: 0.1576\n",
      "Epoch 54/100\n",
      "10000/10000 [==============================] - 0s 1us/step - loss: 0.1575\n",
      "Epoch 55/100\n",
      "10000/10000 [==============================] - 0s 1us/step - loss: 0.1575\n",
      "Epoch 56/100\n",
      "10000/10000 [==============================] - 0s 1us/step - loss: 0.1575\n",
      "Epoch 57/100\n",
      "10000/10000 [==============================] - 0s 1us/step - loss: 0.1575\n",
      "Epoch 58/100\n",
      "10000/10000 [==============================] - 0s 1us/step - loss: 0.1575\n",
      "Epoch 59/100\n",
      "10000/10000 [==============================] - 0s 1us/step - loss: 0.1575\n",
      "Epoch 60/100\n",
      "10000/10000 [==============================] - 0s 1us/step - loss: 0.1574\n",
      "Epoch 61/100\n",
      "10000/10000 [==============================] - 0s 1us/step - loss: 0.1574\n",
      "Epoch 62/100\n",
      "10000/10000 [==============================] - 0s 1us/step - loss: 0.1574\n",
      "Epoch 63/100\n",
      "10000/10000 [==============================] - 0s 1us/step - loss: 0.1574\n",
      "Epoch 64/100\n",
      "10000/10000 [==============================] - 0s 1us/step - loss: 0.1574\n",
      "Epoch 65/100\n",
      "10000/10000 [==============================] - 0s 1us/step - loss: 0.1574\n",
      "Epoch 66/100\n",
      "10000/10000 [==============================] - 0s 1us/step - loss: 0.1574\n",
      "Epoch 67/100\n",
      "10000/10000 [==============================] - 0s 1us/step - loss: 0.1574\n",
      "Epoch 68/100\n",
      "10000/10000 [==============================] - 0s 1us/step - loss: 0.1574\n",
      "Epoch 69/100\n",
      "10000/10000 [==============================] - 0s 1us/step - loss: 0.1573\n",
      "Epoch 70/100\n",
      "10000/10000 [==============================] - 0s 1us/step - loss: 0.1574\n",
      "Epoch 71/100\n",
      "10000/10000 [==============================] - 0s 1us/step - loss: 0.1573\n",
      "Epoch 72/100\n",
      "10000/10000 [==============================] - 0s 1us/step - loss: 0.1573\n",
      "Epoch 73/100\n",
      "10000/10000 [==============================] - 0s 1us/step - loss: 0.1573\n",
      "Epoch 74/100\n",
      "10000/10000 [==============================] - 0s 1us/step - loss: 0.1573\n",
      "Epoch 75/100\n",
      "10000/10000 [==============================] - 0s 1us/step - loss: 0.1573\n",
      "Epoch 76/100\n",
      "10000/10000 [==============================] - 0s 1us/step - loss: 0.1573\n",
      "Epoch 77/100\n",
      "10000/10000 [==============================] - 0s 1us/step - loss: 0.1573\n",
      "Epoch 78/100\n",
      "10000/10000 [==============================] - 0s 1us/step - loss: 0.1572\n",
      "Epoch 79/100\n",
      "10000/10000 [==============================] - 0s 1us/step - loss: 0.1572\n",
      "Epoch 80/100\n",
      "10000/10000 [==============================] - 0s 1us/step - loss: 0.1572\n",
      "Epoch 81/100\n",
      "10000/10000 [==============================] - 0s 1us/step - loss: 0.1572\n",
      "Epoch 82/100\n",
      "10000/10000 [==============================] - 0s 1us/step - loss: 0.1572\n",
      "Epoch 83/100\n",
      "10000/10000 [==============================] - 0s 1us/step - loss: 0.1572\n",
      "Epoch 84/100\n",
      "10000/10000 [==============================] - 0s 1us/step - loss: 0.1573\n",
      "Epoch 85/100\n",
      "10000/10000 [==============================] - 0s 1us/step - loss: 0.1572\n",
      "Epoch 86/100\n",
      "10000/10000 [==============================] - 0s 1us/step - loss: 0.1572\n",
      "Epoch 87/100\n",
      "10000/10000 [==============================] - 0s 1us/step - loss: 0.1572\n",
      "Epoch 88/100\n",
      "10000/10000 [==============================] - 0s 1us/step - loss: 0.1572\n",
      "Epoch 89/100\n",
      "10000/10000 [==============================] - 0s 1us/step - loss: 0.1572\n",
      "Epoch 90/100\n",
      "10000/10000 [==============================] - 0s 1us/step - loss: 0.1572\n",
      "Epoch 91/100\n",
      "10000/10000 [==============================] - 0s 1us/step - loss: 0.1572\n",
      "Epoch 92/100\n",
      "10000/10000 [==============================] - 0s 1us/step - loss: 0.1573\n",
      "Epoch 93/100\n",
      "10000/10000 [==============================] - 0s 1us/step - loss: 0.1571\n",
      "Epoch 94/100\n",
      "10000/10000 [==============================] - 0s 1us/step - loss: 0.1571\n",
      "Epoch 95/100\n"
     ]
    },
    {
     "name": "stdout",
     "output_type": "stream",
     "text": [
      "10000/10000 [==============================] - 0s 1us/step - loss: 0.1571\n",
      "Epoch 96/100\n",
      "10000/10000 [==============================] - 0s 1us/step - loss: 0.1572\n",
      "Epoch 97/100\n",
      "10000/10000 [==============================] - 0s 1us/step - loss: 0.1571\n",
      "Epoch 98/100\n",
      "10000/10000 [==============================] - 0s 1us/step - loss: 0.1571\n",
      "Epoch 99/100\n",
      "10000/10000 [==============================] - 0s 1us/step - loss: 0.1571\n",
      "Epoch 100/100\n",
      "10000/10000 [==============================] - 0s 1us/step - loss: 0.1571\n"
     ]
    },
    {
     "data": {
      "text/plain": [
       "<keras.callbacks.callbacks.History at 0x7f1ad41fd208>"
      ]
     },
     "execution_count": 80,
     "metadata": {},
     "output_type": "execute_result"
    }
   ],
   "source": [
    "import keras\n",
    "from keras.models import Model\n",
    "from keras.layers import Dense, Input, Concatenate, Add\n",
    "import tensorflow as tf\n",
    "\n",
    "\n",
    "z1_in = Input(shape=(2,))\n",
    "h11 = Dense(8, activation='tanh')(z1_in)\n",
    "h12 = Dense(8, activation='tanh')(h11)\n",
    "y1 = Dense(1, activation='linear')(h12)\n",
    "\n",
    "#z2_in = Input(shape=(2,))\n",
    "#h21 = Dense(8, activation='tanh')(z2_in)\n",
    "#h22 = Dense(8, activation='tanh')(h21)\n",
    "#y2 = Dense(1, activation='exponential')(h22)\n",
    "\n",
    "\n",
    "#y_out = Add()([y1, y2])\n",
    "#y_out = Dense(1, activation='linear')(h)\n",
    "\n",
    "\n",
    "model = Model(inputs=[z1_in], outputs=[y1])\n",
    "model.compile('RMSProp', loss='mse')\n",
    "\n",
    "model.fit([df[['Z_1', 'X']], ], df['Y'], epochs=100, batch_size=4096)"
   ]
  },
  {
   "cell_type": "code",
   "execution_count": 180,
   "metadata": {
    "scrolled": true
   },
   "outputs": [
    {
     "name": "stdout",
     "output_type": "stream",
     "text": [
      "Epoch 1/100\n",
      "1000000/1000000 [==============================] - 1s 1us/step - loss: 0.1932\n",
      "Epoch 2/100\n",
      "1000000/1000000 [==============================] - 1s 1us/step - loss: 0.1580\n",
      "Epoch 3/100\n",
      "1000000/1000000 [==============================] - 1s 1us/step - loss: 0.1575\n",
      "Epoch 4/100\n",
      "1000000/1000000 [==============================] - 1s 1us/step - loss: 0.1574\n",
      "Epoch 5/100\n",
      "1000000/1000000 [==============================] - 1s 1us/step - loss: 0.1574\n",
      "Epoch 6/100\n",
      "1000000/1000000 [==============================] - 1s 1us/step - loss: 0.1574\n",
      "Epoch 7/100\n",
      "1000000/1000000 [==============================] - 1s 1us/step - loss: 0.1573\n",
      "Epoch 8/100\n",
      "1000000/1000000 [==============================] - 1s 1us/step - loss: 0.1573\n",
      "Epoch 9/100\n",
      "1000000/1000000 [==============================] - 1s 1us/step - loss: 0.1573\n",
      "Epoch 10/100\n",
      "1000000/1000000 [==============================] - 1s 1us/step - loss: 0.1572\n",
      "Epoch 11/100\n",
      "1000000/1000000 [==============================] - 1s 1us/step - loss: 0.1572\n",
      "Epoch 12/100\n",
      "1000000/1000000 [==============================] - 1s 1us/step - loss: 0.1572\n",
      "Epoch 13/100\n",
      "1000000/1000000 [==============================] - 1s 1us/step - loss: 0.1573\n",
      "Epoch 14/100\n",
      "1000000/1000000 [==============================] - 1s 1us/step - loss: 0.1572\n",
      "Epoch 15/100\n",
      "1000000/1000000 [==============================] - 1s 1us/step - loss: 0.1572\n",
      "Epoch 16/100\n",
      "1000000/1000000 [==============================] - 1s 1us/step - loss: 0.1572\n",
      "Epoch 17/100\n",
      "1000000/1000000 [==============================] - 1s 1us/step - loss: 0.1572\n",
      "Epoch 18/100\n",
      "1000000/1000000 [==============================] - 1s 1us/step - loss: 0.1572\n",
      "Epoch 19/100\n",
      "1000000/1000000 [==============================] - 1s 1us/step - loss: 0.1572\n",
      "Epoch 20/100\n",
      "1000000/1000000 [==============================] - 1s 1us/step - loss: 0.1572\n",
      "Epoch 21/100\n",
      "1000000/1000000 [==============================] - 1s 1us/step - loss: 0.1572\n",
      "Epoch 22/100\n",
      "1000000/1000000 [==============================] - 1s 1us/step - loss: 0.1571\n",
      "Epoch 23/100\n",
      "1000000/1000000 [==============================] - 1s 1us/step - loss: 0.1572\n",
      "Epoch 24/100\n",
      "1000000/1000000 [==============================] - 1s 1us/step - loss: 0.1571\n",
      "Epoch 25/100\n",
      "1000000/1000000 [==============================] - 1s 1us/step - loss: 0.1571\n",
      "Epoch 26/100\n",
      "1000000/1000000 [==============================] - 1s 1us/step - loss: 0.1571\n",
      "Epoch 27/100\n",
      "1000000/1000000 [==============================] - 1s 1us/step - loss: 0.1571\n",
      "Epoch 28/100\n",
      "1000000/1000000 [==============================] - 1s 1us/step - loss: 0.1571\n",
      "Epoch 29/100\n",
      "1000000/1000000 [==============================] - 1s 1us/step - loss: 0.1571\n",
      "Epoch 30/100\n",
      "1000000/1000000 [==============================] - 1s 1us/step - loss: 0.1571\n",
      "Epoch 31/100\n",
      "1000000/1000000 [==============================] - 1s 1us/step - loss: 0.1571\n",
      "Epoch 32/100\n",
      "1000000/1000000 [==============================] - 1s 1us/step - loss: 0.1571\n",
      "Epoch 33/100\n",
      "1000000/1000000 [==============================] - 1s 1us/step - loss: 0.1571\n",
      "Epoch 34/100\n",
      "1000000/1000000 [==============================] - 1s 1us/step - loss: 0.1571\n",
      "Epoch 35/100\n",
      "1000000/1000000 [==============================] - 1s 1us/step - loss: 0.1571\n",
      "Epoch 36/100\n",
      "1000000/1000000 [==============================] - 1s 1us/step - loss: 0.1571\n",
      "Epoch 37/100\n",
      "1000000/1000000 [==============================] - 1s 1us/step - loss: 0.1571\n",
      "Epoch 38/100\n",
      "1000000/1000000 [==============================] - 1s 1us/step - loss: 0.1571\n",
      "Epoch 39/100\n",
      "1000000/1000000 [==============================] - 1s 1us/step - loss: 0.1571\n",
      "Epoch 40/100\n",
      "1000000/1000000 [==============================] - 1s 1us/step - loss: 0.1571\n",
      "Epoch 41/100\n",
      "1000000/1000000 [==============================] - 1s 1us/step - loss: 0.1571\n",
      "Epoch 42/100\n",
      "1000000/1000000 [==============================] - 1s 1us/step - loss: 0.1571\n",
      "Epoch 43/100\n",
      "1000000/1000000 [==============================] - 1s 1us/step - loss: 0.1571\n",
      "Epoch 44/100\n",
      "1000000/1000000 [==============================] - 1s 1us/step - loss: 0.1571\n",
      "Epoch 45/100\n",
      "1000000/1000000 [==============================] - 1s 1us/step - loss: 0.1571\n",
      "Epoch 46/100\n",
      "1000000/1000000 [==============================] - 1s 1us/step - loss: 0.1571\n",
      "Epoch 47/100\n",
      "1000000/1000000 [==============================] - 1s 1us/step - loss: 0.1571\n",
      "Epoch 48/100\n",
      "1000000/1000000 [==============================] - 1s 1us/step - loss: 0.1571\n",
      "Epoch 49/100\n",
      "1000000/1000000 [==============================] - 1s 1us/step - loss: 0.1571\n",
      "Epoch 50/100\n",
      "1000000/1000000 [==============================] - 1s 1us/step - loss: 0.1571\n",
      "Epoch 51/100\n",
      "1000000/1000000 [==============================] - 1s 1us/step - loss: 0.1571\n",
      "Epoch 52/100\n",
      "1000000/1000000 [==============================] - 1s 1us/step - loss: 0.1571\n",
      "Epoch 53/100\n",
      "1000000/1000000 [==============================] - 1s 1us/step - loss: 0.1571\n",
      "Epoch 54/100\n",
      "1000000/1000000 [==============================] - 1s 1us/step - loss: 0.1571\n",
      "Epoch 55/100\n",
      "1000000/1000000 [==============================] - 1s 1us/step - loss: 0.1571\n",
      "Epoch 56/100\n",
      "1000000/1000000 [==============================] - 1s 1us/step - loss: 0.1571\n",
      "Epoch 57/100\n",
      "1000000/1000000 [==============================] - 1s 1us/step - loss: 0.1571\n",
      "Epoch 58/100\n",
      "1000000/1000000 [==============================] - 1s 1us/step - loss: 0.1571\n",
      "Epoch 59/100\n",
      "1000000/1000000 [==============================] - 1s 1us/step - loss: 0.1571\n",
      "Epoch 60/100\n",
      "1000000/1000000 [==============================] - 1s 1us/step - loss: 0.1571\n",
      "Epoch 61/100\n",
      "1000000/1000000 [==============================] - 1s 1us/step - loss: 0.1571\n",
      "Epoch 62/100\n",
      "1000000/1000000 [==============================] - 1s 1us/step - loss: 0.1571\n",
      "Epoch 63/100\n",
      "1000000/1000000 [==============================] - 1s 1us/step - loss: 0.1571\n",
      "Epoch 64/100\n",
      "1000000/1000000 [==============================] - 1s 1us/step - loss: 0.1571\n",
      "Epoch 65/100\n",
      "1000000/1000000 [==============================] - 1s 1us/step - loss: 0.1571\n",
      "Epoch 66/100\n",
      "1000000/1000000 [==============================] - 1s 1us/step - loss: 0.1571\n",
      "Epoch 67/100\n",
      "1000000/1000000 [==============================] - 1s 1us/step - loss: 0.1571\n",
      "Epoch 68/100\n",
      "1000000/1000000 [==============================] - 1s 1us/step - loss: 0.1571\n",
      "Epoch 69/100\n",
      "1000000/1000000 [==============================] - 1s 1us/step - loss: 0.1570\n",
      "Epoch 70/100\n",
      "1000000/1000000 [==============================] - 1s 1us/step - loss: 0.1571\n",
      "Epoch 71/100\n",
      "1000000/1000000 [==============================] - 1s 1us/step - loss: 0.1571\n",
      "Epoch 72/100\n",
      "1000000/1000000 [==============================] - 1s 1us/step - loss: 0.1571\n",
      "Epoch 73/100\n",
      "1000000/1000000 [==============================] - 1s 1us/step - loss: 0.1571\n",
      "Epoch 74/100\n",
      "1000000/1000000 [==============================] - 1s 1us/step - loss: 0.1571\n",
      "Epoch 75/100\n",
      "1000000/1000000 [==============================] - 1s 1us/step - loss: 0.1571\n",
      "Epoch 76/100\n",
      "1000000/1000000 [==============================] - 1s 1us/step - loss: 0.1570\n",
      "Epoch 77/100\n",
      "1000000/1000000 [==============================] - 1s 1us/step - loss: 0.1571\n",
      "Epoch 78/100\n",
      "1000000/1000000 [==============================] - 1s 1us/step - loss: 0.1570\n",
      "Epoch 79/100\n",
      "1000000/1000000 [==============================] - 1s 1us/step - loss: 0.1570\n",
      "Epoch 80/100\n",
      "1000000/1000000 [==============================] - 1s 1us/step - loss: 0.1570\n",
      "Epoch 81/100\n",
      "1000000/1000000 [==============================] - 1s 1us/step - loss: 0.1570\n",
      "Epoch 82/100\n",
      "1000000/1000000 [==============================] - 1s 1us/step - loss: 0.1570\n",
      "Epoch 83/100\n",
      "1000000/1000000 [==============================] - 1s 1us/step - loss: 0.1570\n",
      "Epoch 84/100\n",
      "1000000/1000000 [==============================] - 1s 1us/step - loss: 0.1570\n",
      "Epoch 85/100\n",
      "1000000/1000000 [==============================] - 1s 1us/step - loss: 0.1570\n",
      "Epoch 86/100\n",
      "1000000/1000000 [==============================] - 1s 1us/step - loss: 0.1570\n",
      "Epoch 87/100\n",
      "1000000/1000000 [==============================] - 1s 1us/step - loss: 0.1570\n",
      "Epoch 88/100\n",
      "1000000/1000000 [==============================] - 1s 1us/step - loss: 0.1570\n",
      "Epoch 89/100\n",
      "1000000/1000000 [==============================] - 1s 1us/step - loss: 0.1570\n",
      "Epoch 90/100\n",
      "1000000/1000000 [==============================] - 1s 1us/step - loss: 0.1570\n",
      "Epoch 91/100\n"
     ]
    },
    {
     "name": "stdout",
     "output_type": "stream",
     "text": [
      "1000000/1000000 [==============================] - 1s 1us/step - loss: 0.1570\n",
      "Epoch 92/100\n",
      "1000000/1000000 [==============================] - 1s 1us/step - loss: 0.1570\n",
      "Epoch 93/100\n",
      "1000000/1000000 [==============================] - 1s 1us/step - loss: 0.1570\n",
      "Epoch 94/100\n",
      "1000000/1000000 [==============================] - 1s 1us/step - loss: 0.1570\n",
      "Epoch 95/100\n",
      "1000000/1000000 [==============================] - 1s 1us/step - loss: 0.1570\n",
      "Epoch 96/100\n",
      "1000000/1000000 [==============================] - 1s 1us/step - loss: 0.1570\n",
      "Epoch 97/100\n",
      "1000000/1000000 [==============================] - 1s 1us/step - loss: 0.1570\n",
      "Epoch 98/100\n",
      "1000000/1000000 [==============================] - 1s 1us/step - loss: 0.1570\n",
      "Epoch 99/100\n",
      "1000000/1000000 [==============================] - 1s 1us/step - loss: 0.1570\n",
      "Epoch 100/100\n",
      "1000000/1000000 [==============================] - 1s 1us/step - loss: 0.1570\n"
     ]
    },
    {
     "data": {
      "text/plain": [
       "<keras.callbacks.callbacks.History at 0x7f180d141ac8>"
      ]
     },
     "execution_count": 180,
     "metadata": {},
     "output_type": "execute_result"
    }
   ],
   "source": [
    "import keras\n",
    "from keras.models import Model\n",
    "from keras.layers import Dense, Input, Concatenate, Add\n",
    "import tensorflow as tf\n",
    "\n",
    "\n",
    "x_in = Input(shape=(1,))\n",
    "h01 = Dense(8, activation='tanh')(x_in)\n",
    "h02 = Dense(8, activation='tanh')(h01)\n",
    "y0 = Dense(1, activation='exponential')(h02)\n",
    "\n",
    "z2_in = Input(shape=(2,))\n",
    "h21 = Dense(8, activation='tanh')(z2_in)\n",
    "h22 = Dense(8, activation='tanh')(h21)\n",
    "h23 = Dense(8, activation='tanh')(h22)\n",
    "y2 = Dense(1, activation='linear')(h23)\n",
    "\n",
    "\n",
    "y_out = Add()([y0, y2])\n",
    "\n",
    "\n",
    "model = Model(inputs=[z2_in, x_in], outputs=y_out)\n",
    "model.compile('RMSProp', loss='mse')\n",
    "\n",
    "model.fit([df[['Z_2', 'X']], df[['X']]], df['Y'], epochs=100, batch_size=2*4096)"
   ]
  },
  {
   "cell_type": "code",
   "execution_count": 222,
   "metadata": {},
   "outputs": [],
   "source": [
    "#model = Model(inputs=[z1_in, ], outputs=[y1, y2])\n",
    "#model.compile('RMSProp', loss='mse')\n"
   ]
  },
  {
   "cell_type": "code",
   "execution_count": 171,
   "metadata": {},
   "outputs": [
    {
     "data": {
      "text/plain": [
       "array([[<matplotlib.axes._subplots.AxesSubplot object at 0x7f180d337320>]],\n",
       "      dtype=object)"
      ]
     },
     "execution_count": 171,
     "metadata": {},
     "output_type": "execute_result"
    },
    {
     "data": {
      "image/png": "[encoded data removed]",
      "text/plain": [
       "<Figure size 432x288 with 1 Axes>"
      ]
     },
     "metadata": {
      "needs_background": "light"
     },
     "output_type": "display_data"
    }
   ],
   "source": [
    "pd.DataFrame(model.predict([df[['Z_2', 'X']], df[['X']]])).hist(bins=100)"
   ]
  },
  {
   "cell_type": "code",
   "execution_count": 168,
   "metadata": {},
   "outputs": [
    {
     "data": {
      "text/plain": [
       "<matplotlib.axes._subplots.AxesSubplot at 0x7f180d58e898>"
      ]
     },
     "execution_count": 168,
     "metadata": {},
     "output_type": "execute_result"
    },
    {
     "data": {
      "image/png": "[encoded data removed]",
      "text/plain": [
       "<Figure size 432x288 with 1 Axes>"
      ]
     },
     "metadata": {
      "needs_background": "light"
     },
     "output_type": "display_data"
    }
   ],
   "source": [
    "df.Y.hist(bins=100)"
   ]
  },
  {
   "cell_type": "code",
   "execution_count": 131,
   "metadata": {
    "scrolled": true
   },
   "outputs": [
    {
     "data": {
      "text/html": [
       "<div>\n",
       "<style scoped>\n",
       "    .dataframe tbody tr th:only-of-type {\n",
       "        vertical-align: middle;\n",
       "    }\n",
       "\n",
       "    .dataframe tbody tr th {\n",
       "        vertical-align: top;\n",
       "    }\n",
       "\n",
       "    .dataframe thead th {\n",
       "        text-align: right;\n",
       "    }\n",
       "</style>\n",
       "<table border=\"1\" class=\"dataframe\">\n",
       "  <thead>\n",
       "    <tr style=\"text-align: right;\">\n",
       "      <th></th>\n",
       "      <th>0</th>\n",
       "    </tr>\n",
       "  </thead>\n",
       "  <tbody>\n",
       "    <tr>\n",
       "      <th>count</th>\n",
       "      <td>1000000.000000</td>\n",
       "    </tr>\n",
       "    <tr>\n",
       "      <th>mean</th>\n",
       "      <td>0.151256</td>\n",
       "    </tr>\n",
       "    <tr>\n",
       "      <th>std</th>\n",
       "      <td>0.047117</td>\n",
       "    </tr>\n",
       "    <tr>\n",
       "      <th>min</th>\n",
       "      <td>0.068175</td>\n",
       "    </tr>\n",
       "    <tr>\n",
       "      <th>25%</th>\n",
       "      <td>0.113392</td>\n",
       "    </tr>\n",
       "    <tr>\n",
       "      <th>50%</th>\n",
       "      <td>0.134442</td>\n",
       "    </tr>\n",
       "    <tr>\n",
       "      <th>75%</th>\n",
       "      <td>0.208294</td>\n",
       "    </tr>\n",
       "    <tr>\n",
       "      <th>max</th>\n",
       "      <td>0.273516</td>\n",
       "    </tr>\n",
       "  </tbody>\n",
       "</table>\n",
       "</div>"
      ],
      "text/plain": [
       "                    0\n",
       "count  1000000.000000\n",
       "mean         0.151256\n",
       "std          0.047117\n",
       "min          0.068175\n",
       "25%          0.113392\n",
       "50%          0.134442\n",
       "75%          0.208294\n",
       "max          0.273516"
      ]
     },
     "execution_count": 131,
     "metadata": {},
     "output_type": "execute_result"
    }
   ],
   "source": [
    "pd.DataFrame(model.predict(df[['Z_2', 'X']])).describe()"
   ]
  },
  {
   "cell_type": "code",
   "execution_count": 20,
   "metadata": {},
   "outputs": [],
   "source": [
    "from statsmodels.nonparametric.kernel_density import KDEMultivariateConditional\n",
    "\n",
    "p_z1_given_x = KDEMultivariateConditional(endog=df[['Z_1']], exog=df[['X']], \n",
    "                                          dep_type='c', indep_type='u', \n",
    "                                          bw='normal_reference')"
   ]
  },
  {
   "cell_type": "code",
   "execution_count": 106,
   "metadata": {},
   "outputs": [],
   "source": [
    "p_z2_given_x = KDEMultivariateConditional(endog=df[['Z_2']], exog=df[['X']], \n",
    "                                          dep_type='c', indep_type='u', \n",
    "                                          bw='normal_reference')\n"
   ]
  },
  {
   "cell_type": "code",
   "execution_count": 107,
   "metadata": {
    "scrolled": true
   },
   "outputs": [],
   "source": [
    "df['p_z2_given_x'] = p_z2_given_x.pdf()\n",
    "#df['p_z1_given_x'] = p_z1_given_x.pdf()"
   ]
  },
  {
   "cell_type": "code",
   "execution_count": 108,
   "metadata": {},
   "outputs": [
    {
     "data": {
      "text/plain": [
       "<matplotlib.axes._subplots.AxesSubplot at 0x7f1acc15df98>"
      ]
     },
     "execution_count": 108,
     "metadata": {},
     "output_type": "execute_result"
    },
    {
     "data": {
      "image/png": "[encoded data removed]",
      "text/plain": [
       "<Figure size 432x288 with 1 Axes>"
      ]
     },
     "metadata": {
      "needs_background": "light"
     },
     "output_type": "display_data"
    }
   ],
   "source": [
    "df[df.X==1].plot(x='Z_2', y='p_z2_given_x', kind='scatter')"
   ]
  },
  {
   "cell_type": "code",
   "execution_count": 109,
   "metadata": {},
   "outputs": [
    {
     "data": {
      "text/plain": [
       "<matplotlib.axes._subplots.AxesSubplot at 0x7f1acc0e5400>"
      ]
     },
     "execution_count": 109,
     "metadata": {},
     "output_type": "execute_result"
    },
    {
     "data": {
      "image/png": "[encoded data removed]",
      "text/plain": [
       "<Figure size 432x288 with 1 Axes>"
      ]
     },
     "metadata": {
      "needs_background": "light"
     },
     "output_type": "display_data"
    }
   ],
   "source": [
    "df[df.X==2].plot(x='Z_2', y='p_z2_given_x', kind='scatter')"
   ]
  },
  {
   "cell_type": "code",
   "execution_count": 135,
   "metadata": {},
   "outputs": [],
   "source": [
    "px = df.groupby('X').count()"
   ]
  },
  {
   "cell_type": "code",
   "execution_count": 136,
   "metadata": {},
   "outputs": [
    {
     "data": {
      "text/html": [
       "<div>\n",
       "<style scoped>\n",
       "    .dataframe tbody tr th:only-of-type {\n",
       "        vertical-align: middle;\n",
       "    }\n",
       "\n",
       "    .dataframe tbody tr th {\n",
       "        vertical-align: top;\n",
       "    }\n",
       "\n",
       "    .dataframe thead th {\n",
       "        text-align: right;\n",
       "    }\n",
       "</style>\n",
       "<table border=\"1\" class=\"dataframe\">\n",
       "  <thead>\n",
       "    <tr style=\"text-align: right;\">\n",
       "      <th></th>\n",
       "      <th>Y</th>\n",
       "      <th>Z_1</th>\n",
       "      <th>Z_2</th>\n",
       "      <th>Y1</th>\n",
       "      <th>Y2</th>\n",
       "    </tr>\n",
       "    <tr>\n",
       "      <th>X</th>\n",
       "      <th></th>\n",
       "      <th></th>\n",
       "      <th></th>\n",
       "      <th></th>\n",
       "      <th></th>\n",
       "    </tr>\n",
       "  </thead>\n",
       "  <tbody>\n",
       "    <tr>\n",
       "      <th>0</th>\n",
       "      <td>0.332772</td>\n",
       "      <td>0.332772</td>\n",
       "      <td>0.332772</td>\n",
       "      <td>0.332772</td>\n",
       "      <td>0.332772</td>\n",
       "    </tr>\n",
       "    <tr>\n",
       "      <th>1</th>\n",
       "      <td>0.334128</td>\n",
       "      <td>0.334128</td>\n",
       "      <td>0.334128</td>\n",
       "      <td>0.334128</td>\n",
       "      <td>0.334128</td>\n",
       "    </tr>\n",
       "    <tr>\n",
       "      <th>2</th>\n",
       "      <td>0.333100</td>\n",
       "      <td>0.333100</td>\n",
       "      <td>0.333100</td>\n",
       "      <td>0.333100</td>\n",
       "      <td>0.333100</td>\n",
       "    </tr>\n",
       "  </tbody>\n",
       "</table>\n",
       "</div>"
      ],
      "text/plain": [
       "          Y       Z_1       Z_2        Y1        Y2\n",
       "X                                                  \n",
       "0  0.332772  0.332772  0.332772  0.332772  0.332772\n",
       "1  0.334128  0.334128  0.334128  0.334128  0.334128\n",
       "2  0.333100  0.333100  0.333100  0.333100  0.333100"
      ]
     },
     "execution_count": 136,
     "metadata": {},
     "output_type": "execute_result"
    }
   ],
   "source": [
    "px / len(df)"
   ]
  },
  {
   "cell_type": "code",
   "execution_count": 28,
   "metadata": {},
   "outputs": [
    {
     "data": {
      "text/plain": [
       "(0.1726583270591865, 1.0014837987671325e-09)"
      ]
     },
     "execution_count": 28,
     "metadata": {},
     "output_type": "execute_result"
    }
   ],
   "source": [
    "from scipy.integrate import quad\n",
    "\n",
    "def integrand(z1, x=0):\n",
    "    f1 = float(p_z1_given_x.pdf(endog_predict=[z1], exog_predict=[x]))\n",
    "    the_sum = 0.\n",
    "    for xp in df.X.unique():\n",
    "        y1 = model.predict([[[z1, xp]], ])[0][0]#[0]\n",
    "        p_x = 1/3.\n",
    "        the_sum += y1 * p_x\n",
    "    return the_sum*f1\n",
    "        \n",
    "quad(lambda z: integrand(z, x=0.), df.Z_1.min(), df.Z_1.max())"
   ]
  },
  {
   "cell_type": "code",
   "execution_count": 29,
   "metadata": {},
   "outputs": [
    {
     "data": {
      "text/plain": [
       "(0.14483949894912676, 1.4948802073663339e-09)"
      ]
     },
     "execution_count": 29,
     "metadata": {},
     "output_type": "execute_result"
    }
   ],
   "source": [
    "quad(lambda z: integrand(z, x=1.), df.Z_1.min(), df.Z_1.max())"
   ]
  },
  {
   "cell_type": "code",
   "execution_count": 30,
   "metadata": {},
   "outputs": [
    {
     "data": {
      "text/plain": [
       "(0.13108154590730867, 1.783828906758004e-09)"
      ]
     },
     "execution_count": 30,
     "metadata": {},
     "output_type": "execute_result"
    }
   ],
   "source": [
    "quad(lambda z: integrand(z, x=2.), df.Z_1.min(), df.Z_1.max())"
   ]
  },
  {
   "cell_type": "code",
   "execution_count": 172,
   "metadata": {},
   "outputs": [
    {
     "data": {
      "text/plain": [
       "0.1365698334092837"
      ]
     },
     "execution_count": 172,
     "metadata": {},
     "output_type": "execute_result"
    }
   ],
   "source": [
    "from scipy.integrate import quad\n",
    "\n",
    "def integrand(z2, x=0):\n",
    "    f1 = float(p_z2_given_x.pdf(endog_predict=[z2], exog_predict=[x]))\n",
    "    the_sum = 0.\n",
    "    for xp in df.X.unique():\n",
    "        y2 = model.predict([[[z2, xp]], [xp,]])\n",
    "        p_x = 1/3.\n",
    "        the_sum += y2 * p_x\n",
    "    return the_sum*f1\n",
    "        \n",
    "y_2_0 = quad(lambda z: integrand(z, x=0.), \n",
    "         df.Z_2.min() - 0.1 * df.Z_2.min() , \n",
    "         df.Z_2.max() + 0.1*df.Z_2.max())[0]\n",
    "y_2_0"
   ]
  },
  {
   "cell_type": "code",
   "execution_count": 173,
   "metadata": {},
   "outputs": [
    {
     "data": {
      "text/plain": [
       "0.15941882349137254"
      ]
     },
     "execution_count": 173,
     "metadata": {},
     "output_type": "execute_result"
    }
   ],
   "source": [
    "y_2_1 =quad(lambda z: integrand(z, x=1.),  \n",
    "         df.Z_2.min() - 0.1 * df.Z_2.min() , \n",
    "         df.Z_2.max() + 0.1*df.Z_2.max())[0]\n",
    "y_2_1"
   ]
  },
  {
   "cell_type": "code",
   "execution_count": 174,
   "metadata": {},
   "outputs": [
    {
     "data": {
      "text/plain": [
       "0.17570155727133313"
      ]
     },
     "execution_count": 174,
     "metadata": {},
     "output_type": "execute_result"
    }
   ],
   "source": [
    "y_2_2 =quad(lambda z: integrand(z, x=2.),  \n",
    "         df.Z_2.min() - 0.1 * df.Z_2.min() , \n",
    "         df.Z_2.max() + 0.1*df.Z_2.max())[0]\n",
    "y_2_2"
   ]
  },
  {
   "cell_type": "code",
   "execution_count": 175,
   "metadata": {},
   "outputs": [
    {
     "data": {
      "text/plain": [
       "X\n",
       "0    0.016092\n",
       "1    0.040191\n",
       "2    0.069487\n",
       "Name: Y2, dtype: float64"
      ]
     },
     "execution_count": 175,
     "metadata": {},
     "output_type": "execute_result"
    }
   ],
   "source": [
    "df.groupby('X').mean()[['Y1', 'Y2', 'Y']]['Y2']"
   ]
  },
  {
   "cell_type": "code",
   "execution_count": 176,
   "metadata": {},
   "outputs": [
    {
     "data": {
      "text/plain": [
       "0.029295456431626836"
      ]
     },
     "execution_count": 176,
     "metadata": {},
     "output_type": "execute_result"
    }
   ],
   "source": [
    "df.groupby('X').mean()[['Y1', 'Y2', 'Y']]['Y2'][2] - df.groupby('X').mean()[['Y1', 'Y2', 'Y']]['Y2'][1]"
   ]
  },
  {
   "cell_type": "code",
   "execution_count": 177,
   "metadata": {},
   "outputs": [
    {
     "data": {
      "text/plain": [
       "0.01628273377996059"
      ]
     },
     "execution_count": 177,
     "metadata": {},
     "output_type": "execute_result"
    }
   ],
   "source": [
    "y_2_2 - y_2_1"
   ]
  },
  {
   "cell_type": "code",
   "execution_count": 178,
   "metadata": {},
   "outputs": [
    {
     "data": {
      "text/plain": [
       "0.053394541553578145"
      ]
     },
     "execution_count": 178,
     "metadata": {},
     "output_type": "execute_result"
    }
   ],
   "source": [
    "df.groupby('X').mean()[['Y1', 'Y2', 'Y']]['Y2'][2] - df.groupby('X').mean()[['Y1', 'Y2', 'Y']]['Y2'][0]"
   ]
  },
  {
   "cell_type": "code",
   "execution_count": 179,
   "metadata": {},
   "outputs": [
    {
     "data": {
      "text/plain": [
       "0.03913172386204944"
      ]
     },
     "execution_count": 179,
     "metadata": {},
     "output_type": "execute_result"
    }
   ],
   "source": [
    "y_2_2 - y_2_0"
   ]
  },
  {
   "cell_type": "code",
   "execution_count": null,
   "metadata": {},
   "outputs": [],
   "source": []
  }
 ],
 "metadata": {
  "kernelspec": {
   "display_name": "Python 3",
   "language": "python",
   "name": "python3"
  },
  "language_info": {
   "codemirror_mode": {
    "name": "ipython",
    "version": 3
   },
   "file_extension": ".py",
   "mimetype": "text/x-python",
   "name": "python",
   "nbconvert_exporter": "python",
   "pygments_lexer": "ipython3",
   "version": "3.6.9"
  }
 },
 "nbformat": 4,
 "nbformat_minor": 4
}
