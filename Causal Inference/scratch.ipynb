{
 "cells": [
  {
   "cell_type": "code",
   "execution_count": 2,
   "metadata": {},
   "outputs": [],
   "source": [
    "%matplotlib inline"
   ]
  },
  {
   "cell_type": "code",
   "execution_count": 3,
   "metadata": {},
   "outputs": [],
   "source": [
    "import numpy as np\n",
    "import pandas as pd"
   ]
  },
  {
   "cell_type": "code",
   "execution_count": 17,
   "metadata": {},
   "outputs": [],
   "source": [
    "N = 10000\n",
    "p_s = 0.5\n",
    "\n",
    "x = np.random.normal(size=N)\n",
    "y = np.random.normal(x)\n",
    "s = np.random.binomial(1, p=p_s, size=N)\n",
    "\n",
    "df = pd.DataFrame({\"X\": x, \"Y\": y, \"S\": s})\n",
    "df['X_obs'] = np.where(df.S==1, df.X, np.nan)\n",
    "df['Y_obs'] = np.where(df.S==1, df.Y, np.nan)"
   ]
  },
  {
   "cell_type": "code",
   "execution_count": 18,
   "metadata": {},
   "outputs": [
    {
     "data": {
      "text/html": [
       "<div>\n",
       "<style scoped>\n",
       "    .dataframe tbody tr th:only-of-type {\n",
       "        vertical-align: middle;\n",
       "    }\n",
       "\n",
       "    .dataframe tbody tr th {\n",
       "        vertical-align: top;\n",
       "    }\n",
       "\n",
       "    .dataframe thead th {\n",
       "        text-align: right;\n",
       "    }\n",
       "</style>\n",
       "<table border=\"1\" class=\"dataframe\">\n",
       "  <thead>\n",
       "    <tr style=\"text-align: right;\">\n",
       "      <th></th>\n",
       "      <th>X</th>\n",
       "      <th>Y</th>\n",
       "      <th>S</th>\n",
       "      <th>X_obs</th>\n",
       "      <th>Y_obs</th>\n",
       "    </tr>\n",
       "  </thead>\n",
       "  <tbody>\n",
       "    <tr>\n",
       "      <th>0</th>\n",
       "      <td>-1.431926</td>\n",
       "      <td>-1.190168</td>\n",
       "      <td>0</td>\n",
       "      <td>NaN</td>\n",
       "      <td>NaN</td>\n",
       "    </tr>\n",
       "    <tr>\n",
       "      <th>1</th>\n",
       "      <td>-1.524203</td>\n",
       "      <td>-2.084979</td>\n",
       "      <td>1</td>\n",
       "      <td>-1.524203</td>\n",
       "      <td>-2.084979</td>\n",
       "    </tr>\n",
       "    <tr>\n",
       "      <th>2</th>\n",
       "      <td>2.052859</td>\n",
       "      <td>1.373628</td>\n",
       "      <td>1</td>\n",
       "      <td>2.052859</td>\n",
       "      <td>1.373628</td>\n",
       "    </tr>\n",
       "    <tr>\n",
       "      <th>3</th>\n",
       "      <td>1.166006</td>\n",
       "      <td>0.759947</td>\n",
       "      <td>0</td>\n",
       "      <td>NaN</td>\n",
       "      <td>NaN</td>\n",
       "    </tr>\n",
       "    <tr>\n",
       "      <th>4</th>\n",
       "      <td>-1.805134</td>\n",
       "      <td>-1.861824</td>\n",
       "      <td>1</td>\n",
       "      <td>-1.805134</td>\n",
       "      <td>-1.861824</td>\n",
       "    </tr>\n",
       "    <tr>\n",
       "      <th>...</th>\n",
       "      <td>...</td>\n",
       "      <td>...</td>\n",
       "      <td>...</td>\n",
       "      <td>...</td>\n",
       "      <td>...</td>\n",
       "    </tr>\n",
       "    <tr>\n",
       "      <th>9995</th>\n",
       "      <td>0.345677</td>\n",
       "      <td>0.810760</td>\n",
       "      <td>1</td>\n",
       "      <td>0.345677</td>\n",
       "      <td>0.810760</td>\n",
       "    </tr>\n",
       "    <tr>\n",
       "      <th>9996</th>\n",
       "      <td>-0.293271</td>\n",
       "      <td>-0.185710</td>\n",
       "      <td>0</td>\n",
       "      <td>NaN</td>\n",
       "      <td>NaN</td>\n",
       "    </tr>\n",
       "    <tr>\n",
       "      <th>9997</th>\n",
       "      <td>-0.099378</td>\n",
       "      <td>-0.046685</td>\n",
       "      <td>0</td>\n",
       "      <td>NaN</td>\n",
       "      <td>NaN</td>\n",
       "    </tr>\n",
       "    <tr>\n",
       "      <th>9998</th>\n",
       "      <td>-0.291066</td>\n",
       "      <td>-0.915713</td>\n",
       "      <td>1</td>\n",
       "      <td>-0.291066</td>\n",
       "      <td>-0.915713</td>\n",
       "    </tr>\n",
       "    <tr>\n",
       "      <th>9999</th>\n",
       "      <td>0.498262</td>\n",
       "      <td>0.265437</td>\n",
       "      <td>1</td>\n",
       "      <td>0.498262</td>\n",
       "      <td>0.265437</td>\n",
       "    </tr>\n",
       "  </tbody>\n",
       "</table>\n",
       "<p>10000 rows × 5 columns</p>\n",
       "</div>"
      ],
      "text/plain": [
       "             X         Y  S     X_obs     Y_obs\n",
       "0    -1.431926 -1.190168  0       NaN       NaN\n",
       "1    -1.524203 -2.084979  1 -1.524203 -2.084979\n",
       "2     2.052859  1.373628  1  2.052859  1.373628\n",
       "3     1.166006  0.759947  0       NaN       NaN\n",
       "4    -1.805134 -1.861824  1 -1.805134 -1.861824\n",
       "...        ...       ... ..       ...       ...\n",
       "9995  0.345677  0.810760  1  0.345677  0.810760\n",
       "9996 -0.293271 -0.185710  0       NaN       NaN\n",
       "9997 -0.099378 -0.046685  0       NaN       NaN\n",
       "9998 -0.291066 -0.915713  1 -0.291066 -0.915713\n",
       "9999  0.498262  0.265437  1  0.498262  0.265437\n",
       "\n",
       "[10000 rows x 5 columns]"
      ]
     },
     "execution_count": 18,
     "metadata": {},
     "output_type": "execute_result"
    }
   ],
   "source": [
    "df"
   ]
  },
  {
   "cell_type": "code",
   "execution_count": 22,
   "metadata": {},
   "outputs": [
    {
     "data": {
      "text/html": [
       "<div>\n",
       "<style scoped>\n",
       "    .dataframe tbody tr th:only-of-type {\n",
       "        vertical-align: middle;\n",
       "    }\n",
       "\n",
       "    .dataframe tbody tr th {\n",
       "        vertical-align: top;\n",
       "    }\n",
       "\n",
       "    .dataframe thead th {\n",
       "        text-align: right;\n",
       "    }\n",
       "</style>\n",
       "<table border=\"1\" class=\"dataframe\">\n",
       "  <thead>\n",
       "    <tr style=\"text-align: right;\">\n",
       "      <th></th>\n",
       "      <th>Y</th>\n",
       "      <th>state</th>\n",
       "      <th>age</th>\n",
       "      <th>gender</th>\n",
       "      <th>weight</th>\n",
       "    </tr>\n",
       "  </thead>\n",
       "  <tbody>\n",
       "    <tr>\n",
       "      <th>0</th>\n",
       "      <td>1</td>\n",
       "      <td>NY</td>\n",
       "      <td>18-25</td>\n",
       "      <td>M</td>\n",
       "      <td>1.4</td>\n",
       "    </tr>\n",
       "    <tr>\n",
       "      <th>1</th>\n",
       "      <td>0</td>\n",
       "      <td>GA</td>\n",
       "      <td>26-35</td>\n",
       "      <td>F</td>\n",
       "      <td>0.7</td>\n",
       "    </tr>\n",
       "    <tr>\n",
       "      <th>2</th>\n",
       "      <td>1</td>\n",
       "      <td>CA</td>\n",
       "      <td>18-25</td>\n",
       "      <td>unk</td>\n",
       "      <td>1.2</td>\n",
       "    </tr>\n",
       "    <tr>\n",
       "      <th>3</th>\n",
       "      <td>1</td>\n",
       "      <td>FL</td>\n",
       "      <td>36-45</td>\n",
       "      <td>M</td>\n",
       "      <td>0.8</td>\n",
       "    </tr>\n",
       "    <tr>\n",
       "      <th>4</th>\n",
       "      <td>0</td>\n",
       "      <td>NY</td>\n",
       "      <td>65+</td>\n",
       "      <td>F</td>\n",
       "      <td>2.5</td>\n",
       "    </tr>\n",
       "  </tbody>\n",
       "</table>\n",
       "</div>"
      ],
      "text/plain": [
       "   Y state    age gender  weight\n",
       "0  1    NY  18-25      M     1.4\n",
       "1  0    GA  26-35      F     0.7\n",
       "2  1    CA  18-25    unk     1.2\n",
       "3  1    FL  36-45      M     0.8\n",
       "4  0    NY    65+      F     2.5"
      ]
     },
     "execution_count": 22,
     "metadata": {},
     "output_type": "execute_result"
    }
   ],
   "source": [
    "df = pd.DataFrame({'Y': [1, 0, 1, 1, 0],\n",
    "                   'state': ['NY', 'GA', 'CA', 'FL', 'NY'],\n",
    "                   'age': ['18-25', '26-35', '18-25', '36-45','65+'],\n",
    "                   'gender': ['M', 'F', 'unk', 'M', 'F'],\n",
    "                   'weight': [1.4, 0.7, 1.2, 0.8, 2.5]})\n",
    "df"
   ]
  },
  {
   "cell_type": "code",
   "execution_count": 23,
   "metadata": {},
   "outputs": [
    {
     "data": {
      "text/plain": [
       "Y         0.60\n",
       "weight    1.32\n",
       "dtype: float64"
      ]
     },
     "execution_count": 23,
     "metadata": {},
     "output_type": "execute_result"
    }
   ],
   "source": [
    "df.mean()"
   ]
  },
  {
   "cell_type": "code",
   "execution_count": 24,
   "metadata": {},
   "outputs": [
    {
     "data": {
      "text/plain": [
       "0.6799999999999999"
      ]
     },
     "execution_count": 24,
     "metadata": {},
     "output_type": "execute_result"
    }
   ],
   "source": [
    "(df['Y']*df['weight']).mean()"
   ]
  },
  {
   "cell_type": "code",
   "execution_count": null,
   "metadata": {},
   "outputs": [],
   "source": []
  }
 ],
 "metadata": {
  "kernelspec": {
   "display_name": "Python 3",
   "language": "python",
   "name": "python3"
  },
  "language_info": {
   "codemirror_mode": {
    "name": "ipython",
    "version": 3
   },
   "file_extension": ".py",
   "mimetype": "text/x-python",
   "name": "python",
   "nbconvert_exporter": "python",
   "pygments_lexer": "ipython3",
   "version": "3.8.5"
  }
 },
 "nbformat": 4,
 "nbformat_minor": 4
}
