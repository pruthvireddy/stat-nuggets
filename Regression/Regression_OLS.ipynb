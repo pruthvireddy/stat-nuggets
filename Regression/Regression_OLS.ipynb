{
  "nbformat": 4,
  "nbformat_minor": 0,
  "metadata": {
    "colab": {
      "name": "Regression-OLS.ipynb",
      "provenance": []
    },
    "kernelspec": {
      "name": "python3",
      "display_name": "Python 3"
    },
    "language_info": {
      "name": "python"
    }
  },
  "cells": [
    {
      "cell_type": "markdown",
      "metadata": {
        "id": "I6tNyPCCWwwm"
      },
      "source": [
        "# Linear Regression - OLS"
      ]
    },
    {
      "cell_type": "code",
      "metadata": {
        "colab": {
          "base_uri": "https://localhost:8080/"
        },
        "id": "uFulepdhhnBk",
        "outputId": "b7442e57-c420-44a7-de2c-25e0089f6c04"
      },
      "source": [
        "import pandas as pd\n",
        "import numpy as np\n",
        "import seaborn as sns\n",
        "import statsmodels.api as sm\n",
        "import statsmodels.formula.api as smf"
      ],
      "execution_count": null,
      "outputs": [
        {
          "output_type": "stream",
          "text": [
            "/usr/local/lib/python3.7/dist-packages/statsmodels/tools/_testing.py:19: FutureWarning: pandas.util.testing is deprecated. Use the functions in the public API at pandas.testing instead.\n",
            "  import pandas.util.testing as tm\n"
          ],
          "name": "stderr"
        }
      ]
    },
    {
      "cell_type": "code",
      "metadata": {
        "colab": {
          "base_uri": "https://localhost:8080/"
        },
        "id": "Un-OEZQLhtrD",
        "outputId": "9f225908-3b4c-4b58-f3b8-722ff2cfc2d6"
      },
      "source": [
        "from google.colab import drive\n",
        "drive.mount('/gdrive')"
      ],
      "execution_count": null,
      "outputs": [
        {
          "output_type": "stream",
          "text": [
            "Mounted at /gdrive\n"
          ],
          "name": "stdout"
        }
      ]
    },
    {
      "cell_type": "code",
      "metadata": {
        "colab": {
          "base_uri": "https://localhost:8080/"
        },
        "id": "eAgk7ORqhvhS",
        "outputId": "60a524c7-9bb7-41f3-bc79-1721e7b755ba"
      },
      "source": [
        "gss_2006 = pd.read_csv('/gdrive/My Drive/Data Analysis GR5015/GSS_2006.csv')\n",
        "wvs_data = pd.read_csv('/gdrive/My Drive/Data Analysis GR5015/WVS.csv')"
      ],
      "execution_count": null,
      "outputs": [
        {
          "output_type": "stream",
          "text": [
            "/usr/local/lib/python3.7/dist-packages/IPython/core/interactiveshell.py:2718: DtypeWarning: Columns (266,318,322,2251,2269,3265,3293,3295,3317,3386,3412,3413,3416,3417,3430,3434,3435,3436,3437,3438,3439,3440,3441,3443,3448,3449,3450,3451,3452,3453,3454,3455,3456,3458,3461,3462,3463,3479,3480,3481,3482,3483,3484,3488,3493,3498,3499,3500,3501,3502,3503,3504,3505,3506,3507,3508,3509,3510,3511,3512,3513,3516,3517,3518,3519,3522,3523,3537,4650,4652,4851,4912,4913,4918,4919,4924,4925,4930,4931,4936,4937,4939,4941,4942,4943,4944,4945,4947,4948,4949,4950,4951,4953,4956,4957,4962,4963,4968,4969,4971,4972,4973,4974,4975,4977,4978,4979,4980,4981,4986,4987,4998,4999,5000,5001,5002,5003,5004,5005,5021,5022,5023,5024,5025,5026,5027,5028,5035,5036,5037,5038,5039,5040,5041,5042,5066,5067,5078,5079) have mixed types.Specify dtype option on import or set low_memory=False.\n",
            "  interactivity=interactivity, compiler=compiler, result=result)\n"
          ],
          "name": "stderr"
        }
      ]
    },
    {
      "cell_type": "markdown",
      "metadata": {
        "id": "P8mYSNNeu6Mn"
      },
      "source": [
        "### Question 1\n",
        "1. Run a simple bivariate regression, and interpret your results.  (Did the results fit your expectations?  Why?  Why not?)\n",
        "\n",
        "I Choose to use the income data(REALINC) from the survey and compare it with how difficult or easy do you think it would be for you to find a job at least as good as your current one?(JOBEASY)\n",
        "\n",
        "#### **Observations**\n",
        "\n",
        "- For every unit increase in the income thet is $1000 dollars increase people think 0.0013 points easier to find a job that pays as good as their current one.\n",
        "\n",
        "- The intercept tells us that at $1000 income people feel \"Neither easy nor difficult\" to find a job that pays as well \n",
        "\n",
        "- Intuitively, this is not too obvious but explains that reason why a job is high paying in the first place\n"
      ]
    },
    {
      "cell_type": "code",
      "metadata": {
        "colab": {
          "base_uri": "https://localhost:8080/"
        },
        "id": "CqSWKoJIBU4C",
        "outputId": "4103601b-b4a1-4bf6-aec3-6e28b196ce56"
      },
      "source": [
        "# Coverting the salary range into units of $1000 by dividing the salaries with 1000\n",
        "gss_2006['realrinc1000s'] = round((gss_2006['realrinc'])/1000)\n",
        "gss_2006.realrinc1000s.value_counts()"
      ],
      "execution_count": null,
      "outputs": [
        {
          "output_type": "execute_result",
          "data": {
            "text/plain": [
              "25.0     292\n",
              "18.0     217\n",
              "113.0    213\n",
              "30.0     194\n",
              "15.0     188\n",
              "37.0     168\n",
              "21.0     162\n",
              "12.0     137\n",
              "6.0      122\n",
              "9.0      110\n",
              "10.0     109\n",
              "8.0      107\n",
              "13.0     104\n",
              "2.0       98\n",
              "45.0      93\n",
              "4.0       75\n",
              "1.0       73\n",
              "5.0       57\n",
              "55.0      51\n",
              "0.0       48\n",
              "3.0       39\n",
              "66.0      29\n",
              "77.0      13\n",
              "Name: realrinc1000s, dtype: int64"
            ]
          },
          "metadata": {
            "tags": []
          },
          "execution_count": 48
        }
      ]
    },
    {
      "cell_type": "code",
      "metadata": {
        "colab": {
          "base_uri": "https://localhost:8080/"
        },
        "id": "eIc7OT0uJ94C",
        "outputId": "58c766ff-6bc9-4dbf-8c51-cc9068500dc3"
      },
      "source": [
        "gss_2006.big5c2.value_counts()"
      ],
      "execution_count": null,
      "outputs": [
        {
          "output_type": "execute_result",
          "data": {
            "text/plain": [
              "2.0    704\n",
              "1.0    545\n",
              "3.0    144\n",
              "4.0    101\n",
              "5.0     21\n",
              "Name: big5c2, dtype: int64"
            ]
          },
          "metadata": {
            "tags": []
          },
          "execution_count": 54
        }
      ]
    },
    {
      "cell_type": "code",
      "metadata": {
        "id": "xtRMSjmlJa99"
      },
      "source": [
        "# Encoding the textual responses to numeric range 1-5\n",
        "gss_2006.loc[gss_2006['jobeasy']=='Very easy', 'jobeasy'] = '5'\n",
        "gss_2006.loc[gss_2006['jobeasy']=='Fairly easy', 'jobeasy'] = '4'\n",
        "gss_2006.loc[gss_2006['jobeasy']=='Neither easy nor difficult', 'jobeasy'] = '3'\n",
        "gss_2006.loc[gss_2006['jobeasy']=='Fairly difficult', 'jobeasy'] = '2'\n",
        "gss_2006.loc[gss_2006['jobeasy']=='Very difficult', 'jobeasy'] = '1'\n",
        "gss_2006[['jobeasy']] = gss_2006[['jobeasy']].apply(pd.to_numeric)"
      ],
      "execution_count": null,
      "outputs": []
    },
    {
      "cell_type": "code",
      "metadata": {
        "colab": {
          "base_uri": "https://localhost:8080/",
          "height": 296
        },
        "id": "TVeIyeACJNmi",
        "outputId": "efbfdb25-2c35-4560-871b-623447219d67"
      },
      "source": [
        "# plotting a box plot to see how the trend for medians evolve and the range \n",
        "sns.boxplot(x=\"jobeasy\", y=\"realrinc1000s\", data=gss_2006)"
      ],
      "execution_count": null,
      "outputs": [
        {
          "output_type": "execute_result",
          "data": {
            "text/plain": [
              "<matplotlib.axes._subplots.AxesSubplot at 0x7f0588db3210>"
            ]
          },
          "metadata": {
            "tags": []
          },
          "execution_count": 50
        },
        {
          "output_type": "display_data",
          "data": {
            "image/png": "[encoded data removed]",
            "text/plain": [
              "<Figure size 432x288 with 1 Axes>"
            ]
          },
          "metadata": {
            "tags": [],
            "needs_background": "light"
          }
        }
      ]
    },
    {
      "cell_type": "code",
      "metadata": {
        "colab": {
          "base_uri": "https://localhost:8080/"
        },
        "id": "qO2EhXTgZ17G",
        "outputId": "cf00fbcf-0b22-416c-ebf8-b83631ca96b2"
      },
      "source": [
        "# Running a simple OLS regression\n",
        "lm_rep = smf.ols(formula = 'jobeasy~realrinc1000s', data = gss_2006).fit()\n",
        "print (lm_rep.summary())"
      ],
      "execution_count": null,
      "outputs": [
        {
          "output_type": "stream",
          "text": [
            "                            OLS Regression Results                            \n",
            "==============================================================================\n",
            "Dep. Variable:                jobeasy   R-squared:                       0.001\n",
            "Model:                            OLS   Adj. R-squared:                 -0.000\n",
            "Method:                 Least Squares   F-statistic:                    0.6508\n",
            "Date:                Sat, 27 Feb 2021   Prob (F-statistic):              0.420\n",
            "Time:                        03:26:25   Log-Likelihood:                -1379.9\n",
            "No. Observations:                 833   AIC:                             2764.\n",
            "Df Residuals:                     831   BIC:                             2773.\n",
            "Df Model:                           1                                         \n",
            "Covariance Type:            nonrobust                                         \n",
            "=================================================================================\n",
            "                    coef    std err          t      P>|t|      [0.025      0.975]\n",
            "---------------------------------------------------------------------------------\n",
            "Intercept         3.0510      0.061     49.904      0.000       2.931       3.171\n",
            "realrinc1000s     0.0013      0.002      0.807      0.420      -0.002       0.004\n",
            "==============================================================================\n",
            "Omnibus:                      489.947   Durbin-Watson:                   2.008\n",
            "Prob(Omnibus):                  0.000   Jarque-Bera (JB):               48.481\n",
            "Skew:                          -0.067   Prob(JB):                     2.97e-11\n",
            "Kurtosis:                       1.826   Cond. No.                         52.8\n",
            "==============================================================================\n",
            "\n",
            "Warnings:\n",
            "[1] Standard Errors assume that the covariance matrix of the errors is correctly specified.\n"
          ],
          "name": "stdout"
        }
      ]
    },
    {
      "cell_type": "code",
      "metadata": {
        "id": "yOXGVseZWt_L"
      },
      "source": [
        ""
      ],
      "execution_count": null,
      "outputs": []
    }
  ]
}