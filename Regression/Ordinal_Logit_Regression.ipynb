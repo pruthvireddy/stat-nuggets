{
  "nbformat": 4,
  "nbformat_minor": 0,
  "metadata": {
    "colab": {
      "name": "Ordinal-Logit-Regression.ipynb",
      "provenance": []
    },
    "kernelspec": {
      "name": "python3",
      "display_name": "Python 3"
    },
    "language_info": {
      "name": "python"
    }
  },
  "cells": [
    {
      "cell_type": "code",
      "metadata": {
        "id": "1C7CU2lhb4td"
      },
      "source": [
        ""
      ],
      "execution_count": null,
      "outputs": []
    },
    {
      "cell_type": "code",
      "metadata": {
        "colab": {
          "base_uri": "https://localhost:8080/"
        },
        "id": "FrkBrzynd-5z",
        "outputId": "ad65fefd-3b24-4d22-b99c-dfaa5e14d99f"
      },
      "source": [
        "from google.colab import drive\n",
        "drive.mount('/gdrive',force_remount=True)"
      ],
      "execution_count": null,
      "outputs": [
        {
          "output_type": "stream",
          "text": [
            "Mounted at /gdrive\n"
          ],
          "name": "stdout"
        }
      ]
    },
    {
      "cell_type": "code",
      "metadata": {
        "id": "tJgGqFG5CuA3"
      },
      "source": [
        "%load_ext rpy2.ipython"
      ],
      "execution_count": null,
      "outputs": []
    },
    {
      "cell_type": "code",
      "metadata": {
        "id": "U9V0wRJp76PH"
      },
      "source": [
        "%%R\n",
        "install.packages(\"ordinal\")\n",
        "install.packages(\"dplyr\")\n",
        "library(ordinal)\n",
        "library(dplyr)"
      ],
      "execution_count": null,
      "outputs": []
    },
    {
      "cell_type": "markdown",
      "metadata": {
        "id": "D6oUy4BAdixh"
      },
      "source": [
        "# Data and Setup"
      ]
    },
    {
      "cell_type": "markdown",
      "metadata": {
        "id": "rfEeEzFaZVNz"
      },
      "source": [
        "Link to the GSS 2006 Codebook - https://www.thearda.com/Archive/Files/Codebooks/GSS2006_CB.asp\n",
        "\n",
        "Link to the WVS Codebook- https://www.thearda.com/Archive/Files/Codebooks/WVS2010_CB.asp"
      ]
    },
    {
      "cell_type": "code",
      "metadata": {
        "id": "RuBNhdtccQ45"
      },
      "source": [
        "%%R\n",
        "gss_2006 = read.csv('/gdrive/My Drive/Data Analysis GR5015/GSS_2006_enc.csv')"
      ],
      "execution_count": null,
      "outputs": []
    },
    {
      "cell_type": "markdown",
      "metadata": {
        "id": "FkfyqIJeM4Fz"
      },
      "source": [
        "### Question 1\n",
        "***1.Run a multiple ordinal logistic regression. Tell me what you expect to find and then interpret your results to tell me what you did infact find.***\n",
        "\n",
        "#### **Observations & Interpretations**\n",
        "- From the coefficients - A unit increase in education on the scale increases the likelihood of Work being the top satisfaction by 0.049 units, on an average, on the log-odds scale, holding all other variables constant. This interpretation is statistically significant given the p-value is 0.003 (which is much less than or equal to 0.05 i.e a rule of thumb)\n",
        "\n",
        "- From the coefficients - A unit increase in sex, that is going from men to women, decreases the likelihood of Work being the top satisfaction by 0.19 units, on an average, on the log-odds scale, holding all other variables constant. This interpretation is statistically significant given the p-value is 0.036 (which is less than or equal to 0.05 i.e a rule of thumb)\n",
        "\n",
        "\n",
        "#### **My intuition and if it worked out**\n",
        "\n",
        "My intuition was that more qualified people draw a lot of inspiration and identity from their qualification and application of their qualification and hence would find higher utility/satisfaction from their work/career.\n",
        "\n",
        "My intuition with age was that women at certain point in their lives might replace work as the top satisfaction with probably a happy/healthy/stable household or family and this maybe a phase in the middle years of their career, But may find work to agin become top source of satissfaction.\n",
        "\n",
        "Both my intuitions are well justified by the regression outcome. Although i am curious to further see this with age and sex alone and probably use panel data to see if it changes for same set of people with increaseing age as they go through phases of life\n",
        "\n"
      ]
    },
    {
      "cell_type": "code",
      "metadata": {
        "colab": {
          "base_uri": "https://localhost:8080/"
        },
        "id": "IGFcQhBhlyli",
        "outputId": "a84b6cfa-badc-4f49-adba-7a1154bf8b65"
      },
      "source": [
        "%%R\n",
        "gss_2006 %>%\n",
        "  group_by(educ) %>%\n",
        "  summarise(n= n())"
      ],
      "execution_count": null,
      "outputs": [
        {
          "output_type": "stream",
          "text": [
            "# A tibble: 22 x 2\n",
            "    educ     n\n",
            "   <int> <int>\n",
            " 1     0    22\n",
            " 2     1     4\n",
            " 3     2    28\n",
            " 4     3    13\n",
            " 5     4    11\n",
            " 6     5    23\n",
            " 7     6    69\n",
            " 8     7    32\n",
            " 9     8    85\n",
            "10     9   127\n",
            "# … with 12 more rows\n"
          ],
          "name": "stdout"
        }
      ]
    },
    {
      "cell_type": "code",
      "metadata": {
        "id": "tOyIHn0xFz-o"
      },
      "source": [
        "#Varaiable 'educ' is on a scale of 1-20 with incresing value means more education qualification\n",
        "#Varaiable 'sex' is assigned as male=1 and female=2\n",
        "\n",
        "\n",
        "# Re-coding the \"My main satisfaction in life comes from work.\" variable to denote a higher value means higher their agreement to the statement \n",
        "%%R\n",
        "gss_2006$wktopsat = 5-gss_2006$wktopsat"
      ],
      "execution_count": null,
      "outputs": []
    },
    {
      "cell_type": "code",
      "metadata": {
        "id": "vFl7IZsiNk_X",
        "colab": {
          "base_uri": "https://localhost:8080/"
        },
        "outputId": "7e1b8d27-d827-4967-dc14-878f2a0d7eda"
      },
      "source": [
        "%%R\n",
        "# Running a Ordinal Logit regression\n",
        "fm1 <- clm(as.factor(wktopsat) ~ educ + sex, data=gss_2006)\n",
        "summary(fm1)"
      ],
      "execution_count": null,
      "outputs": [
        {
          "output_type": "stream",
          "text": [
            "formula: as.factor(wktopsat) ~ educ + sex\n",
            "data:    gss_2006\n",
            "\n",
            " link  threshold nobs logLik   AIC     niter max.grad cond.H \n",
            " logit flexible  1707 -2018.98 4047.96 5(0)  9.50e-08 2.5e+04\n",
            "\n",
            "Coefficients:\n",
            "     Estimate Std. Error z value Pr(>|z|)   \n",
            "educ  0.04985    0.01716   2.905  0.00367 **\n",
            "sex  -0.18996    0.09062  -2.096  0.03606 * \n",
            "---\n",
            "Signif. codes:  0 ‘***’ 0.001 ‘**’ 0.01 ‘*’ 0.05 ‘.’ 0.1 ‘ ’ 1\n",
            "\n",
            "Threshold coefficients:\n",
            "    Estimate Std. Error z value\n",
            "1|2  -0.7987     0.2813  -2.840\n",
            "2|3   1.3555     0.2830   4.789\n",
            "3|4   3.2509     0.2979  10.911\n",
            "(2803 observations deleted due to missingness)\n"
          ],
          "name": "stdout"
        }
      ]
    },
    {
      "cell_type": "markdown",
      "metadata": {
        "id": "HNzIEjPZKdlX"
      },
      "source": [
        "### Question 2\n",
        "***2. Test the proportional odds assumption of the ordinal logistic regression. Tell me what the test found? Is the assumption satisfied or not?***\n",
        "\n",
        "#### **Observations & Interpretations**\n",
        "\n",
        "- From the coefficients - A unit increase in sex, that is going from men to women, decreases the likelihood of Work being the top satisfaction in life by 0.19 units, on an average, on the log-odds scale, holding all other variables constant. This interpretation is statistically significant given the p-value is 0.036 (which is less than or equal to 0.05 i.e a rule of thumb)\n",
        "\n",
        "- The coefficients we see of this model we fit can be interpreted in the following ways- For 1|2 the Likelihoold of posseing 1 value on education over 2,3 or 4 is 0.94 or 94% and cumulative goes from here.  For 2|3 the Likelihoold of posseing a value of 1 or 2  on education over 3 or 4 is 0.9544 i.e 95.44%\n",
        "\n",
        "\n",
        "The Ordinal Logit assumes that the odds-ration(the chance of being in one category over others hods when compared between all pairs of possibilities)  meaning the results will be a set of parallel lines, this is what we test using the Brandt test which is performed at the end.\n",
        "\n",
        "\n",
        "To qualify the Brandts test we look the chi-sqquared test output and use it to reject the Null hypothesis (That lines are parallel). In our output the Chi-squared test value is 0.1 which is higher than (0.05) hence we reject the null hypothesis and say that the proportional odds assumption holds up in the ordinal logit regression \n"
      ]
    },
    {
      "cell_type": "code",
      "metadata": {
        "colab": {
          "base_uri": "https://localhost:8080/"
        },
        "id": "qnraeoWbLBRH",
        "outputId": "372faa68-c1ac-411f-a8e1-1c1686595fef"
      },
      "source": [
        "#To test the proportional odds we nominalize the Education variable and run the Ordinal Logit Regression\n",
        "%%R\n",
        "fm2 <- clm(as.factor(wktopsat) ~ sex, nominal=~educ, data=gss_2006) # nominalizing the Education vriable\n",
        "summary(fm2)"
      ],
      "execution_count": null,
      "outputs": [
        {
          "output_type": "stream",
          "text": [
            "formula: as.factor(wktopsat) ~ sex\n",
            "nominal: ~educ\n",
            "data:    gss_2006\n",
            "\n",
            " link  threshold nobs logLik   AIC     niter max.grad cond.H \n",
            " logit flexible  1707 -2017.25 4048.51 6(0)  2.63e-13 3.7e+04\n",
            "\n",
            "Coefficients:\n",
            "    Estimate Std. Error z value Pr(>|z|)  \n",
            "sex -0.18972    0.09066  -2.093   0.0364 *\n",
            "---\n",
            "Signif. codes:  0 ‘***’ 0.001 ‘**’ 0.01 ‘*’ 0.05 ‘.’ 0.1 ‘ ’ 1\n",
            "\n",
            "Threshold coefficients:\n",
            "                 Estimate Std. Error z value\n",
            "1|2.(Intercept) -0.634199   0.341083  -1.859\n",
            "2|3.(Intercept)  1.307866   0.321965   4.062\n",
            "3|4.(Intercept)  2.404916   0.519787   4.627\n",
            "1|2.educ        -0.061689   0.022149  -2.785\n",
            "2|3.educ        -0.046638   0.020285  -2.299\n",
            "3|4.educ         0.009464   0.035119   0.269\n",
            "(2803 observations deleted due to missingness)\n"
          ],
          "name": "stdout"
        }
      ]
    },
    {
      "cell_type": "code",
      "metadata": {
        "colab": {
          "base_uri": "https://localhost:8080/"
        },
        "id": "qbArX5KGD5Ak",
        "outputId": "23fb4bad-469b-479c-8427-102a84c75317"
      },
      "source": [
        "%%R\n",
        "exp(coef(fm2))"
      ],
      "execution_count": null,
      "outputs": [
        {
          "output_type": "stream",
          "text": [
            "1|2.(Intercept) 2|3.(Intercept) 3|4.(Intercept)        1|2.educ        2|3.educ \n",
            "      0.5303600       3.6982735      11.0774975       0.9401754       0.9544327 \n",
            "       3|4.educ             sex \n",
            "      1.0095088       0.8271871 \n"
          ],
          "name": "stdout"
        }
      ]
    },
    {
      "cell_type": "code",
      "metadata": {
        "colab": {
          "base_uri": "https://localhost:8080/"
        },
        "id": "DnsqS5fmbZwi",
        "outputId": "f309d296-a9f9-45c7-e15e-de9d026e6e9f"
      },
      "source": [
        "# We perform the Brandt test here to compare and see if the above two regressions have the  parallell slopes among them\n",
        "\n",
        "%%R\n",
        "anova(fm1,fm2) "
      ],
      "execution_count": null,
      "outputs": [
        {
          "output_type": "stream",
          "text": [
            "Likelihood ratio tests of cumulative link models:\n",
            " \n",
            "    formula:                         nominal: link: threshold:\n",
            "fm1 as.factor(wktopsat) ~ educ + sex ~1       logit flexible  \n",
            "fm2 as.factor(wktopsat) ~ sex        ~educ    logit flexible  \n",
            "\n",
            "    no.par    AIC  logLik LR.stat df Pr(>Chisq)\n",
            "fm1      5 4048.0 -2019.0                      \n",
            "fm2      7 4048.5 -2017.3  3.4594  2     0.1773\n"
          ],
          "name": "stdout"
        }
      ]
    },
    {
      "cell_type": "code",
      "metadata": {
        "id": "uKXSyItIsd4k"
      },
      "source": [
        ""
      ],
      "execution_count": null,
      "outputs": []
    }
  ]
}