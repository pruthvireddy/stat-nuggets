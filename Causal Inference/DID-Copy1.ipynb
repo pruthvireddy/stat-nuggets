{
 "cells": [
  {
   "cell_type": "code",
   "execution_count": 13,
   "metadata": {},
   "outputs": [],
   "source": [
    "%matplotlib inline"
   ]
  },
  {
   "cell_type": "code",
   "execution_count": 15,
   "metadata": {},
   "outputs": [],
   "source": [
    "import pandas as pd\n",
    "import numpy as np\n",
    "\n",
    "\n",
    "N = 1000\n",
    "\n",
    "\n",
    "u = np.random.normal(size=N)\n",
    "x = np.random.binomial(1., p=1./(1. + np.exp(-u)))\n",
    "\n",
    "y0_t0 = np.random.normal(1. + u)\n",
    "y1_t0 = np.random.normal(1. + u + 3)\n",
    "\n",
    "y0_t1 = np.random.normal(2. + u)\n",
    "y1_t1 = np.random.normal(2. + u + 3.)\n",
    "\n",
    "y_t0 = y0_t0\n",
    "y_t1 = x*y1_t1 + (1-x)*y0_t1\n",
    "\n",
    "data = []\n",
    "for i, (xi, y_t0i, y_t1i, y0_t0i, y1_t0i, y0_t1i, y1_t1i) in enumerate(zip(x, y_t0, y_t1, y0_t0, y1_t0, y0_t1, y1_t1)):\n",
    "    data.append({'x': xi, 'y': y_t0i, 't': 0, 'unit': i, 'y0': y0_t0i, 'y1': y1_t0i})\n",
    "    data.append({'x': xi, 'y': y_t1i, 't': 1, 'unit': i, 'y0': y0_t1i, 'y1': y1_t1i})\n",
    "    \n",
    "df = pd.DataFrame(data)"
   ]
  },
  {
   "cell_type": "code",
   "execution_count": 16,
   "metadata": {},
   "outputs": [
    {
     "data": {
      "text/html": [
       "<div>\n",
       "<style scoped>\n",
       "    .dataframe tbody tr th:only-of-type {\n",
       "        vertical-align: middle;\n",
       "    }\n",
       "\n",
       "    .dataframe tbody tr th {\n",
       "        vertical-align: top;\n",
       "    }\n",
       "\n",
       "    .dataframe thead th {\n",
       "        text-align: right;\n",
       "    }\n",
       "</style>\n",
       "<table border=\"1\" class=\"dataframe\">\n",
       "  <thead>\n",
       "    <tr style=\"text-align: right;\">\n",
       "      <th></th>\n",
       "      <th>x</th>\n",
       "      <th>y</th>\n",
       "      <th>t</th>\n",
       "      <th>unit</th>\n",
       "      <th>y0</th>\n",
       "      <th>y1</th>\n",
       "    </tr>\n",
       "  </thead>\n",
       "  <tbody>\n",
       "    <tr>\n",
       "      <td>0</td>\n",
       "      <td>1</td>\n",
       "      <td>1.115843</td>\n",
       "      <td>0</td>\n",
       "      <td>0</td>\n",
       "      <td>1.115843</td>\n",
       "      <td>5.873199</td>\n",
       "    </tr>\n",
       "    <tr>\n",
       "      <td>1</td>\n",
       "      <td>1</td>\n",
       "      <td>7.862414</td>\n",
       "      <td>1</td>\n",
       "      <td>0</td>\n",
       "      <td>1.566437</td>\n",
       "      <td>7.862414</td>\n",
       "    </tr>\n",
       "    <tr>\n",
       "      <td>2</td>\n",
       "      <td>0</td>\n",
       "      <td>2.724581</td>\n",
       "      <td>0</td>\n",
       "      <td>1</td>\n",
       "      <td>2.724581</td>\n",
       "      <td>6.381854</td>\n",
       "    </tr>\n",
       "    <tr>\n",
       "      <td>3</td>\n",
       "      <td>0</td>\n",
       "      <td>4.626480</td>\n",
       "      <td>1</td>\n",
       "      <td>1</td>\n",
       "      <td>4.626480</td>\n",
       "      <td>6.915197</td>\n",
       "    </tr>\n",
       "    <tr>\n",
       "      <td>4</td>\n",
       "      <td>0</td>\n",
       "      <td>-0.829542</td>\n",
       "      <td>0</td>\n",
       "      <td>2</td>\n",
       "      <td>-0.829542</td>\n",
       "      <td>0.747194</td>\n",
       "    </tr>\n",
       "    <tr>\n",
       "      <td>...</td>\n",
       "      <td>...</td>\n",
       "      <td>...</td>\n",
       "      <td>...</td>\n",
       "      <td>...</td>\n",
       "      <td>...</td>\n",
       "      <td>...</td>\n",
       "    </tr>\n",
       "    <tr>\n",
       "      <td>1995</td>\n",
       "      <td>1</td>\n",
       "      <td>4.199510</td>\n",
       "      <td>1</td>\n",
       "      <td>997</td>\n",
       "      <td>3.214508</td>\n",
       "      <td>4.199510</td>\n",
       "    </tr>\n",
       "    <tr>\n",
       "      <td>1996</td>\n",
       "      <td>1</td>\n",
       "      <td>0.708317</td>\n",
       "      <td>0</td>\n",
       "      <td>998</td>\n",
       "      <td>0.708317</td>\n",
       "      <td>4.475364</td>\n",
       "    </tr>\n",
       "    <tr>\n",
       "      <td>1997</td>\n",
       "      <td>1</td>\n",
       "      <td>4.965425</td>\n",
       "      <td>1</td>\n",
       "      <td>998</td>\n",
       "      <td>2.072806</td>\n",
       "      <td>4.965425</td>\n",
       "    </tr>\n",
       "    <tr>\n",
       "      <td>1998</td>\n",
       "      <td>0</td>\n",
       "      <td>-1.114895</td>\n",
       "      <td>0</td>\n",
       "      <td>999</td>\n",
       "      <td>-1.114895</td>\n",
       "      <td>3.167037</td>\n",
       "    </tr>\n",
       "    <tr>\n",
       "      <td>1999</td>\n",
       "      <td>0</td>\n",
       "      <td>0.757115</td>\n",
       "      <td>1</td>\n",
       "      <td>999</td>\n",
       "      <td>0.757115</td>\n",
       "      <td>3.691829</td>\n",
       "    </tr>\n",
       "  </tbody>\n",
       "</table>\n",
       "<p>2000 rows × 6 columns</p>\n",
       "</div>"
      ],
      "text/plain": [
       "      x         y  t  unit        y0        y1\n",
       "0     1  1.115843  0     0  1.115843  5.873199\n",
       "1     1  7.862414  1     0  1.566437  7.862414\n",
       "2     0  2.724581  0     1  2.724581  6.381854\n",
       "3     0  4.626480  1     1  4.626480  6.915197\n",
       "4     0 -0.829542  0     2 -0.829542  0.747194\n",
       "...  ..       ... ..   ...       ...       ...\n",
       "1995  1  4.199510  1   997  3.214508  4.199510\n",
       "1996  1  0.708317  0   998  0.708317  4.475364\n",
       "1997  1  4.965425  1   998  2.072806  4.965425\n",
       "1998  0 -1.114895  0   999 -1.114895  3.167037\n",
       "1999  0  0.757115  1   999  0.757115  3.691829\n",
       "\n",
       "[2000 rows x 6 columns]"
      ]
     },
     "execution_count": 16,
     "metadata": {},
     "output_type": "execute_result"
    }
   ],
   "source": [
    "df"
   ]
  },
  {
   "cell_type": "code",
   "execution_count": 17,
   "metadata": {},
   "outputs": [
    {
     "data": {
      "text/plain": [
       "3.8241748764950123"
      ]
     },
     "execution_count": 17,
     "metadata": {},
     "output_type": "execute_result"
    }
   ],
   "source": [
    "df[df.t == 1].groupby('x').mean()['y'][1] - df[df.t==1].groupby('x').mean()['y'][0]"
   ]
  },
  {
   "cell_type": "code",
   "execution_count": 18,
   "metadata": {},
   "outputs": [
    {
     "data": {
      "text/plain": [
       "<matplotlib.axes._subplots.AxesSubplot at 0x7f3f77c75f28>"
      ]
     },
     "execution_count": 18,
     "metadata": {},
     "output_type": "execute_result"
    },
    {
     "data": {
      "image/png": "[encoded data removed]",
      "text/plain": [
       "<Figure size 432x288 with 1 Axes>"
      ]
     },
     "metadata": {
      "needs_background": "light"
     },
     "output_type": "display_data"
    }
   ],
   "source": [
    "import seaborn as sns\n",
    "\n",
    "sns.lineplot(data=df, x='t', y='y', hue='x')"
   ]
  },
  {
   "cell_type": "code",
   "execution_count": 20,
   "metadata": {},
   "outputs": [
    {
     "data": {
      "text/plain": [
       "<matplotlib.axes._subplots.AxesSubplot at 0x7f3f72d57c50>"
      ]
     },
     "execution_count": 20,
     "metadata": {},
     "output_type": "execute_result"
    },
    {
     "data": {
      "image/png": "[encoded data removed]",
      "text/plain": [
       "<Figure size 432x288 with 1 Axes>"
      ]
     },
     "metadata": {
      "needs_background": "light"
     },
     "output_type": "display_data"
    }
   ],
   "source": [
    "sns.lineplot(data=df, x='t', y='y1', hue='x')"
   ]
  },
  {
   "cell_type": "code",
   "execution_count": 21,
   "metadata": {},
   "outputs": [
    {
     "data": {
      "text/html": [
       "<table class=\"simpletable\">\n",
       "<caption>OLS Regression Results</caption>\n",
       "<tr>\n",
       "  <th>Dep. Variable:</th>            <td>y</td>        <th>  R-squared:         </th> <td>   0.661</td>\n",
       "</tr>\n",
       "<tr>\n",
       "  <th>Model:</th>                   <td>OLS</td>       <th>  Adj. R-squared:    </th> <td>   0.661</td>\n",
       "</tr>\n",
       "<tr>\n",
       "  <th>Method:</th>             <td>Least Squares</td>  <th>  F-statistic:       </th> <td>   1298.</td>\n",
       "</tr>\n",
       "<tr>\n",
       "  <th>Date:</th>             <td>Tue, 30 Mar 2021</td> <th>  Prob (F-statistic):</th>  <td>  0.00</td> \n",
       "</tr>\n",
       "<tr>\n",
       "  <th>Time:</th>                 <td>21:12:00</td>     <th>  Log-Likelihood:    </th> <td> -3431.2</td>\n",
       "</tr>\n",
       "<tr>\n",
       "  <th>No. Observations:</th>      <td>  2000</td>      <th>  AIC:               </th> <td>   6870.</td>\n",
       "</tr>\n",
       "<tr>\n",
       "  <th>Df Residuals:</th>          <td>  1996</td>      <th>  BIC:               </th> <td>   6893.</td>\n",
       "</tr>\n",
       "<tr>\n",
       "  <th>Df Model:</th>              <td>     3</td>      <th>                     </th>     <td> </td>   \n",
       "</tr>\n",
       "<tr>\n",
       "  <th>Covariance Type:</th>      <td>nonrobust</td>    <th>                     </th>     <td> </td>   \n",
       "</tr>\n",
       "</table>\n",
       "<table class=\"simpletable\">\n",
       "<tr>\n",
       "      <td></td>         <th>coef</th>     <th>std err</th>      <th>t</th>      <th>P>|t|</th>  <th>[0.025</th>    <th>0.975]</th>  \n",
       "</tr>\n",
       "<tr>\n",
       "  <th>intercept</th> <td>    0.5571</td> <td>    0.061</td> <td>    9.138</td> <td> 0.000</td> <td>    0.438</td> <td>    0.677</td>\n",
       "</tr>\n",
       "<tr>\n",
       "  <th>t</th>         <td>    1.0057</td> <td>    0.086</td> <td>   11.665</td> <td> 0.000</td> <td>    0.837</td> <td>    1.175</td>\n",
       "</tr>\n",
       "<tr>\n",
       "  <th>x</th>         <td>    0.8175</td> <td>    0.085</td> <td>    9.595</td> <td> 0.000</td> <td>    0.650</td> <td>    0.985</td>\n",
       "</tr>\n",
       "<tr>\n",
       "  <th>tx</th>        <td>    3.0067</td> <td>    0.120</td> <td>   24.954</td> <td> 0.000</td> <td>    2.770</td> <td>    3.243</td>\n",
       "</tr>\n",
       "</table>\n",
       "<table class=\"simpletable\">\n",
       "<tr>\n",
       "  <th>Omnibus:</th>       <td> 0.418</td> <th>  Durbin-Watson:     </th> <td>   1.506</td>\n",
       "</tr>\n",
       "<tr>\n",
       "  <th>Prob(Omnibus):</th> <td> 0.811</td> <th>  Jarque-Bera (JB):  </th> <td>   0.465</td>\n",
       "</tr>\n",
       "<tr>\n",
       "  <th>Skew:</th>          <td>-0.031</td> <th>  Prob(JB):          </th> <td>   0.793</td>\n",
       "</tr>\n",
       "<tr>\n",
       "  <th>Kurtosis:</th>      <td> 2.959</td> <th>  Cond. No.          </th> <td>    6.93</td>\n",
       "</tr>\n",
       "</table><br/><br/>Warnings:<br/>[1] Standard Errors assume that the covariance matrix of the errors is correctly specified."
      ],
      "text/plain": [
       "<class 'statsmodels.iolib.summary.Summary'>\n",
       "\"\"\"\n",
       "                            OLS Regression Results                            \n",
       "==============================================================================\n",
       "Dep. Variable:                      y   R-squared:                       0.661\n",
       "Model:                            OLS   Adj. R-squared:                  0.661\n",
       "Method:                 Least Squares   F-statistic:                     1298.\n",
       "Date:                Tue, 30 Mar 2021   Prob (F-statistic):               0.00\n",
       "Time:                        21:12:00   Log-Likelihood:                -3431.2\n",
       "No. Observations:                2000   AIC:                             6870.\n",
       "Df Residuals:                    1996   BIC:                             6893.\n",
       "Df Model:                           3                                         \n",
       "Covariance Type:            nonrobust                                         \n",
       "==============================================================================\n",
       "                 coef    std err          t      P>|t|      [0.025      0.975]\n",
       "------------------------------------------------------------------------------\n",
       "intercept      0.5571      0.061      9.138      0.000       0.438       0.677\n",
       "t              1.0057      0.086     11.665      0.000       0.837       1.175\n",
       "x              0.8175      0.085      9.595      0.000       0.650       0.985\n",
       "tx             3.0067      0.120     24.954      0.000       2.770       3.243\n",
       "==============================================================================\n",
       "Omnibus:                        0.418   Durbin-Watson:                   1.506\n",
       "Prob(Omnibus):                  0.811   Jarque-Bera (JB):                0.465\n",
       "Skew:                          -0.031   Prob(JB):                        0.793\n",
       "Kurtosis:                       2.959   Cond. No.                         6.93\n",
       "==============================================================================\n",
       "\n",
       "Warnings:\n",
       "[1] Standard Errors assume that the covariance matrix of the errors is correctly specified.\n",
       "\"\"\""
      ]
     },
     "execution_count": 21,
     "metadata": {},
     "output_type": "execute_result"
    }
   ],
   "source": [
    "from statsmodels.api import OLS\n",
    "\n",
    "df['intercept'] = 1.\n",
    "df['tx'] = df['t'] * df['x']\n",
    "\n",
    "model = OLS(endog=df['y'], exog=df[['intercept', 't', 'x', 'tx']])\n",
    "result = model.fit()\n",
    "result.summary()"
   ]
  },
  {
   "cell_type": "code",
   "execution_count": null,
   "metadata": {},
   "outputs": [],
   "source": []
  }
 ],
 "metadata": {
  "kernelspec": {
   "display_name": "Python 3",
   "language": "python",
   "name": "python3"
  },
  "language_info": {
   "codemirror_mode": {
    "name": "ipython",
    "version": 3
   },
   "file_extension": ".py",
   "mimetype": "text/x-python",
   "name": "python",
   "nbconvert_exporter": "python",
   "pygments_lexer": "ipython3",
   "version": "3.6.7"
  }
 },
 "nbformat": 4,
 "nbformat_minor": 4
}
