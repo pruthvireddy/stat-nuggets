{
 "cells": [
  {
   "cell_type": "code",
   "execution_count": 81,
   "metadata": {},
   "outputs": [],
   "source": [
    "%matplotlib inline"
   ]
  },
  {
   "cell_type": "code",
   "execution_count": 1,
   "metadata": {},
   "outputs": [],
   "source": [
    "import pandas as pd\n",
    "import numpy as np\n",
    "\n",
    "p_e = 0.2\n",
    "N = 1000000\n",
    "\n",
    "u = np.random.uniform(0, 1, size=N)\n",
    "z = np.random.binomial(1., p=0.5, size=N)\n",
    "\n",
    "p_e = 0.2\n",
    "e = np.random.binomial(1., p=p_e, size=N)\n",
    "delta = np.random.normal(u)\n",
    "\n",
    "x = (e==1)*np.random.binomial(1, p=1. / (1. + np.exp(-delta + u - 0.5))) + (e==0)*z\n",
    "y = u + delta*x + np.random.normal(size=N)\n",
    "\n",
    "df = pd.DataFrame({\"X\": x, \"Z\": z, \"E\": e, \"U\": u, \"Y\": y})"
   ]
  },
  {
   "cell_type": "markdown",
   "metadata": {},
   "source": [
    "# Let's keep the same DGP, but make the potential causal states explicit"
   ]
  },
  {
   "cell_type": "code",
   "execution_count": 2,
   "metadata": {},
   "outputs": [],
   "source": [
    "import pandas as pd\n",
    "import numpy as np\n",
    "\n",
    "N = 1000000\n",
    "\n",
    "u = np.random.uniform(0, 1, size=N)\n",
    "z = np.random.binomial(1., p=0.5, size=N)\n",
    "\n",
    "p_e = 0.2\n",
    "e = np.random.binomial(1., p=p_e, size=N)\n",
    "delta = np.random.normal(u)\n",
    "\n",
    "epsilon_x = np.random.binomial(1, p=1. / (1. + np.exp(-delta + u - 0.5)))\n",
    "x_0 = (e==1)*epsilon_x + (e==0)*0\n",
    "x_1 = (e==1)*epsilon_x + (e==0)*1\n",
    "x = (z==1)*x_1 + (z==0)*x_0\n",
    "y = u + delta*x + np.random.normal(size=N)\n",
    "\n",
    "df = pd.DataFrame({\"X\": x, \"Z\": z, \"E\": e, \"U\": u, \"Y\": y, \"X_0\": x_0, \"X_1\": x_1, \"delta\": delta})"
   ]
  },
  {
   "cell_type": "markdown",
   "metadata": {},
   "source": [
    "# what is $\\kappa$ here?\n",
    "\n",
    "X_1 - X_0 = (e==0)*Z\n",
    "\n",
    "so $\\kappa$ = (e==0)."
   ]
  },
  {
   "cell_type": "markdown",
   "metadata": {},
   "source": [
    "# Do we have compliers? Defiers? Always and never takers?"
   ]
  },
  {
   "cell_type": "code",
   "execution_count": 3,
   "metadata": {},
   "outputs": [
    {
     "data": {
      "text/html": [
       "<div>\n",
       "<style scoped>\n",
       "    .dataframe tbody tr th:only-of-type {\n",
       "        vertical-align: middle;\n",
       "    }\n",
       "\n",
       "    .dataframe tbody tr th {\n",
       "        vertical-align: top;\n",
       "    }\n",
       "\n",
       "    .dataframe thead th {\n",
       "        text-align: right;\n",
       "    }\n",
       "</style>\n",
       "<table border=\"1\" class=\"dataframe\">\n",
       "  <thead>\n",
       "    <tr style=\"text-align: right;\">\n",
       "      <th></th>\n",
       "      <th></th>\n",
       "      <th>X</th>\n",
       "    </tr>\n",
       "    <tr>\n",
       "      <th>X_0</th>\n",
       "      <th>X_1</th>\n",
       "      <th></th>\n",
       "    </tr>\n",
       "  </thead>\n",
       "  <tbody>\n",
       "    <tr>\n",
       "      <td rowspan=\"2\" valign=\"top\">0</td>\n",
       "      <td>0</td>\n",
       "      <td>79363</td>\n",
       "    </tr>\n",
       "    <tr>\n",
       "      <td>1</td>\n",
       "      <td>800047</td>\n",
       "    </tr>\n",
       "    <tr>\n",
       "      <td>1</td>\n",
       "      <td>1</td>\n",
       "      <td>120590</td>\n",
       "    </tr>\n",
       "  </tbody>\n",
       "</table>\n",
       "</div>"
      ],
      "text/plain": [
       "              X\n",
       "X_0 X_1        \n",
       "0   0     79363\n",
       "    1    800047\n",
       "1   1    120590"
      ]
     },
     "execution_count": 3,
     "metadata": {},
     "output_type": "execute_result"
    }
   ],
   "source": [
    "df.groupby(['X_0', 'X_1']).count()[['X']]"
   ]
  },
  {
   "cell_type": "markdown",
   "metadata": {},
   "source": [
    "So we have around 800 never-takers, 1000 always-takers, and 8000 compliers."
   ]
  },
  {
   "cell_type": "code",
   "execution_count": 4,
   "metadata": {},
   "outputs": [
    {
     "data": {
      "text/plain": [
       "(0.5794967707954743, 0.5026175523594267)"
      ]
     },
     "execution_count": 4,
     "metadata": {},
     "output_type": "execute_result"
    }
   ],
   "source": [
    "def naive_effect(df):\n",
    "    return df.groupby('X').mean()['Y'][1] - df.groupby('X').mean()['Y'][0]\n",
    "\n",
    "def wald_effect(df):\n",
    "    return np.cov(df['Y'], df['Z'])[0][1] / np.cov(df['X'], df['Z'])[0][1]\n",
    "\n",
    "naive_effect(df), wald_effect(df)"
   ]
  },
  {
   "cell_type": "code",
   "execution_count": 5,
   "metadata": {},
   "outputs": [
    {
     "data": {
      "text/plain": [
       "0.49956892722023577"
      ]
     },
     "execution_count": 5,
     "metadata": {},
     "output_type": "execute_result"
    }
   ],
   "source": [
    "delta.mean()"
   ]
  },
  {
   "cell_type": "markdown",
   "metadata": {},
   "source": [
    "Now we see that our IV estimator is biased for the true effect! What effect are we estimating?"
   ]
  },
  {
   "cell_type": "code",
   "execution_count": 6,
   "metadata": {},
   "outputs": [
    {
     "data": {
      "text/html": [
       "<div>\n",
       "<style scoped>\n",
       "    .dataframe tbody tr th:only-of-type {\n",
       "        vertical-align: middle;\n",
       "    }\n",
       "\n",
       "    .dataframe tbody tr th {\n",
       "        vertical-align: top;\n",
       "    }\n",
       "\n",
       "    .dataframe thead th {\n",
       "        text-align: right;\n",
       "    }\n",
       "</style>\n",
       "<table border=\"1\" class=\"dataframe\">\n",
       "  <thead>\n",
       "    <tr style=\"text-align: right;\">\n",
       "      <th></th>\n",
       "      <th></th>\n",
       "      <th>delta</th>\n",
       "    </tr>\n",
       "    <tr>\n",
       "      <th>X_0</th>\n",
       "      <th>X_1</th>\n",
       "      <th></th>\n",
       "    </tr>\n",
       "  </thead>\n",
       "  <tbody>\n",
       "    <tr>\n",
       "      <td rowspan=\"2\" valign=\"top\">0</td>\n",
       "      <td>0</td>\n",
       "      <td>0.002794</td>\n",
       "    </tr>\n",
       "    <tr>\n",
       "      <td>1</td>\n",
       "      <td>0.499815</td>\n",
       "    </tr>\n",
       "    <tr>\n",
       "      <td>1</td>\n",
       "      <td>1</td>\n",
       "      <td>0.825917</td>\n",
       "    </tr>\n",
       "  </tbody>\n",
       "</table>\n",
       "</div>"
      ],
      "text/plain": [
       "            delta\n",
       "X_0 X_1          \n",
       "0   0    0.002794\n",
       "    1    0.499815\n",
       "1   1    0.825917"
      ]
     },
     "execution_count": 6,
     "metadata": {},
     "output_type": "execute_result"
    }
   ],
   "source": [
    "df.groupby(['X_0', 'X_1']).mean()[['delta']]"
   ]
  },
  {
   "cell_type": "markdown",
   "metadata": {},
   "source": [
    "# in this example we had a real experiment for compliers, and a confounded experiment for always and never takers. The IV estimator converged to the true effect, because the complier effect was the true effect! What if the complier effect was confounded?"
   ]
  },
  {
   "cell_type": "code",
   "execution_count": null,
   "metadata": {},
   "outputs": [],
   "source": []
  },
  {
   "cell_type": "code",
   "execution_count": 5,
   "metadata": {},
   "outputs": [],
   "source": [
    "import pandas as pd\n",
    "import numpy as np\n",
    "\n",
    "N = 100000\n",
    "\n",
    "u = np.random.uniform(0, 1, size=N)\n",
    "z = np.random.binomial(1., p=0.5, size=N)\n",
    "\n",
    "p_e = 0.2\n",
    "e = np.random.binomial(1., p=p_e, size=N)\n",
    "delta = np.random.normal(u)\n",
    "\n",
    "epsilon_x = np.random.binomial(1, p=1. / (1. + np.exp(-delta + u - 0.5)))\n",
    "x_0 = (e==1)*epsilon_x + (e==0)*0\n",
    "x_1 = (e==1)*epsilon_x + (e==0)*np.random.binomial(1, p=u)\n",
    "x = (z==1)*x_1 + (z==0)*x_0\n",
    "y = u + delta*x + np.random.normal(size=N)\n",
    "\n",
    "df = pd.DataFrame({\"X\": x, \"Z\": z, \"E\": e, \"U\": u, \"Y\": y, \"X_0\": x_0, \"X_1\": x_1, \"delta\": delta})"
   ]
  },
  {
   "cell_type": "markdown",
   "metadata": {},
   "source": [
    "# what is $\\kappa$ here?\n",
    "\n",
    "X_1 - X_0 = (e==0)*np.random.binomial(1, p=u)*Z\n",
    "\n",
    "so $\\kappa$ = (e==0)*np.random.binomial(1, p=u)"
   ]
  },
  {
   "cell_type": "markdown",
   "metadata": {},
   "source": [
    "# We still only have compliers ..."
   ]
  },
  {
   "cell_type": "code",
   "execution_count": 6,
   "metadata": {},
   "outputs": [
    {
     "data": {
      "text/html": [
       "<div>\n",
       "<style scoped>\n",
       "    .dataframe tbody tr th:only-of-type {\n",
       "        vertical-align: middle;\n",
       "    }\n",
       "\n",
       "    .dataframe tbody tr th {\n",
       "        vertical-align: top;\n",
       "    }\n",
       "\n",
       "    .dataframe thead th {\n",
       "        text-align: right;\n",
       "    }\n",
       "</style>\n",
       "<table border=\"1\" class=\"dataframe\">\n",
       "  <thead>\n",
       "    <tr style=\"text-align: right;\">\n",
       "      <th></th>\n",
       "      <th></th>\n",
       "      <th>X</th>\n",
       "    </tr>\n",
       "    <tr>\n",
       "      <th>X_0</th>\n",
       "      <th>X_1</th>\n",
       "      <th></th>\n",
       "    </tr>\n",
       "  </thead>\n",
       "  <tbody>\n",
       "    <tr>\n",
       "      <td rowspan=\"2\" valign=\"top\">0</td>\n",
       "      <td>0</td>\n",
       "      <td>47828</td>\n",
       "    </tr>\n",
       "    <tr>\n",
       "      <td>1</td>\n",
       "      <td>40132</td>\n",
       "    </tr>\n",
       "    <tr>\n",
       "      <td>1</td>\n",
       "      <td>1</td>\n",
       "      <td>12040</td>\n",
       "    </tr>\n",
       "  </tbody>\n",
       "</table>\n",
       "</div>"
      ],
      "text/plain": [
       "             X\n",
       "X_0 X_1       \n",
       "0   0    47828\n",
       "    1    40132\n",
       "1   1    12040"
      ]
     },
     "execution_count": 6,
     "metadata": {},
     "output_type": "execute_result"
    }
   ],
   "source": [
    "df.groupby(['X_0', 'X_1']).count()[['X']]"
   ]
  },
  {
   "cell_type": "markdown",
   "metadata": {},
   "source": [
    "# but now the IV estimator is biased!!\n"
   ]
  },
  {
   "cell_type": "code",
   "execution_count": 7,
   "metadata": {},
   "outputs": [
    {
     "data": {
      "text/plain": [
       "(0.8837384697251055, 0.6536798918821379)"
      ]
     },
     "execution_count": 7,
     "metadata": {},
     "output_type": "execute_result"
    }
   ],
   "source": [
    "\n",
    "def naive_effect(df):\n",
    "    return df.groupby('X').mean()['Y'][1] - df.groupby('X').mean()['Y'][0]\n",
    "\n",
    "def wald_effect(df):\n",
    "    return np.cov(df['Y'], df['Z'])[0][1] / np.cov(df['X'], df['Z'])[0][1]\n",
    "\n",
    "naive_effect(df), wald_effect(df)"
   ]
  },
  {
   "cell_type": "code",
   "execution_count": 8,
   "metadata": {},
   "outputs": [
    {
     "data": {
      "text/plain": [
       "0.5014072803110581"
      ]
     },
     "execution_count": 8,
     "metadata": {},
     "output_type": "execute_result"
    }
   ],
   "source": [
    "delta.mean()"
   ]
  },
  {
   "cell_type": "markdown",
   "metadata": {},
   "source": [
    "# Again, we've measured the effect only on the compliers"
   ]
  },
  {
   "cell_type": "code",
   "execution_count": 9,
   "metadata": {},
   "outputs": [
    {
     "data": {
      "text/html": [
       "<div>\n",
       "<style scoped>\n",
       "    .dataframe tbody tr th:only-of-type {\n",
       "        vertical-align: middle;\n",
       "    }\n",
       "\n",
       "    .dataframe tbody tr th {\n",
       "        vertical-align: top;\n",
       "    }\n",
       "\n",
       "    .dataframe thead th {\n",
       "        text-align: right;\n",
       "    }\n",
       "</style>\n",
       "<table border=\"1\" class=\"dataframe\">\n",
       "  <thead>\n",
       "    <tr style=\"text-align: right;\">\n",
       "      <th></th>\n",
       "      <th></th>\n",
       "      <th>delta</th>\n",
       "    </tr>\n",
       "    <tr>\n",
       "      <th>X_0</th>\n",
       "      <th>X_1</th>\n",
       "      <th></th>\n",
       "    </tr>\n",
       "  </thead>\n",
       "  <tbody>\n",
       "    <tr>\n",
       "      <td rowspan=\"2\" valign=\"top\">0</td>\n",
       "      <td>0</td>\n",
       "      <td>0.281969</td>\n",
       "    </tr>\n",
       "    <tr>\n",
       "      <td>1</td>\n",
       "      <td>0.665878</td>\n",
       "    </tr>\n",
       "    <tr>\n",
       "      <td>1</td>\n",
       "      <td>1</td>\n",
       "      <td>0.824895</td>\n",
       "    </tr>\n",
       "  </tbody>\n",
       "</table>\n",
       "</div>"
      ],
      "text/plain": [
       "            delta\n",
       "X_0 X_1          \n",
       "0   0    0.281969\n",
       "    1    0.665878\n",
       "1   1    0.824895"
      ]
     },
     "execution_count": 9,
     "metadata": {},
     "output_type": "execute_result"
    }
   ],
   "source": [
    "df.groupby(['X_0', 'X_1']).mean()[['delta']]"
   ]
  },
  {
   "cell_type": "code",
   "execution_count": null,
   "metadata": {},
   "outputs": [],
   "source": [
    "Heterogeneous (\\delta \\not\\perp {U, \\epsilon_Y}) treatment effects --> E[\\delta|G=d] != E[\\delta|G=c] != E[\\delta|G=a] != E[\\delta|G=n],\n",
    "we measure\n",
    "E[\\delta|G=g], rather than E[\\delta]"
   ]
  },
  {
   "cell_type": "code",
   "execution_count": null,
   "metadata": {},
   "outputs": [],
   "source": [
    "Homogeneous treatment effects --> E[\\delta|G=d] = E[\\delta|G=c] = E[\\delta|G=a] = E[\\delta|G=n],\n",
    "we measure\n",
    "E[\\delta]"
   ]
  }
 ],
 "metadata": {
  "kernelspec": {
   "display_name": "Python 3",
   "language": "python",
   "name": "python3"
  },
  "language_info": {
   "codemirror_mode": {
    "name": "ipython",
    "version": 3
   },
   "file_extension": ".py",
   "mimetype": "text/x-python",
   "name": "python",
   "nbconvert_exporter": "python",
   "pygments_lexer": "ipython3",
   "version": "3.6.7"
  }
 },
 "nbformat": 4,
 "nbformat_minor": 2
}
