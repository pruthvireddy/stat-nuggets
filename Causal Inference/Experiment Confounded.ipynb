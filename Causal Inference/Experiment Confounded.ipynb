{
 "cells": [
  {
   "cell_type": "code",
   "execution_count": 1,
   "metadata": {},
   "outputs": [],
   "source": [
    "%matplotlib inline"
   ]
  },
  {
   "cell_type": "code",
   "execution_count": 124,
   "metadata": {},
   "outputs": [],
   "source": [
    "import pandas as pd\n",
    "import numpy as np\n",
    "\n",
    "\n",
    "N = 1000\n",
    "\n",
    "p0 = 0.1\n",
    "p = 0.01\n",
    "tau = 5\n",
    "\n",
    "alpha_x = {0: 10, 1: 5, 2: 2}\n",
    "beta_x =  {0: 1, 1: 1, 2: 1}\n",
    "lambda_x = {0: 20, 1: 10, 2: 5}\n",
    "\n",
    "x = np.random.choice([0, 1, 2], size=N)\n",
    "\n",
    "k = [alpha_x[x_i] for x_i in x]\n",
    "theta = [1. / beta_x[x_i] for x_i in x]\n",
    "lambd = [lambda_x[x_i] for x_i in x]\n",
    "z2 = np.random.gamma(k, theta)\n",
    "z1 = np.random.poisson(lambd)\n",
    "\n",
    "y1 = np.random.binomial(1, p=p0 * np.exp(-z2/tau))\n",
    "y2 = np.random.binomial(z1, p)\n",
    "y = y1 + y2\n",
    "\n",
    "df = pd.DataFrame({'X': x, 'Y': y, 'Z_1': z1, 'Z_2': z2, 'Y1': y1, 'Y2': y2})"
   ]
  },
  {
   "cell_type": "code",
   "execution_count": 67,
   "metadata": {},
   "outputs": [
    {
     "data": {
      "text/plain": [
       "array([[<matplotlib.axes._subplots.AxesSubplot object at 0x7f490cd10518>,\n",
       "        <matplotlib.axes._subplots.AxesSubplot object at 0x7f490d324dd8>],\n",
       "       [<matplotlib.axes._subplots.AxesSubplot object at 0x7f490cf62e10>,\n",
       "        <matplotlib.axes._subplots.AxesSubplot object at 0x7f490c5130b8>],\n",
       "       [<matplotlib.axes._subplots.AxesSubplot object at 0x7f490c4c6320>,\n",
       "        <matplotlib.axes._subplots.AxesSubplot object at 0x7f490c478588>]],\n",
       "      dtype=object)"
      ]
     },
     "execution_count": 67,
     "metadata": {},
     "output_type": "execute_result"
    },
    {
     "data": {
      "image/png": "[encoded data removed]",
      "text/plain": [
       "<Figure size 432x288 with 6 Axes>"
      ]
     },
     "metadata": {
      "needs_background": "light"
     },
     "output_type": "display_data"
    }
   ],
   "source": [
    "df.hist()"
   ]
  },
  {
   "cell_type": "code",
   "execution_count": 68,
   "metadata": {},
   "outputs": [
    {
     "data": {
      "text/plain": [
       "X\n",
       "0    0.214732\n",
       "1    0.139442\n",
       "2    0.118713\n",
       "Name: Y, dtype: float64"
      ]
     },
     "execution_count": 68,
     "metadata": {},
     "output_type": "execute_result"
    }
   ],
   "source": [
    "df.groupby('X').mean()['Y']"
   ]
  },
  {
   "cell_type": "code",
   "execution_count": 69,
   "metadata": {},
   "outputs": [
    {
     "data": {
      "text/html": [
       "<div>\n",
       "<style scoped>\n",
       "    .dataframe tbody tr th:only-of-type {\n",
       "        vertical-align: middle;\n",
       "    }\n",
       "\n",
       "    .dataframe tbody tr th {\n",
       "        vertical-align: top;\n",
       "    }\n",
       "\n",
       "    .dataframe thead th {\n",
       "        text-align: right;\n",
       "    }\n",
       "</style>\n",
       "<table border=\"1\" class=\"dataframe\">\n",
       "  <thead>\n",
       "    <tr style=\"text-align: right;\">\n",
       "      <th></th>\n",
       "      <th>Y1</th>\n",
       "      <th>Y2</th>\n",
       "      <th>Y</th>\n",
       "    </tr>\n",
       "    <tr>\n",
       "      <th>X</th>\n",
       "      <th></th>\n",
       "      <th></th>\n",
       "      <th></th>\n",
       "    </tr>\n",
       "  </thead>\n",
       "  <tbody>\n",
       "    <tr>\n",
       "      <th>0</th>\n",
       "      <td>0.017003</td>\n",
       "      <td>0.197729</td>\n",
       "      <td>0.214732</td>\n",
       "    </tr>\n",
       "    <tr>\n",
       "      <th>1</th>\n",
       "      <td>0.039595</td>\n",
       "      <td>0.099846</td>\n",
       "      <td>0.139442</td>\n",
       "    </tr>\n",
       "    <tr>\n",
       "      <th>2</th>\n",
       "      <td>0.069289</td>\n",
       "      <td>0.049424</td>\n",
       "      <td>0.118713</td>\n",
       "    </tr>\n",
       "  </tbody>\n",
       "</table>\n",
       "</div>"
      ],
      "text/plain": [
       "         Y1        Y2         Y\n",
       "X                              \n",
       "0  0.017003  0.197729  0.214732\n",
       "1  0.039595  0.099846  0.139442\n",
       "2  0.069289  0.049424  0.118713"
      ]
     },
     "execution_count": 69,
     "metadata": {},
     "output_type": "execute_result"
    }
   ],
   "source": [
    "df.groupby('X').mean()[['Y1', 'Y2', 'Y']]"
   ]
  },
  {
   "cell_type": "code",
   "execution_count": 141,
   "metadata": {},
   "outputs": [],
   "source": [
    "import pandas as pd\n",
    "import numpy as np\n",
    "\n",
    "\n",
    "N = 100000\n",
    "\n",
    "p0 = 0.1\n",
    "p = 0.01\n",
    "tau = 5\n",
    "\n",
    "alpha_x = {0: 10, 1: 5, 2: 2}\n",
    "beta_x =  {0: 1, 1: 1, 2: 1}\n",
    "lambda_x = {0: 20, 1: 10, 2: 5}\n",
    "\n",
    "u = np.random.normal(size=N)\n",
    "\n",
    "x = np.random.binomial(2, p=1. / (1. + np.exp(-u)))#np.random.choice([0, 1, 2], size=N)\n",
    "\n",
    "k = [alpha_x[x_i] for x_i in x]\n",
    "theta = [1. / beta_x[x_i] for x_i in x]\n",
    "lambd = [lambda_x[x_i] for x_i in x]\n",
    "z2 = np.random.gamma(k, theta)\n",
    "z1 = np.random.poisson(lambd)\n",
    "\n",
    "y1 = np.random.binomial(1, p=p0 * np.exp(-z2/tau))\n",
    "y2 = np.random.binomial(z1, p)\n",
    "y = y1 + y2 + np.random.binomial(2, p=1. / (1. + np.exp(-u)))\n",
    "\n",
    "df = pd.DataFrame({'X': x, 'Y': y, 'Z_1': z1, 'Z_2': z2, 'Y1': y1, 'Y2': y2})"
   ]
  },
  {
   "cell_type": "code",
   "execution_count": 149,
   "metadata": {},
   "outputs": [
    {
     "data": {
      "text/plain": [
       "X\n",
       "0    0.918449\n",
       "1    1.139442\n",
       "2    1.422408\n",
       "Name: Y, dtype: float64"
      ]
     },
     "execution_count": 149,
     "metadata": {},
     "output_type": "execute_result"
    }
   ],
   "source": [
    "df.groupby('X').mean()['Y']"
   ]
  },
  {
   "cell_type": "code",
   "execution_count": 150,
   "metadata": {},
   "outputs": [
    {
     "data": {
      "text/html": [
       "<div>\n",
       "<style scoped>\n",
       "    .dataframe tbody tr th:only-of-type {\n",
       "        vertical-align: middle;\n",
       "    }\n",
       "\n",
       "    .dataframe tbody tr th {\n",
       "        vertical-align: top;\n",
       "    }\n",
       "\n",
       "    .dataframe thead th {\n",
       "        text-align: right;\n",
       "    }\n",
       "</style>\n",
       "<table border=\"1\" class=\"dataframe\">\n",
       "  <thead>\n",
       "    <tr style=\"text-align: right;\">\n",
       "      <th></th>\n",
       "      <th>Y1</th>\n",
       "      <th>Y2</th>\n",
       "      <th>Y</th>\n",
       "    </tr>\n",
       "    <tr>\n",
       "      <th>X</th>\n",
       "      <th></th>\n",
       "      <th></th>\n",
       "      <th></th>\n",
       "    </tr>\n",
       "  </thead>\n",
       "  <tbody>\n",
       "    <tr>\n",
       "      <th>0</th>\n",
       "      <td>0.017321</td>\n",
       "      <td>0.202255</td>\n",
       "      <td>0.918449</td>\n",
       "    </tr>\n",
       "    <tr>\n",
       "      <th>1</th>\n",
       "      <td>0.039816</td>\n",
       "      <td>0.101656</td>\n",
       "      <td>1.139442</td>\n",
       "    </tr>\n",
       "    <tr>\n",
       "      <th>2</th>\n",
       "      <td>0.068210</td>\n",
       "      <td>0.049855</td>\n",
       "      <td>1.422408</td>\n",
       "    </tr>\n",
       "  </tbody>\n",
       "</table>\n",
       "</div>"
      ],
      "text/plain": [
       "         Y1        Y2         Y\n",
       "X                              \n",
       "0  0.017321  0.202255  0.918449\n",
       "1  0.039816  0.101656  1.139442\n",
       "2  0.068210  0.049855  1.422408"
      ]
     },
     "execution_count": 150,
     "metadata": {},
     "output_type": "execute_result"
    }
   ],
   "source": [
    "df.groupby('X').mean()[['Y1', 'Y2', 'Y']]"
   ]
  },
  {
   "cell_type": "code",
   "execution_count": 142,
   "metadata": {},
   "outputs": [
    {
     "data": {
      "text/html": [
       "<table class=\"simpletable\">\n",
       "<caption>OLS Regression Results</caption>\n",
       "<tr>\n",
       "  <th>Dep. Variable:</th>            <td>Y</td>        <th>  R-squared:         </th>  <td>   0.053</td>  \n",
       "</tr>\n",
       "<tr>\n",
       "  <th>Model:</th>                   <td>OLS</td>       <th>  Adj. R-squared:    </th>  <td>   0.053</td>  \n",
       "</tr>\n",
       "<tr>\n",
       "  <th>Method:</th>             <td>Least Squares</td>  <th>  F-statistic:       </th>  <td>   1879.</td>  \n",
       "</tr>\n",
       "<tr>\n",
       "  <th>Date:</th>             <td>Wed, 08 Apr 2020</td> <th>  Prob (F-statistic):</th>   <td>  0.00</td>   \n",
       "</tr>\n",
       "<tr>\n",
       "  <th>Time:</th>                 <td>18:40:17</td>     <th>  Log-Likelihood:    </th> <td>-1.2339e+05</td>\n",
       "</tr>\n",
       "<tr>\n",
       "  <th>No. Observations:</th>      <td>100000</td>      <th>  AIC:               </th>  <td>2.468e+05</td> \n",
       "</tr>\n",
       "<tr>\n",
       "  <th>Df Residuals:</th>          <td> 99996</td>      <th>  BIC:               </th>  <td>2.468e+05</td> \n",
       "</tr>\n",
       "<tr>\n",
       "  <th>Df Model:</th>              <td>     3</td>      <th>                     </th>      <td> </td>     \n",
       "</tr>\n",
       "<tr>\n",
       "  <th>Covariance Type:</th>      <td>nonrobust</td>    <th>                     </th>      <td> </td>     \n",
       "</tr>\n",
       "</table>\n",
       "<table class=\"simpletable\">\n",
       "<tr>\n",
       "      <td></td>         <th>coef</th>     <th>std err</th>      <th>t</th>      <th>P>|t|</th>  <th>[0.025</th>    <th>0.975]</th>  \n",
       "</tr>\n",
       "<tr>\n",
       "  <th>Z_1</th>       <td>    0.0110</td> <td>    0.001</td> <td>   15.018</td> <td> 0.000</td> <td>    0.010</td> <td>    0.012</td>\n",
       "</tr>\n",
       "<tr>\n",
       "  <th>expz2</th>     <td>    0.0737</td> <td>    0.018</td> <td>    4.069</td> <td> 0.000</td> <td>    0.038</td> <td>    0.109</td>\n",
       "</tr>\n",
       "<tr>\n",
       "  <th>X</th>         <td>    0.3146</td> <td>    0.008</td> <td>   38.500</td> <td> 0.000</td> <td>    0.299</td> <td>    0.331</td>\n",
       "</tr>\n",
       "<tr>\n",
       "  <th>intercept</th> <td>    0.6863</td> <td>    0.015</td> <td>   46.688</td> <td> 0.000</td> <td>    0.657</td> <td>    0.715</td>\n",
       "</tr>\n",
       "</table>\n",
       "<table class=\"simpletable\">\n",
       "<tr>\n",
       "  <th>Omnibus:</th>       <td>1777.430</td> <th>  Durbin-Watson:     </th> <td>   1.995</td>\n",
       "</tr>\n",
       "<tr>\n",
       "  <th>Prob(Omnibus):</th>  <td> 0.000</td>  <th>  Jarque-Bera (JB):  </th> <td>1612.733</td>\n",
       "</tr>\n",
       "<tr>\n",
       "  <th>Skew:</th>           <td> 0.264</td>  <th>  Prob(JB):          </th> <td>    0.00</td>\n",
       "</tr>\n",
       "<tr>\n",
       "  <th>Kurtosis:</th>       <td> 2.671</td>  <th>  Cond. No.          </th> <td>    96.3</td>\n",
       "</tr>\n",
       "</table><br/><br/>Warnings:<br/>[1] Standard Errors assume that the covariance matrix of the errors is correctly specified."
      ],
      "text/plain": [
       "<class 'statsmodels.iolib.summary.Summary'>\n",
       "\"\"\"\n",
       "                            OLS Regression Results                            \n",
       "==============================================================================\n",
       "Dep. Variable:                      Y   R-squared:                       0.053\n",
       "Model:                            OLS   Adj. R-squared:                  0.053\n",
       "Method:                 Least Squares   F-statistic:                     1879.\n",
       "Date:                Wed, 08 Apr 2020   Prob (F-statistic):               0.00\n",
       "Time:                        18:40:17   Log-Likelihood:            -1.2339e+05\n",
       "No. Observations:              100000   AIC:                         2.468e+05\n",
       "Df Residuals:                   99996   BIC:                         2.468e+05\n",
       "Df Model:                           3                                         \n",
       "Covariance Type:            nonrobust                                         \n",
       "==============================================================================\n",
       "                 coef    std err          t      P>|t|      [0.025      0.975]\n",
       "------------------------------------------------------------------------------\n",
       "Z_1            0.0110      0.001     15.018      0.000       0.010       0.012\n",
       "expz2          0.0737      0.018      4.069      0.000       0.038       0.109\n",
       "X              0.3146      0.008     38.500      0.000       0.299       0.331\n",
       "intercept      0.6863      0.015     46.688      0.000       0.657       0.715\n",
       "==============================================================================\n",
       "Omnibus:                     1777.430   Durbin-Watson:                   1.995\n",
       "Prob(Omnibus):                  0.000   Jarque-Bera (JB):             1612.733\n",
       "Skew:                           0.264   Prob(JB):                         0.00\n",
       "Kurtosis:                       2.671   Cond. No.                         96.3\n",
       "==============================================================================\n",
       "\n",
       "Warnings:\n",
       "[1] Standard Errors assume that the covariance matrix of the errors is correctly specified.\n",
       "\"\"\""
      ]
     },
     "execution_count": 142,
     "metadata": {},
     "output_type": "execute_result"
    }
   ],
   "source": [
    "from statsmodels.api import OLS\n",
    "\n",
    "df['expz2'] = np.exp(-z2/tau)\n",
    "df['intercept'] = 1.\n",
    "model = OLS(endog=df['Y'], exog=df[['Z_1', 'expz2', 'X', 'intercept']])\n",
    "\n",
    "result = model.fit()\n",
    "df['y_given_z2_x'] = result.predict()\n",
    "result.summary()"
   ]
  },
  {
   "cell_type": "code",
   "execution_count": 151,
   "metadata": {},
   "outputs": [],
   "source": [
    "from statsmodels.nonparametric.kernel_density import KDEMultivariateConditional\n",
    "\n",
    "p_z1_z2_given_x = KDEMultivariateConditional(endog=df[['Z_1', 'Z_2']], exog=df[['X']], \n",
    "                                          dep_type='cc', indep_type='u', \n",
    "                                          bw='normal_reference')"
   ]
  },
  {
   "cell_type": "code",
   "execution_count": 152,
   "metadata": {},
   "outputs": [],
   "source": [
    "px = df.groupby('X').count()"
   ]
  },
  {
   "cell_type": "code",
   "execution_count": 153,
   "metadata": {},
   "outputs": [
    {
     "data": {
      "text/html": [
       "<div>\n",
       "<style scoped>\n",
       "    .dataframe tbody tr th:only-of-type {\n",
       "        vertical-align: middle;\n",
       "    }\n",
       "\n",
       "    .dataframe tbody tr th {\n",
       "        vertical-align: top;\n",
       "    }\n",
       "\n",
       "    .dataframe thead th {\n",
       "        text-align: right;\n",
       "    }\n",
       "</style>\n",
       "<table border=\"1\" class=\"dataframe\">\n",
       "  <thead>\n",
       "    <tr style=\"text-align: right;\">\n",
       "      <th></th>\n",
       "      <th>Y</th>\n",
       "      <th>Z_1</th>\n",
       "      <th>Z_2</th>\n",
       "      <th>Y1</th>\n",
       "      <th>Y2</th>\n",
       "      <th>expz2</th>\n",
       "      <th>intercept</th>\n",
       "      <th>y_given_z2_x</th>\n",
       "    </tr>\n",
       "    <tr>\n",
       "      <th>X</th>\n",
       "      <th></th>\n",
       "      <th></th>\n",
       "      <th></th>\n",
       "      <th></th>\n",
       "      <th></th>\n",
       "      <th></th>\n",
       "      <th></th>\n",
       "      <th></th>\n",
       "    </tr>\n",
       "  </thead>\n",
       "  <tbody>\n",
       "    <tr>\n",
       "      <th>0</th>\n",
       "      <td>0.29270</td>\n",
       "      <td>0.29270</td>\n",
       "      <td>0.29270</td>\n",
       "      <td>0.29270</td>\n",
       "      <td>0.29270</td>\n",
       "      <td>0.29270</td>\n",
       "      <td>0.29270</td>\n",
       "      <td>0.29270</td>\n",
       "    </tr>\n",
       "    <tr>\n",
       "      <th>1</th>\n",
       "      <td>0.41365</td>\n",
       "      <td>0.41365</td>\n",
       "      <td>0.41365</td>\n",
       "      <td>0.41365</td>\n",
       "      <td>0.41365</td>\n",
       "      <td>0.41365</td>\n",
       "      <td>0.41365</td>\n",
       "      <td>0.41365</td>\n",
       "    </tr>\n",
       "    <tr>\n",
       "      <th>2</th>\n",
       "      <td>0.29365</td>\n",
       "      <td>0.29365</td>\n",
       "      <td>0.29365</td>\n",
       "      <td>0.29365</td>\n",
       "      <td>0.29365</td>\n",
       "      <td>0.29365</td>\n",
       "      <td>0.29365</td>\n",
       "      <td>0.29365</td>\n",
       "    </tr>\n",
       "  </tbody>\n",
       "</table>\n",
       "</div>"
      ],
      "text/plain": [
       "         Y      Z_1      Z_2       Y1       Y2    expz2  intercept  \\\n",
       "X                                                                    \n",
       "0  0.29270  0.29270  0.29270  0.29270  0.29270  0.29270    0.29270   \n",
       "1  0.41365  0.41365  0.41365  0.41365  0.41365  0.41365    0.41365   \n",
       "2  0.29365  0.29365  0.29365  0.29365  0.29365  0.29365    0.29365   \n",
       "\n",
       "   y_given_z2_x  \n",
       "X                \n",
       "0       0.29270  \n",
       "1       0.41365  \n",
       "2       0.29365  "
      ]
     },
     "execution_count": 153,
     "metadata": {},
     "output_type": "execute_result"
    }
   ],
   "source": [
    "px / len(df)"
   ]
  },
  {
   "cell_type": "code",
   "execution_count": 154,
   "metadata": {},
   "outputs": [
    {
     "data": {
      "text/plain": [
       "array([1.38545476, 0.79874718, 0.15671057])"
      ]
     },
     "execution_count": 154,
     "metadata": {},
     "output_type": "execute_result"
    }
   ],
   "source": [
    "p_z1_z2_given_x.bw"
   ]
  },
  {
   "cell_type": "code",
   "execution_count": 146,
   "metadata": {},
   "outputs": [
    {
     "data": {
      "text/plain": [
       "(1.165133943679454, 1.644048935377988e-08)"
      ]
     },
     "execution_count": 146,
     "metadata": {},
     "output_type": "execute_result"
    }
   ],
   "source": [
    "from scipy.integrate import dblquad\n",
    "\n",
    "def integrand(z1, z2, x=0):\n",
    "    f1 = float(p_z1_z2_given_x.pdf(endog_predict=[z1, z2], exog_predict=[x]))\n",
    "    the_sum = 0.\n",
    "    for xp in df.X.unique():\n",
    "        y = result.predict(exog=[z1, np.exp(-z2/tau), xp, 1.])[0]\n",
    "        p_x = (px / len(df))['Y'][xp]\n",
    "        the_sum += y * p_x\n",
    "    return the_sum*f1\n",
    "        \n",
    "dblquad(lambda z1, z2: integrand(z1, z2, x=0.), \n",
    "        df.Z_1.min() - 1, df.Z_1.max() + 1, \n",
    "        df.Z_2.min() - 1, df.Z_2.max() + 1)"
   ]
  },
  {
   "cell_type": "code",
   "execution_count": 147,
   "metadata": {},
   "outputs": [
    {
     "data": {
      "text/plain": [
       "(1.1401767838909023, 1.6975743067382053e-08)"
      ]
     },
     "execution_count": 147,
     "metadata": {},
     "output_type": "execute_result"
    }
   ],
   "source": [
    "dblquad(lambda z1, z2: integrand(z1, z2, x=1.), \n",
    "        df.Z_1.min() - 1, df.Z_1.max() + 1, \n",
    "        df.Z_2.min() - 1, df.Z_2.max() + 1)"
   ]
  },
  {
   "cell_type": "code",
   "execution_count": 148,
   "metadata": {},
   "outputs": [
    {
     "data": {
      "text/plain": [
       "(1.1042659136450854, 1.4730014876130089e-08)"
      ]
     },
     "execution_count": 148,
     "metadata": {},
     "output_type": "execute_result"
    }
   ],
   "source": [
    "dblquad(lambda z1, z2: integrand(z1, z2, x=2.), \n",
    "        df.Z_1.min() - 1, df.Z_1.max() + 1, \n",
    "        df.Z_2.min() - 1, df.Z_2.max() + 1)"
   ]
  },
  {
   "cell_type": "code",
   "execution_count": null,
   "metadata": {},
   "outputs": [],
   "source": []
  },
  {
   "cell_type": "code",
   "execution_count": null,
   "metadata": {},
   "outputs": [],
   "source": []
  }
 ],
 "metadata": {
  "kernelspec": {
   "display_name": "Python 3",
   "language": "python",
   "name": "python3"
  },
  "language_info": {
   "codemirror_mode": {
    "name": "ipython",
    "version": 3
   },
   "file_extension": ".py",
   "mimetype": "text/x-python",
   "name": "python",
   "nbconvert_exporter": "python",
   "pygments_lexer": "ipython3",
   "version": "3.6.9"
  }
 },
 "nbformat": 4,
 "nbformat_minor": 4
}
