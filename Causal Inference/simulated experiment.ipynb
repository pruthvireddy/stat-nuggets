{
 "cells": [
  {
   "cell_type": "code",
   "execution_count": 1,
   "metadata": {},
   "outputs": [
    {
     "data": {
      "text/html": [
       "<div>\n",
       "<style scoped>\n",
       "    .dataframe tbody tr th:only-of-type {\n",
       "        vertical-align: middle;\n",
       "    }\n",
       "\n",
       "    .dataframe tbody tr th {\n",
       "        vertical-align: top;\n",
       "    }\n",
       "\n",
       "    .dataframe thead th {\n",
       "        text-align: right;\n",
       "    }\n",
       "</style>\n",
       "<table border=\"1\" class=\"dataframe\">\n",
       "  <thead>\n",
       "    <tr style=\"text-align: right;\">\n",
       "      <th></th>\n",
       "      <th>$Y^{(D=1)}$</th>\n",
       "      <th>$Y^{(D=0)}$</th>\n",
       "      <th>$\\delta$</th>\n",
       "    </tr>\n",
       "  </thead>\n",
       "  <tbody>\n",
       "    <tr>\n",
       "      <th>0</th>\n",
       "      <td>0.552219</td>\n",
       "      <td>0.160919</td>\n",
       "      <td>0.391300</td>\n",
       "    </tr>\n",
       "    <tr>\n",
       "      <th>1</th>\n",
       "      <td>0.583909</td>\n",
       "      <td>-0.492098</td>\n",
       "      <td>1.076007</td>\n",
       "    </tr>\n",
       "    <tr>\n",
       "      <th>2</th>\n",
       "      <td>-0.169837</td>\n",
       "      <td>-0.447370</td>\n",
       "      <td>0.277533</td>\n",
       "    </tr>\n",
       "    <tr>\n",
       "      <th>3</th>\n",
       "      <td>1.998646</td>\n",
       "      <td>0.623946</td>\n",
       "      <td>1.374699</td>\n",
       "    </tr>\n",
       "    <tr>\n",
       "      <th>4</th>\n",
       "      <td>2.513552</td>\n",
       "      <td>0.742393</td>\n",
       "      <td>1.771159</td>\n",
       "    </tr>\n",
       "  </tbody>\n",
       "</table>\n",
       "</div>"
      ],
      "text/plain": [
       "   $Y^{(D=1)}$  $Y^{(D=0)}$  $\\delta$\n",
       "0     0.552219     0.160919  0.391300\n",
       "1     0.583909    -0.492098  1.076007\n",
       "2    -0.169837    -0.447370  0.277533\n",
       "3     1.998646     0.623946  1.374699\n",
       "4     2.513552     0.742393  1.771159"
      ]
     },
     "execution_count": 1,
     "metadata": {},
     "output_type": "execute_result"
    }
   ],
   "source": [
    "import numpy as np\n",
    "import pandas as pd\n",
    "\n",
    "N = 1000\n",
    "delta = 1.\n",
    "\n",
    "y0 = np.random.normal(size=N)\n",
    "y1 = np.random.normal(delta, size=N)\n",
    "\n",
    "deltas = y1 - y0\n",
    "\n",
    "df = pd.DataFrame({'$Y^{(D=1)}$': y1, \n",
    "                   '$Y^{(D=0)}$': y0, \n",
    "                   '$\\delta$': deltas})\n",
    "df.head()"
   ]
  },
  {
   "cell_type": "code",
   "execution_count": 2,
   "metadata": {},
   "outputs": [],
   "source": [
    "df['$D$'] = np.random.binomial(1, p=0.5, size=N)"
   ]
  },
  {
   "cell_type": "code",
   "execution_count": 7,
   "metadata": {},
   "outputs": [
    {
     "data": {
      "text/plain": [
       "'The p-value for  is 0.38, and for D=0 is 0.85, so there is no reason to believe the causal state is correlated with the potential outcomes'"
      ]
     },
     "execution_count": 7,
     "metadata": {},
     "output_type": "execute_result"
    }
   ],
   "source": [
    "from scipy.stats import pearsonr\n",
    "\n",
    "_, p_1 = pearsonr(df['$D$'], df['$Y^{(D=1)}$'])\n",
    "_, p_0 = pearsonr(df['$D$'], df['$Y^{(D=0)}$'])\n",
    "f\"The p-value for  is {p_1:0.2}, and for D=0 is {p_0:0.2}, so there is no reason to believe the causal state is correlated with the potential outcomes\""
   ]
  },
  {
   "cell_type": "code",
   "execution_count": 8,
   "metadata": {},
   "outputs": [
    {
     "data": {
      "text/html": [
       "<div>\n",
       "<style scoped>\n",
       "    .dataframe tbody tr th:only-of-type {\n",
       "        vertical-align: middle;\n",
       "    }\n",
       "\n",
       "    .dataframe tbody tr th {\n",
       "        vertical-align: top;\n",
       "    }\n",
       "\n",
       "    .dataframe thead th {\n",
       "        text-align: right;\n",
       "    }\n",
       "</style>\n",
       "<table border=\"1\" class=\"dataframe\">\n",
       "  <thead>\n",
       "    <tr style=\"text-align: right;\">\n",
       "      <th></th>\n",
       "      <th>$Y^{(D=1)}$</th>\n",
       "      <th>$Y^{(D=0)}$</th>\n",
       "      <th>$\\delta$</th>\n",
       "      <th>$D$</th>\n",
       "      <th>$Y$</th>\n",
       "    </tr>\n",
       "  </thead>\n",
       "  <tbody>\n",
       "    <tr>\n",
       "      <th>893</th>\n",
       "      <td>0.838551</td>\n",
       "      <td>-1.294478</td>\n",
       "      <td>2.133029</td>\n",
       "      <td>1</td>\n",
       "      <td>0.838551</td>\n",
       "    </tr>\n",
       "    <tr>\n",
       "      <th>822</th>\n",
       "      <td>-0.146703</td>\n",
       "      <td>0.010319</td>\n",
       "      <td>-0.157022</td>\n",
       "      <td>0</td>\n",
       "      <td>0.010319</td>\n",
       "    </tr>\n",
       "    <tr>\n",
       "      <th>640</th>\n",
       "      <td>-0.767815</td>\n",
       "      <td>-0.419954</td>\n",
       "      <td>-0.347861</td>\n",
       "      <td>0</td>\n",
       "      <td>-0.419954</td>\n",
       "    </tr>\n",
       "    <tr>\n",
       "      <th>481</th>\n",
       "      <td>1.566956</td>\n",
       "      <td>1.822987</td>\n",
       "      <td>-0.256031</td>\n",
       "      <td>0</td>\n",
       "      <td>1.822987</td>\n",
       "    </tr>\n",
       "    <tr>\n",
       "      <th>826</th>\n",
       "      <td>1.372985</td>\n",
       "      <td>-0.160016</td>\n",
       "      <td>1.533001</td>\n",
       "      <td>0</td>\n",
       "      <td>-0.160016</td>\n",
       "    </tr>\n",
       "  </tbody>\n",
       "</table>\n",
       "</div>"
      ],
      "text/plain": [
       "     $Y^{(D=1)}$  $Y^{(D=0)}$  $\\delta$  $D$       $Y$\n",
       "893     0.838551    -1.294478  2.133029    1  0.838551\n",
       "822    -0.146703     0.010319 -0.157022    0  0.010319\n",
       "640    -0.767815    -0.419954 -0.347861    0 -0.419954\n",
       "481     1.566956     1.822987 -0.256031    0  1.822987\n",
       "826     1.372985    -0.160016  1.533001    0 -0.160016"
      ]
     },
     "execution_count": 8,
     "metadata": {},
     "output_type": "execute_result"
    }
   ],
   "source": [
    "df['$Y$'] = df['$D$'] * df['$Y^{(D=1)}$'] + \\\n",
    "            (1. - df['$D$']) * df['$Y^{(D=0)}$']\n",
    "df.sample(5)"
   ]
  },
  {
   "cell_type": "code",
   "execution_count": 9,
   "metadata": {},
   "outputs": [
    {
     "data": {
      "text/plain": [
       "1.0416383290752578"
      ]
     },
     "execution_count": 9,
     "metadata": {},
     "output_type": "execute_result"
    }
   ],
   "source": [
    "df[df['$D$'] == 1]['$Y$'].mean() - df[df['$D$'] == 0]['$Y$'].mean()"
   ]
  },
  {
   "cell_type": "code",
   "execution_count": null,
   "metadata": {},
   "outputs": [],
   "source": []
  }
 ],
 "metadata": {
  "kernelspec": {
   "display_name": "Python 3",
   "language": "python",
   "name": "python3"
  },
  "language_info": {
   "codemirror_mode": {
    "name": "ipython",
    "version": 3
   },
   "file_extension": ".py",
   "mimetype": "text/x-python",
   "name": "python",
   "nbconvert_exporter": "python",
   "pygments_lexer": "ipython3",
   "version": "3.6.9"
  }
 },
 "nbformat": 4,
 "nbformat_minor": 4
}
