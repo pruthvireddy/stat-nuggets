{
 "cells": [
  {
   "cell_type": "code",
   "execution_count": 2,
   "metadata": {},
   "outputs": [],
   "source": [
    "%matplotlib inline"
   ]
  },
  {
   "cell_type": "code",
   "execution_count": 1,
   "metadata": {},
   "outputs": [],
   "source": [
    "import pandas as pd\n",
    "import numpy as np\n",
    "\n",
    "p_e = 0.2\n",
    "N = 10000\n",
    "\n",
    "delta = np.random.uniform(0,1,size=N)\n",
    "\n",
    "\n",
    "z = np.random.binomial(1., p=0.5, size=N)\n",
    "e = np.random.binomial(1., p=p_e, size=N)\n",
    "u = np.random.normal(size=N)\n",
    "x = (e==1)*np.random.binomial(1, p=1. / (1. + np.exp(-delta + u))) + (e==0)*z\n",
    "y = u + delta*x + np.random.normal(size=N)\n",
    "\n",
    "df = pd.DataFrame({\"X\": x, \"Z\": z, \"E\": e, \"U\": u, \"Y\": y})"
   ]
  },
  {
   "cell_type": "code",
   "execution_count": 2,
   "metadata": {},
   "outputs": [
    {
     "data": {
      "text/plain": [
       "(0.3262012127683049, 0.46514394441441365)"
      ]
     },
     "execution_count": 2,
     "metadata": {},
     "output_type": "execute_result"
    }
   ],
   "source": [
    "def naive_effect(df):\n",
    "    return df.groupby('X').mean()['Y'][1] - df.groupby('X').mean()['Y'][0]\n",
    "\n",
    "def wald_effect(df):\n",
    "    return np.cov(df['Y'], df['Z'])[0][1] / np.cov(df['X'], df['Z'])[0][1]\n",
    "\n",
    "naive_effect(df), wald_effect(df)"
   ]
  },
  {
   "cell_type": "code",
   "execution_count": 3,
   "metadata": {},
   "outputs": [
    {
     "data": {
      "text/html": [
       "<table class=\"simpletable\">\n",
       "<caption>OLS Regression Results</caption>\n",
       "<tr>\n",
       "  <th>Dep. Variable:</th>            <td>X</td>        <th>  R-squared:         </th> <td>   0.637</td> \n",
       "</tr>\n",
       "<tr>\n",
       "  <th>Model:</th>                   <td>OLS</td>       <th>  Adj. R-squared:    </th> <td>   0.637</td> \n",
       "</tr>\n",
       "<tr>\n",
       "  <th>Method:</th>             <td>Least Squares</td>  <th>  F-statistic:       </th> <td>1.754e+04</td>\n",
       "</tr>\n",
       "<tr>\n",
       "  <th>Date:</th>             <td>Tue, 16 Mar 2021</td> <th>  Prob (F-statistic):</th>  <td>  0.00</td>  \n",
       "</tr>\n",
       "<tr>\n",
       "  <th>Time:</th>                 <td>19:46:02</td>     <th>  Log-Likelihood:    </th> <td> -2179.3</td> \n",
       "</tr>\n",
       "<tr>\n",
       "  <th>No. Observations:</th>      <td> 10000</td>      <th>  AIC:               </th> <td>   4363.</td> \n",
       "</tr>\n",
       "<tr>\n",
       "  <th>Df Residuals:</th>          <td>  9998</td>      <th>  BIC:               </th> <td>   4377.</td> \n",
       "</tr>\n",
       "<tr>\n",
       "  <th>Df Model:</th>              <td>     1</td>      <th>                     </th>     <td> </td>    \n",
       "</tr>\n",
       "<tr>\n",
       "  <th>Covariance Type:</th>      <td>nonrobust</td>    <th>                     </th>     <td> </td>    \n",
       "</tr>\n",
       "</table>\n",
       "<table class=\"simpletable\">\n",
       "<tr>\n",
       "      <td></td>         <th>coef</th>     <th>std err</th>      <th>t</th>      <th>P>|t|</th>  <th>[0.025</th>    <th>0.975]</th>  \n",
       "</tr>\n",
       "<tr>\n",
       "  <th>Z</th>         <td>    0.7970</td> <td>    0.006</td> <td>  132.423</td> <td> 0.000</td> <td>    0.785</td> <td>    0.809</td>\n",
       "</tr>\n",
       "<tr>\n",
       "  <th>intercept</th> <td>    0.1220</td> <td>    0.004</td> <td>   28.483</td> <td> 0.000</td> <td>    0.114</td> <td>    0.130</td>\n",
       "</tr>\n",
       "</table>\n",
       "<table class=\"simpletable\">\n",
       "<tr>\n",
       "  <th>Omnibus:</th>       <td>1243.775</td> <th>  Durbin-Watson:     </th> <td>   1.964</td> \n",
       "</tr>\n",
       "<tr>\n",
       "  <th>Prob(Omnibus):</th>  <td> 0.000</td>  <th>  Jarque-Bera (JB):  </th> <td>10354.609</td>\n",
       "</tr>\n",
       "<tr>\n",
       "  <th>Skew:</th>           <td> 0.307</td>  <th>  Prob(JB):          </th> <td>    0.00</td> \n",
       "</tr>\n",
       "<tr>\n",
       "  <th>Kurtosis:</th>       <td> 7.947</td>  <th>  Cond. No.          </th> <td>    2.63</td> \n",
       "</tr>\n",
       "</table><br/><br/>Warnings:<br/>[1] Standard Errors assume that the covariance matrix of the errors is correctly specified."
      ],
      "text/plain": [
       "<class 'statsmodels.iolib.summary.Summary'>\n",
       "\"\"\"\n",
       "                            OLS Regression Results                            \n",
       "==============================================================================\n",
       "Dep. Variable:                      X   R-squared:                       0.637\n",
       "Model:                            OLS   Adj. R-squared:                  0.637\n",
       "Method:                 Least Squares   F-statistic:                 1.754e+04\n",
       "Date:                Tue, 16 Mar 2021   Prob (F-statistic):               0.00\n",
       "Time:                        19:46:02   Log-Likelihood:                -2179.3\n",
       "No. Observations:               10000   AIC:                             4363.\n",
       "Df Residuals:                    9998   BIC:                             4377.\n",
       "Df Model:                           1                                         \n",
       "Covariance Type:            nonrobust                                         \n",
       "==============================================================================\n",
       "                 coef    std err          t      P>|t|      [0.025      0.975]\n",
       "------------------------------------------------------------------------------\n",
       "Z              0.7970      0.006    132.423      0.000       0.785       0.809\n",
       "intercept      0.1220      0.004     28.483      0.000       0.114       0.130\n",
       "==============================================================================\n",
       "Omnibus:                     1243.775   Durbin-Watson:                   1.964\n",
       "Prob(Omnibus):                  0.000   Jarque-Bera (JB):            10354.609\n",
       "Skew:                           0.307   Prob(JB):                         0.00\n",
       "Kurtosis:                       7.947   Cond. No.                         2.63\n",
       "==============================================================================\n",
       "\n",
       "Warnings:\n",
       "[1] Standard Errors assume that the covariance matrix of the errors is correctly specified.\n",
       "\"\"\""
      ]
     },
     "execution_count": 3,
     "metadata": {},
     "output_type": "execute_result"
    }
   ],
   "source": [
    "import statsmodels.api as sm\n",
    "\n",
    "df['intercept'] = 1.\n",
    "model = sm.OLS(endog=df['X'], exog=df[['Z', 'intercept']])\n",
    "result = model.fit()\n",
    "df['$\\hat{X}$'] = result.predict()\n",
    "result.summary()"
   ]
  },
  {
   "cell_type": "code",
   "execution_count": 4,
   "metadata": {
    "scrolled": false
   },
   "outputs": [
    {
     "data": {
      "text/html": [
       "<table class=\"simpletable\">\n",
       "<caption>OLS Regression Results</caption>\n",
       "<tr>\n",
       "  <th>Dep. Variable:</th>            <td>Y</td>        <th>  R-squared:         </th> <td>   0.017</td> \n",
       "</tr>\n",
       "<tr>\n",
       "  <th>Model:</th>                   <td>OLS</td>       <th>  Adj. R-squared:    </th> <td>   0.017</td> \n",
       "</tr>\n",
       "<tr>\n",
       "  <th>Method:</th>             <td>Least Squares</td>  <th>  F-statistic:       </th> <td>   176.5</td> \n",
       "</tr>\n",
       "<tr>\n",
       "  <th>Date:</th>             <td>Tue, 16 Mar 2021</td> <th>  Prob (F-statistic):</th> <td>6.10e-40</td> \n",
       "</tr>\n",
       "<tr>\n",
       "  <th>Time:</th>                 <td>19:46:40</td>     <th>  Log-Likelihood:    </th> <td> -17518.</td> \n",
       "</tr>\n",
       "<tr>\n",
       "  <th>No. Observations:</th>      <td> 10000</td>      <th>  AIC:               </th> <td>3.504e+04</td>\n",
       "</tr>\n",
       "<tr>\n",
       "  <th>Df Residuals:</th>          <td>  9998</td>      <th>  BIC:               </th> <td>3.505e+04</td>\n",
       "</tr>\n",
       "<tr>\n",
       "  <th>Df Model:</th>              <td>     1</td>      <th>                     </th>     <td> </td>    \n",
       "</tr>\n",
       "<tr>\n",
       "  <th>Covariance Type:</th>      <td>nonrobust</td>    <th>                     </th>     <td> </td>    \n",
       "</tr>\n",
       "</table>\n",
       "<table class=\"simpletable\">\n",
       "<tr>\n",
       "      <td></td>         <th>coef</th>     <th>std err</th>      <th>t</th>      <th>P>|t|</th>  <th>[0.025</th>    <th>0.975]</th>  \n",
       "</tr>\n",
       "<tr>\n",
       "  <th>$\\hat{X}$</th> <td>    0.4651</td> <td>    0.035</td> <td>   13.286</td> <td> 0.000</td> <td>    0.397</td> <td>    0.534</td>\n",
       "</tr>\n",
       "<tr>\n",
       "  <th>intercept</th> <td>   -0.0078</td> <td>    0.023</td> <td>   -0.339</td> <td> 0.734</td> <td>   -0.053</td> <td>    0.037</td>\n",
       "</tr>\n",
       "</table>\n",
       "<table class=\"simpletable\">\n",
       "<tr>\n",
       "  <th>Omnibus:</th>       <td> 1.164</td> <th>  Durbin-Watson:     </th> <td>   1.981</td>\n",
       "</tr>\n",
       "<tr>\n",
       "  <th>Prob(Omnibus):</th> <td> 0.559</td> <th>  Jarque-Bera (JB):  </th> <td>   1.140</td>\n",
       "</tr>\n",
       "<tr>\n",
       "  <th>Skew:</th>          <td> 0.003</td> <th>  Prob(JB):          </th> <td>   0.566</td>\n",
       "</tr>\n",
       "<tr>\n",
       "  <th>Kurtosis:</th>      <td> 3.052</td> <th>  Cond. No.          </th> <td>    3.30</td>\n",
       "</tr>\n",
       "</table><br/><br/>Warnings:<br/>[1] Standard Errors assume that the covariance matrix of the errors is correctly specified."
      ],
      "text/plain": [
       "<class 'statsmodels.iolib.summary.Summary'>\n",
       "\"\"\"\n",
       "                            OLS Regression Results                            \n",
       "==============================================================================\n",
       "Dep. Variable:                      Y   R-squared:                       0.017\n",
       "Model:                            OLS   Adj. R-squared:                  0.017\n",
       "Method:                 Least Squares   F-statistic:                     176.5\n",
       "Date:                Tue, 16 Mar 2021   Prob (F-statistic):           6.10e-40\n",
       "Time:                        19:46:40   Log-Likelihood:                -17518.\n",
       "No. Observations:               10000   AIC:                         3.504e+04\n",
       "Df Residuals:                    9998   BIC:                         3.505e+04\n",
       "Df Model:                           1                                         \n",
       "Covariance Type:            nonrobust                                         \n",
       "==============================================================================\n",
       "                 coef    std err          t      P>|t|      [0.025      0.975]\n",
       "------------------------------------------------------------------------------\n",
       "$\\hat{X}$      0.4651      0.035     13.286      0.000       0.397       0.534\n",
       "intercept     -0.0078      0.023     -0.339      0.734      -0.053       0.037\n",
       "==============================================================================\n",
       "Omnibus:                        1.164   Durbin-Watson:                   1.981\n",
       "Prob(Omnibus):                  0.559   Jarque-Bera (JB):                1.140\n",
       "Skew:                           0.003   Prob(JB):                        0.566\n",
       "Kurtosis:                       3.052   Cond. No.                         3.30\n",
       "==============================================================================\n",
       "\n",
       "Warnings:\n",
       "[1] Standard Errors assume that the covariance matrix of the errors is correctly specified.\n",
       "\"\"\""
      ]
     },
     "execution_count": 4,
     "metadata": {},
     "output_type": "execute_result"
    }
   ],
   "source": [
    "model = sm.OLS(endog=df['Y'], exog=df[['$\\hat{X}$', 'intercept']])\n",
    "result = model.fit()\n",
    "result.summary()"
   ]
  },
  {
   "cell_type": "code",
   "execution_count": 6,
   "metadata": {},
   "outputs": [
    {
     "data": {
      "text/plain": [
       "$\\hat{X}$    0.524230\n",
       "intercept   -0.032562\n",
       "dtype: float64"
      ]
     },
     "execution_count": 6,
     "metadata": {},
     "output_type": "execute_result"
    }
   ],
   "source": [
    "result.params"
   ]
  },
  {
   "cell_type": "code",
   "execution_count": 6,
   "metadata": {},
   "outputs": [
    {
     "data": {
      "text/plain": [
       "0.46514394441441637"
      ]
     },
     "execution_count": 6,
     "metadata": {},
     "output_type": "execute_result"
    }
   ],
   "source": [
    "def tsls_effect(df):\n",
    "    df['intercept'] = 1.\n",
    "    model = sm.OLS(endog=df['X'], exog=df[['Z', 'intercept']])\n",
    "    result = model.fit()\n",
    "    df['$\\hat{X}$'] = result.predict()\n",
    "    model = sm.OLS(endog=df['Y'], exog=df[['$\\hat{X}$', 'intercept']])\n",
    "    result = model.fit()\n",
    "    return result.params['$\\hat{X}$']\n",
    "\n",
    "tsls_effect(df)"
   ]
  },
  {
   "cell_type": "code",
   "execution_count": 7,
   "metadata": {},
   "outputs": [
    {
     "data": {
      "text/plain": [
       "<matplotlib.axes._subplots.AxesSubplot at 0x7fa028daccc0>"
      ]
     },
     "execution_count": 7,
     "metadata": {},
     "output_type": "execute_result"
    },
    {
     "data": {
      "image/png": "[encoded data removed]",
      "text/plain": [
       "<Figure size 576x432 with 1 Axes>"
      ]
     },
     "metadata": {
      "needs_background": "light"
     },
     "output_type": "display_data"
    }
   ],
   "source": [
    "N = 1000\n",
    "bootstrap_samples = 30\n",
    "\n",
    "results = []\n",
    "for p_e in np.arange(0.05, 0.95, 0.05):\n",
    "    for _ in range(bootstrap_samples):\n",
    "        delta = np.random.uniform(0,1,size=N)\n",
    "\n",
    "        z = np.random.binomial(1., p=0.5, size=N)\n",
    "        e = np.random.binomial(1., p=p_e, size=N)\n",
    "        u = np.random.normal(size=N)\n",
    "        x = (e==1)*np.random.binomial(1, p=1. / (1. + np.exp(-delta + u))) + (e==0)*z\n",
    "        y = u + delta*x + np.random.normal(size=N)\n",
    "\n",
    "        df = pd.DataFrame({\"X\": x, \"Z\": z, \"E\": e, \"U\": u, \"Y\": y})\n",
    "        naive = naive_effect(df)\n",
    "        wald = wald_effect(df)\n",
    "        tsls = tsls_effect(df)\n",
    "        results.append({'$P(E=1)$': p_e, \n",
    "                        '$\\delta_{naive}$': naive, \n",
    "                        '$\\delta_{wald}$': wald, \n",
    "                        '$\\delta_{tsls}$': tsls, \n",
    "                        '$Corr(X, Z)$': np.corrcoef(df['X'], df['Z'])[0][1]})\n",
    "\n",
    "df = pd.DataFrame(results).groupby('$P(E=1)$').mean()#.reset_index()\n",
    "df['$\\sigma_{\\delta_{wald}}$'] = pd.DataFrame(results).groupby('$P(E=1)$').std()['$\\delta_{wald}$'] \n",
    "df['$\\sigma_{\\delta_{tsls}}$'] = pd.DataFrame(results).groupby('$P(E=1)$').std()['$\\delta_{tsls}$']\n",
    "\n",
    "df['$\\delta_{true}$'] = delta.mean()\n",
    "df.reset_index().plot(x='$P(E=1)$', y=['$\\delta_{naive}$', \n",
    "                                       '$\\delta_{wald}$', \n",
    "                                       '$\\delta_{true}$', \n",
    "                                       '$\\delta_{tsls}$'], figsize=(8,6))"
   ]
  },
  {
   "cell_type": "code",
   "execution_count": 9,
   "metadata": {},
   "outputs": [
    {
     "data": {
      "text/plain": [
       "<matplotlib.axes._subplots.AxesSubplot at 0x7fa0288fdcc0>"
      ]
     },
     "execution_count": 9,
     "metadata": {},
     "output_type": "execute_result"
    },
    {
     "data": {
      "image/png": "[encoded data removed]",
      "text/plain": [
       "<Figure size 432x288 with 1 Axes>"
      ]
     },
     "metadata": {
      "needs_background": "light"
     },
     "output_type": "display_data"
    }
   ],
   "source": [
    "df.plot(x='$Corr(X, Z)$', y='$\\sigma_{\\delta_{tsls}}$')"
   ]
  },
  {
   "cell_type": "markdown",
   "metadata": {},
   "source": [
    "You can show that TSLS is one interpretation of the Wald estimator, so they agree with each other! The same issues regarding the strength of the instrument apply here."
   ]
  },
  {
   "cell_type": "code",
   "execution_count": null,
   "metadata": {},
   "outputs": [],
   "source": []
  }
 ],
 "metadata": {
  "kernelspec": {
   "display_name": "Python 3",
   "language": "python",
   "name": "python3"
  },
  "language_info": {
   "codemirror_mode": {
    "name": "ipython",
    "version": 3
   },
   "file_extension": ".py",
   "mimetype": "text/x-python",
   "name": "python",
   "nbconvert_exporter": "python",
   "pygments_lexer": "ipython3",
   "version": "3.6.7"
  }
 },
 "nbformat": 4,
 "nbformat_minor": 2
}
