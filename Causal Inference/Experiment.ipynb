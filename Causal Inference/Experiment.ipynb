{
 "cells": [
  {
   "cell_type": "code",
   "execution_count": 1,
   "metadata": {},
   "outputs": [],
   "source": [
    "%matplotlib inline"
   ]
  },
  {
   "cell_type": "code",
   "execution_count": 2,
   "metadata": {},
   "outputs": [],
   "source": [
    "import pandas as pd\n",
    "import numpy as np\n",
    "\n",
    "\n",
    "N = 100000\n",
    "\n",
    "p0 = 0.1\n",
    "p = 0.01\n",
    "tau = 5\n",
    "\n",
    "alpha_x = {0: 10, 1: 5, 2: 2}\n",
    "beta_x =  {0: 1, 1: 1, 2: 1}\n",
    "lambda_x = {0: 20, 1: 10, 2: 5}\n",
    "\n",
    "x = np.random.choice([0, 1, 2], size=N)\n",
    "\n",
    "k = [alpha_x[x_i] for x_i in x]\n",
    "theta = [1. / beta_x[x_i] for x_i in x]\n",
    "lambd = [lambda_x[x_i] for x_i in x]\n",
    "z2 = np.random.gamma(k, theta)\n",
    "z1 = np.random.poisson(lambd)\n",
    "\n",
    "y1 = np.random.binomial(1, p=p0 * np.exp(-z2/tau))\n",
    "y2 = np.random.binomial(z1, p)\n",
    "y = y1 + y2\n",
    "\n",
    "df = pd.DataFrame({'X': x, 'Y': y, 'Z_1': z1, 'Z_2': z2, 'Y1': y1, 'Y2': y2})"
   ]
  },
  {
   "cell_type": "code",
   "execution_count": 27,
   "metadata": {},
   "outputs": [
    {
     "data": {
      "text/plain": [
       "array([[<matplotlib.axes._subplots.AxesSubplot object at 0x7fb59df046d8>,\n",
       "        <matplotlib.axes._subplots.AxesSubplot object at 0x7fb59dc8f0f0>],\n",
       "       [<matplotlib.axes._subplots.AxesSubplot object at 0x7fb581082358>,\n",
       "        <matplotlib.axes._subplots.AxesSubplot object at 0x7fb59dc1e5c0>],\n",
       "       [<matplotlib.axes._subplots.AxesSubplot object at 0x7fb59dc52828>,\n",
       "        <matplotlib.axes._subplots.AxesSubplot object at 0x7fb59dc04a90>]],\n",
       "      dtype=object)"
      ]
     },
     "execution_count": 27,
     "metadata": {},
     "output_type": "execute_result"
    },
    {
     "data": {
      "image/png": "[encoded data removed]",
      "text/plain": [
       "<Figure size 432x288 with 6 Axes>"
      ]
     },
     "metadata": {
      "needs_background": "light"
     },
     "output_type": "display_data"
    }
   ],
   "source": [
    "df.hist()"
   ]
  },
  {
   "cell_type": "code",
   "execution_count": 3,
   "metadata": {},
   "outputs": [
    {
     "data": {
      "text/plain": [
       "X\n",
       "0    0.214129\n",
       "1    0.140669\n",
       "2    0.118162\n",
       "Name: Y, dtype: float64"
      ]
     },
     "execution_count": 3,
     "metadata": {},
     "output_type": "execute_result"
    }
   ],
   "source": [
    "df.groupby('X').mean()['Y']"
   ]
  },
  {
   "cell_type": "code",
   "execution_count": 29,
   "metadata": {},
   "outputs": [
    {
     "data": {
      "text/html": [
       "<div>\n",
       "<style scoped>\n",
       "    .dataframe tbody tr th:only-of-type {\n",
       "        vertical-align: middle;\n",
       "    }\n",
       "\n",
       "    .dataframe tbody tr th {\n",
       "        vertical-align: top;\n",
       "    }\n",
       "\n",
       "    .dataframe thead th {\n",
       "        text-align: right;\n",
       "    }\n",
       "</style>\n",
       "<table border=\"1\" class=\"dataframe\">\n",
       "  <thead>\n",
       "    <tr style=\"text-align: right;\">\n",
       "      <th></th>\n",
       "      <th>Y1</th>\n",
       "      <th>Y2</th>\n",
       "      <th>Y</th>\n",
       "    </tr>\n",
       "    <tr>\n",
       "      <th>X</th>\n",
       "      <th></th>\n",
       "      <th></th>\n",
       "      <th></th>\n",
       "    </tr>\n",
       "  </thead>\n",
       "  <tbody>\n",
       "    <tr>\n",
       "      <th>0</th>\n",
       "      <td>0.015978</td>\n",
       "      <td>0.202564</td>\n",
       "      <td>0.218541</td>\n",
       "    </tr>\n",
       "    <tr>\n",
       "      <th>1</th>\n",
       "      <td>0.039654</td>\n",
       "      <td>0.100537</td>\n",
       "      <td>0.140191</td>\n",
       "    </tr>\n",
       "    <tr>\n",
       "      <th>2</th>\n",
       "      <td>0.068206</td>\n",
       "      <td>0.049994</td>\n",
       "      <td>0.118200</td>\n",
       "    </tr>\n",
       "  </tbody>\n",
       "</table>\n",
       "</div>"
      ],
      "text/plain": [
       "         Y1        Y2         Y\n",
       "X                              \n",
       "0  0.015978  0.202564  0.218541\n",
       "1  0.039654  0.100537  0.140191\n",
       "2  0.068206  0.049994  0.118200"
      ]
     },
     "execution_count": 29,
     "metadata": {},
     "output_type": "execute_result"
    }
   ],
   "source": [
    "df.groupby('X').mean()[['Y1', 'Y2', 'Y']]"
   ]
  },
  {
   "cell_type": "code",
   "execution_count": null,
   "metadata": {},
   "outputs": [],
   "source": []
  }
 ],
 "metadata": {
  "kernelspec": {
   "display_name": "Python 3",
   "language": "python",
   "name": "python3"
  },
  "language_info": {
   "codemirror_mode": {
    "name": "ipython",
    "version": 3
   },
   "file_extension": ".py",
   "mimetype": "text/x-python",
   "name": "python",
   "nbconvert_exporter": "python",
   "pygments_lexer": "ipython3",
   "version": "3.6.9"
  }
 },
 "nbformat": 4,
 "nbformat_minor": 4
}
