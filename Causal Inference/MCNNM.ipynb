{
 "cells": [
  {
   "cell_type": "code",
   "execution_count": 1,
   "id": "e29c9da4",
   "metadata": {},
   "outputs": [
    {
     "name": "stdout",
     "output_type": "stream",
     "text": [
      "WARNING:tensorflow:From /home/akelleh/.virtualenvs/data/lib/python3.8/site-packages/tensorflow/python/compat/v2_compat.py:96: disable_resource_variables (from tensorflow.python.ops.variable_scope) is deprecated and will be removed in a future version.\n",
      "Instructions for updating:\n",
      "non-resource variables are not supported in the long term\n"
     ]
    }
   ],
   "source": [
    "import tensorflow.compat.v1 as tf\n",
    "tf.disable_v2_behavior()\n",
    "\n",
    "\n",
    "import numpy as np\n",
    "\n",
    "\n",
    "X = np.random.normal(size=(1000,1000))\n",
    "X_observed = []\n",
    "for row in X.tolist():\n",
    "    current_row = []\n",
    "    for val in row:\n",
    "        val = val if np.random.rand() > 0.1 else np.nan\n",
    "        current_row.append(val)\n",
    "    X_observed.append(current_row)\n",
    "X_observed = np.array(X_observed)\n",
    "\n",
    "\n",
    "class MCNNM(object):\n",
    "    def __init__(self):\n",
    "        self.train_op = None\n",
    "        \n",
    "    def build_tf_graph(self, X, num_factors=3, lambd=0.1):\n",
    "        self.lambd = lambd\n",
    "        #tf.reset_default_graph()\n",
    "        input_shape = X.shape\n",
    "        observed = ~np.isnan(X_observed)\n",
    "        self.observed =  tf.constant(observed, dtype=tf.float64)\n",
    "        self.num_observed = float(observed.sum())\n",
    "        X = tf.constant(X, tf.float64)\n",
    "        self.X_completed_tensor = tf.get_variable(\"x_completed\", input_shape, dtype=tf.float64)\n",
    "        self.l = self.loss(X, self.X_completed_tensor)\n",
    "        return tf.compat.v1.train.AdagradOptimizer(0.1).minimize(self.l)\n",
    "        \n",
    "    def loss(self, X_observed, X_completed):\n",
    "        delta = self.project_A(X_observed - X_completed)\n",
    "        normalized_frobenius = tf.norm(delta) / self.num_observed\n",
    "        s, _, _ = tf.linalg.svd(X_completed)\n",
    "        nuclear_norm = tf.reduce_sum(s)\n",
    "        return normalized_frobenius + self.lambd * nuclear_norm\n",
    "    \n",
    "    def project_A(self, A):\n",
    "        return tf.multiply(tf.where(tf.math.is_nan(A), tf.zeros_like(A), A), self.observed)\n",
    "    \n",
    "    def fit_predict(self, X, iterations=1500):\n",
    "        if not self.train_op:\n",
    "            self.train_op = self.build_tf_graph(X)\n",
    "        with tf.Session() as sess:\n",
    "            sess.run(tf.global_variables_initializer())\n",
    "            for i in range(iterations):\n",
    "                _, loss = sess.run([self.train_op, self.l])\n",
    "                if i > 0 and i % 100 == 0:\n",
    "                    print(\"current loss at step {} is: {}\".format(i, loss))\n",
    "            self.X_completed = sess.run(self.X_completed_tensor)\n",
    "            return self.X_completed"
   ]
  },
  {
   "cell_type": "code",
   "execution_count": 2,
   "id": "bb423ea0",
   "metadata": {},
   "outputs": [],
   "source": [
    "model = MCNNM()\n"
   ]
  },
  {
   "cell_type": "code",
   "execution_count": 4,
   "id": "49d4694f",
   "metadata": {},
   "outputs": [
    {
     "name": "stdout",
     "output_type": "stream",
     "text": [
      "current loss at step 100 is: 1.572396136643584\n",
      "current loss at step 200 is: 1.5671785388216313\n",
      "current loss at step 300 is: 1.5611518231808421\n",
      "current loss at step 400 is: 1.5538877093316967\n",
      "current loss at step 500 is: 1.5460135915043738\n",
      "current loss at step 600 is: 1.5385067224004088\n",
      "current loss at step 700 is: 1.5315371487831275\n",
      "current loss at step 800 is: 1.5246496579741697\n",
      "current loss at step 900 is: 1.5177108274031395\n",
      "current loss at step 1000 is: 1.5108200904703337\n",
      "current loss at step 1100 is: 1.5040326712695293\n",
      "current loss at step 1200 is: 1.497374451139773\n",
      "current loss at step 1300 is: 1.4908459024371528\n",
      "current loss at step 1400 is: 1.4843699416701646\n",
      "current loss at step 1500 is: 1.4779478844449367\n",
      "current loss at step 1600 is: 1.471627916430177\n",
      "current loss at step 1700 is: 1.4653972707406322\n",
      "current loss at step 1800 is: 1.4593065561035075\n",
      "current loss at step 1900 is: 1.4531919427375803\n",
      "current loss at step 2000 is: 1.4472193212446738\n",
      "current loss at step 2100 is: 1.4412907482434056\n",
      "current loss at step 2200 is: 1.4354548557721716\n",
      "current loss at step 2300 is: 1.4296582569854743\n",
      "current loss at step 2400 is: 1.423994139951757\n",
      "current loss at step 2500 is: 1.4182950315426548\n",
      "current loss at step 2600 is: 1.412723779878024\n",
      "current loss at step 2700 is: 1.407192432751267\n",
      "current loss at step 2800 is: 1.4016771088440196\n",
      "current loss at step 2900 is: 1.3962542758667753\n",
      "current loss at step 3000 is: 1.3908785819282108\n",
      "current loss at step 3100 is: 1.385548673316711\n",
      "current loss at step 3200 is: 1.3802894197183964\n",
      "current loss at step 3300 is: 1.3751028382389214\n",
      "current loss at step 3400 is: 1.3699621269507947\n",
      "current loss at step 3500 is: 1.364904037546694\n",
      "current loss at step 3600 is: 1.3598688923713216\n",
      "current loss at step 3700 is: 1.3549072347343933\n",
      "current loss at step 3800 is: 1.350014119544884\n",
      "current loss at step 3900 is: 1.3451377922410903\n",
      "current loss at step 4000 is: 1.3403078684509042\n",
      "current loss at step 4100 is: 1.335579299479305\n",
      "current loss at step 4200 is: 1.3308584108649242\n",
      "current loss at step 4300 is: 1.3262078814124174\n",
      "current loss at step 4400 is: 1.3216026518938466\n",
      "current loss at step 4500 is: 1.3170275496415558\n",
      "current loss at step 4600 is: 1.3125310709734967\n",
      "current loss at step 4700 is: 1.3080563737951618\n",
      "current loss at step 4800 is: 1.3036328873341352\n",
      "current loss at step 4900 is: 1.2992436080423226\n"
     ]
    }
   ],
   "source": [
    "X_completed = model.fit_predict(X_observed, iterations=5000)"
   ]
  },
  {
   "cell_type": "code",
   "execution_count": 5,
   "id": "17fd67af",
   "metadata": {},
   "outputs": [
    {
     "data": {
      "text/plain": [
       "array([[ 9.94259665e-05,  4.07840940e-04, -1.30798784e-04, ...,\n",
       "         9.04067911e-04, -7.26013675e-05,  5.36076915e-05],\n",
       "       [-7.14563635e-04,  1.91946214e-04, -1.66775343e-04, ...,\n",
       "         8.55743477e-05, -5.56134477e-04,  1.00696187e-04],\n",
       "       [-5.98727080e-05, -4.02993535e-04, -9.14863674e-05, ...,\n",
       "         1.35717464e-04, -8.70166292e-04, -3.10259825e-04],\n",
       "       ...,\n",
       "       [ 2.74072632e-04,  8.70875996e-04, -3.91994135e-04, ...,\n",
       "        -6.45257607e-04, -1.11821963e-03, -9.33014311e-04],\n",
       "       [ 2.69457735e-04, -5.85496296e-04,  1.47300791e-04, ...,\n",
       "         8.26859886e-04,  3.37592680e-04,  8.84733846e-04],\n",
       "       [-1.93775600e-04,  1.05594152e-03,  1.06387294e-03, ...,\n",
       "        -4.16609183e-04, -4.43443171e-04, -5.71494957e-04]])"
      ]
     },
     "execution_count": 5,
     "metadata": {},
     "output_type": "execute_result"
    }
   ],
   "source": [
    "X_completed"
   ]
  },
  {
   "cell_type": "code",
   "execution_count": 6,
   "id": "3f8f0bf4",
   "metadata": {},
   "outputs": [
    {
     "data": {
      "text/plain": [
       "array([[-0.29360759,  0.44342538, -1.08195743, ...,         nan,\n",
       "        -0.3577256 , -1.27301085],\n",
       "       [-1.78436206,         nan,  0.81836862, ..., -0.72992102,\n",
       "        -1.2155056 ,  1.0641305 ],\n",
       "       [ 0.47387099, -0.72983496, -0.67506123, ..., -0.68052207,\n",
       "                nan,  0.72272822],\n",
       "       ...,\n",
       "       [        nan, -0.53226707,  0.30833222, ..., -0.65888083,\n",
       "         0.90068056,  1.71551849],\n",
       "       [ 0.9959976 , -0.15334836, -0.43478627, ..., -1.07284728,\n",
       "        -1.03873886,  0.35471299],\n",
       "       [ 0.84517386,  0.47074639,  0.06049391, ..., -0.43183899,\n",
       "        -0.9932546 , -0.46910238]])"
      ]
     },
     "execution_count": 6,
     "metadata": {},
     "output_type": "execute_result"
    }
   ],
   "source": [
    "X_observed"
   ]
  },
  {
   "cell_type": "code",
   "execution_count": 7,
   "id": "ab6861f9",
   "metadata": {},
   "outputs": [
    {
     "data": {
      "text/plain": [
       "array([[-0.29360759,  0.44342538, -1.08195743, ..., -0.090673  ,\n",
       "        -0.3577256 , -1.27301085],\n",
       "       [-1.78436206, -0.60646428,  0.81836862, ..., -0.72992102,\n",
       "        -1.2155056 ,  1.0641305 ],\n",
       "       [ 0.47387099, -0.72983496, -0.67506123, ..., -0.68052207,\n",
       "        -2.79233974,  0.72272822],\n",
       "       ...,\n",
       "       [ 0.17950515, -0.53226707,  0.30833222, ..., -0.65888083,\n",
       "         0.90068056,  1.71551849],\n",
       "       [ 0.9959976 , -0.15334836, -0.43478627, ..., -1.07284728,\n",
       "        -1.03873886,  0.35471299],\n",
       "       [ 0.84517386,  0.47074639,  0.06049391, ..., -0.43183899,\n",
       "        -0.9932546 , -0.46910238]])"
      ]
     },
     "execution_count": 7,
     "metadata": {},
     "output_type": "execute_result"
    }
   ],
   "source": [
    "X"
   ]
  },
  {
   "cell_type": "code",
   "execution_count": null,
   "id": "8d668456",
   "metadata": {},
   "outputs": [],
   "source": []
  }
 ],
 "metadata": {
  "kernelspec": {
   "display_name": "Python 3",
   "language": "python",
   "name": "python3"
  },
  "language_info": {
   "codemirror_mode": {
    "name": "ipython",
    "version": 3
   },
   "file_extension": ".py",
   "mimetype": "text/x-python",
   "name": "python",
   "nbconvert_exporter": "python",
   "pygments_lexer": "ipython3",
   "version": "3.8.5"
  }
 },
 "nbformat": 4,
 "nbformat_minor": 5
}
