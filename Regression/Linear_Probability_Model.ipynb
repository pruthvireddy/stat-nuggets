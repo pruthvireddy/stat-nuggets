{
  "nbformat": 4,
  "nbformat_minor": 0,
  "metadata": {
    "colab": {
      "name": "Linear-Probability-Model.ipynb",
      "provenance": []
    },
    "kernelspec": {
      "name": "python3",
      "display_name": "Python 3"
    },
    "language_info": {
      "name": "python"
    }
  },
  "cells": [
    {
      "cell_type": "code",
      "metadata": {
        "id": "s9XSe_1pOeFs"
      },
      "source": [
        "import pandas as pd\n",
        "import numpy as np\n",
        "import statsmodels.api as sm\n",
        "import statsmodels.formula.api as smf\n",
        "import matplotlib.pyplot as plt"
      ],
      "execution_count": null,
      "outputs": []
    },
    {
      "cell_type": "code",
      "metadata": {
        "colab": {
          "base_uri": "https://localhost:8080/"
        },
        "id": "i6DwOY0v1Eji",
        "outputId": "cb611a2e-a566-466f-ff71-caf0790681f7"
      },
      "source": [
        "from google.colab import drive\n",
        "drive.mount('/gdrive',force_remount=True)"
      ],
      "execution_count": null,
      "outputs": [
        {
          "output_type": "stream",
          "text": [
            "Mounted at /gdrive\n"
          ],
          "name": "stdout"
        }
      ]
    },
    {
      "cell_type": "markdown",
      "metadata": {
        "id": "rfEeEzFaZVNz"
      },
      "source": [
        "Link to the GSS 2006 Codebook - https://www.thearda.com/Archive/Files/Codebooks/GSS2006_CB.asp\n",
        "\n",
        "Link to the WVS Codebook- https://www.thearda.com/Archive/Files/Codebooks/WVS2010_CB.asp"
      ]
    },
    {
      "cell_type": "code",
      "metadata": {
        "id": "uJhFUVqW794G",
        "colab": {
          "base_uri": "https://localhost:8080/"
        },
        "outputId": "a44a1c64-74bf-4fb2-cb73-38f77b84eb8a"
      },
      "source": [
        "\n",
        "gss_2006 = pd.read_csv('/gdrive/My Drive/Data Analysis GR5015/GSS_2006.csv')\n",
        "wvs_data = pd.read_csv('/gdrive/My Drive/Data Analysis GR5015/WVS.csv')"
      ],
      "execution_count": null,
      "outputs": [
        {
          "output_type": "stream",
          "text": [
            "/usr/local/lib/python3.7/dist-packages/IPython/core/interactiveshell.py:2718: DtypeWarning: Columns (266,318,322,2251,2269,3265,3293,3295,3317,3386,3412,3413,3416,3417,3430,3434,3435,3436,3437,3438,3439,3440,3441,3443,3448,3449,3450,3451,3452,3453,3454,3455,3456,3458,3461,3462,3463,3479,3480,3481,3482,3483,3484,3488,3493,3498,3499,3500,3501,3502,3503,3504,3505,3506,3507,3508,3509,3510,3511,3512,3513,3516,3517,3518,3519,3522,3523,3537,4650,4652,4851,4912,4913,4918,4919,4924,4925,4930,4931,4936,4937,4939,4941,4942,4943,4944,4945,4947,4948,4949,4950,4951,4953,4956,4957,4962,4963,4968,4969,4971,4972,4973,4974,4975,4977,4978,4979,4980,4981,4986,4987,4998,4999,5000,5001,5002,5003,5004,5005,5021,5022,5023,5024,5025,5026,5027,5028,5035,5036,5037,5038,5039,5040,5041,5042,5066,5067,5078,5079) have mixed types.Specify dtype option on import or set low_memory=False.\n",
            "  interactivity=interactivity, compiler=compiler, result=result)\n"
          ],
          "name": "stderr"
        }
      ]
    },
    {
      "cell_type": "markdown",
      "metadata": {
        "id": "FkfyqIJeM4Fz"
      },
      "source": [
        "### Question 1\n",
        "***1. Run a multiple linear probability model.  Tell me how you think your independent variables will affect your dependent variable.  Interpret your results.  Were your expectations correct?  Why or why not?***\n",
        "\n",
        "\n",
        "I am using the variable V78 from WVS data - Looking after the environment is important to this person; to care for nature and save life resources. Along with age and socio-economic-status (ses)\n",
        "\n",
        "#### **Observations & Interpretations**\n",
        "- In USA the richer one is the less is the probability they place high importance to environment and the older one gets the less is the probability they place high importance to environment- although none of this is conclusive because they're not statistically significant.\n",
        "\n",
        "- From the coefficient we can say that a unit/category increase in X (Independent Variable) i.e ses, on an average dcreases the probability of Y (Dependent Variable) i.e placing **High** importance on Environment by 0.0022 units (0.22%) while keeping all other variables constant.\n",
        "\n",
        "- From the coefficient we can say that a unit/category increase in X (Independent Variable) i.e age, on an average dcreases the probability of Y (Dependent Variable) i.e placing **High** importance on Environment by 0.0007 units (0.07%) while keeping all other variables constant.\n",
        "\n",
        "- The intercept of 0.1818 tells us that when both ses and age are 0, the probability that someone might place **High** importance on Environment is 0.1818 units\n",
        "\n",
        "- And this interpretation is  not at all statistically significant given the p-values are 0.574 and 0.132 (which is much higher than 0.05 i.e a rule of thumb to reject the NULL hypothesis)\n",
        "\n",
        "#### **My expectation and if it worked out or not**\n",
        "\n",
        "My intuition was that wealthier people, in USA, given the consumeristic and capitalistic nature of the economy and society, will have none to negative relevance to someone who places high importance to environment.  My intuition would be the opposite for European countries and a few asian countries!\n",
        "\n",
        "Nothing conclusive came out of this interpretation, hence I cannot compare my intuitiomn to the outcome to make a conclusion on whether  it worked out or not.\n",
        "\n",
        "\n"
      ]
    },
    {
      "cell_type": "code",
      "metadata": {
        "id": "wWkjklPsNimj"
      },
      "source": [
        "#renaming columns to convenience and to add context\n",
        "wvs_data.rename(columns={ 'V2':'country',\n",
        "                          'V242':'age',\n",
        "                          'V57':'marital',\n",
        "                          'V240':'sex',\n",
        "                          'V78':'environment_imp', # this asks- Is looking after environment important \n",
        "                          'V122':'conf_env_org', # this asks- how much confidence do they have in environmental organizations\n",
        "                          'V82': 'donated_eco_org', # this asks if people have donated to eco orgs\n",
        "                          'V239':'ses', ## this asks where you place yourself in the income distribution in your country \n",
        "                          'V32': 'mem_charitable_orgs'}, ## this asks if theyre a member of charitable orgs\n",
        "                 inplace=True)\n",
        "\n",
        "# Recoding\n",
        "wvs_data['environment_imp']=7-(wvs_data['environment_imp']) ## reverse code environment_imp -  higher the value higher importance\n",
        "wvs_data['conf_env_org']=5-(wvs_data['conf_env_org']) ## reverse code conf_env_org -  higher the value higher confidence in environmental orgs\n",
        "\n",
        "# Encoding Marital status variable\n",
        "conditions = [\n",
        "    (wvs_data['marital'] ==1) ,\n",
        "     (wvs_data['marital'] >1 )]\n",
        "choices = [1,0]\n",
        "wvs_data['married'] = np.select(conditions, choices, default=np.nan)\n",
        "\n",
        "# Encoding Sex variable\n",
        "conditions = [\n",
        "    (wvs_data['sex'] ==2) ,\n",
        "     (wvs_data['sex'] !=2 )]\n",
        "choices = [1,0]\n",
        "wvs_data['female'] = np.select(conditions, choices, default=np.nan)\n",
        "\n",
        "# only keeping observations that answered about their SES level\n",
        "wvs_data = wvs_data.dropna(subset = [\"ses\"])\n",
        "\n",
        "# Encoding Environmental Importance- People who say 'Like me' and 'Very Much like me' into 1 and the others in to 0\n",
        "conditions = [\n",
        "    (wvs_data['environment_imp'] >= 6) ,\n",
        "     (wvs_data['environment_imp'] < 6 )]\n",
        "choices = [1,0]\n",
        "wvs_data['high_environment_imp'] = np.select(conditions, choices, default=np.nan)\n",
        "\n",
        "# Encoding Donation to eco orgs\n",
        "conditions = [\n",
        "    (wvs_data['donated_eco_org'] ==1) ,\n",
        "     (wvs_data['donated_eco_org'] >1 )]\n",
        "choices = [1,0]\n",
        "wvs_data['donated_eco_org'] = np.select(conditions, choices, default=np.nan)\n",
        "\n",
        "# Encoding Active member of charitable orgs\n",
        "conditions = [\n",
        "    (wvs_data['mem_charitable_orgs'] ==2) ,\n",
        "     (wvs_data['mem_charitable_orgs'] <2 )]\n",
        "choices = [1,0]\n",
        "wvs_data['active_mem_char_orgs'] = np.select(conditions, choices, default=np.nan)"
      ],
      "execution_count": null,
      "outputs": []
    },
    {
      "cell_type": "code",
      "metadata": {
        "colab": {
          "base_uri": "https://localhost:8080/"
        },
        "id": "6m8KxiH2FvN3",
        "outputId": "12620da1-b9e8-4d5d-8452-17a3c9c8ac69"
      },
      "source": [
        "wvs_data.ses.value_counts()"
      ],
      "execution_count": null,
      "outputs": [
        {
          "output_type": "execute_result",
          "data": {
            "text/plain": [
              "5.0     15553\n",
              "6.0     11300\n",
              "4.0      9875\n",
              "7.0      8808\n",
              "3.0      8284\n",
              "1.0      5167\n",
              "2.0      5013\n",
              "8.0      4965\n",
              "9.0      1379\n",
              "10.0     1081\n",
              "Name: ses, dtype: int64"
            ]
          },
          "metadata": {
            "tags": []
          },
          "execution_count": 69
        }
      ]
    },
    {
      "cell_type": "code",
      "metadata": {
        "id": "vFl7IZsiNk_X",
        "colab": {
          "base_uri": "https://localhost:8080/"
        },
        "outputId": "18e61e1c-adb6-474c-e14e-da8087bf064c"
      },
      "source": [
        "# Running a LPM model while subsetting for USA data \n",
        "lm1 = smf.ols(formula = 'high_environment_imp ~ ses + age', subset=((wvs_data['country']==840)), data = wvs_data).fit()\n",
        "print (lm1.summary())"
      ],
      "execution_count": null,
      "outputs": [
        {
          "output_type": "stream",
          "text": [
            "                             OLS Regression Results                             \n",
            "================================================================================\n",
            "Dep. Variable:     high_environment_imp   R-squared:                       0.001\n",
            "Model:                              OLS   Adj. R-squared:                  0.000\n",
            "Method:                   Least Squares   F-statistic:                     1.362\n",
            "Date:                  Fri, 02 Apr 2021   Prob (F-statistic):              0.256\n",
            "Time:                          20:33:33   Log-Likelihood:                -761.13\n",
            "No. Observations:                  2157   AIC:                             1528.\n",
            "Df Residuals:                      2154   BIC:                             1545.\n",
            "Df Model:                             2                                         \n",
            "Covariance Type:              nonrobust                                         \n",
            "==============================================================================\n",
            "                 coef    std err          t      P>|t|      [0.025      0.975]\n",
            "------------------------------------------------------------------------------\n",
            "Intercept      0.1818      0.029      6.165      0.000       0.124       0.240\n",
            "ses           -0.0022      0.004     -0.562      0.574      -0.010       0.005\n",
            "age           -0.0007      0.000     -1.507      0.132      -0.002       0.000\n",
            "==============================================================================\n",
            "Omnibus:                      805.196   Durbin-Watson:                   1.990\n",
            "Prob(Omnibus):                  0.000   Jarque-Bera (JB):             2108.547\n",
            "Skew:                           2.099   Prob(JB):                         0.00\n",
            "Kurtosis:                       5.416   Cond. No.                         208.\n",
            "==============================================================================\n",
            "\n",
            "Warnings:\n",
            "[1] Standard Errors assume that the covariance matrix of the errors is correctly specified.\n"
          ],
          "name": "stdout"
        }
      ]
    }
  ]
}