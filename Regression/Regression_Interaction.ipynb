{
  "nbformat": 4,
  "nbformat_minor": 0,
  "metadata": {
    "colab": {
      "name": "Regression-Interaction.ipynb",
      "provenance": []
    },
    "kernelspec": {
      "name": "python3",
      "display_name": "Python 3"
    },
    "language_info": {
      "name": "python"
    }
  },
  "cells": [
    {
      "cell_type": "code",
      "metadata": {
        "id": "Yg0ixQ7AabMq"
      },
      "source": [
        ""
      ],
      "execution_count": null,
      "outputs": []
    },
    {
      "cell_type": "code",
      "metadata": {
        "id": "s9XSe_1pOeFs"
      },
      "source": [
        "from __future__ import division\n",
        "import pandas as pd\n",
        "import numpy as np\n",
        "import statsmodels.api as sm\n",
        "import statsmodels.formula.api as smf\n",
        "import os\n",
        "import matplotlib.pyplot as plt"
      ],
      "execution_count": null,
      "outputs": []
    },
    {
      "cell_type": "code",
      "metadata": {
        "colab": {
          "base_uri": "https://localhost:8080/"
        },
        "id": "i6DwOY0v1Eji",
        "outputId": "f9d0f6af-ca4e-4f04-bb27-d1f970263139"
      },
      "source": [
        "from google.colab import drive\n",
        "drive.mount('/gdrive',force_remount=True)"
      ],
      "execution_count": null,
      "outputs": [
        {
          "output_type": "stream",
          "text": [
            "Mounted at /gdrive\n"
          ],
          "name": "stdout"
        }
      ]
    },
    {
      "cell_type": "code",
      "metadata": {
        "id": "uJhFUVqW794G"
      },
      "source": [
        "#gss_2006 = pd.read_csv('/gdrive/My Drive/Data Analysis GR5015/GSS_2006.csv')\n",
        "wvs_data = pd.read_csv('/gdrive/My Drive/Data Analysis GR5015/WVS.csv')"
      ],
      "execution_count": null,
      "outputs": []
    },
    {
      "cell_type": "markdown",
      "metadata": {
        "id": "GH5h9DZvaww_"
      },
      "source": [
        "### Question 2\n",
        "2.  Add an interaction term to that model that you think might moderate the original relationship between X1 and X2.  Explain why you think an interaction might be present and in what direction it would work.  Explain your results.  Did it work out?  Yes?  No?  \n",
        "\n",
        "I did a regression to how important do people think it is to take care of environment given their age and see how it interacts with their socio-economic status \n",
        "\n",
        "\n",
        "#### **Observations**\n",
        "- Older People in Germany on an average think it is more important to take care of our environment than younger people do. See above question for more detailed explanation about the inference.\n",
        "\n",
        "- On an average people of higher socio-economic-status think it is important to take care of environment  the coefficient of 0.0912 says that with a unit increase in the importance index (scale 1-6) the socio-economic status goes up by 0.09 units while holding all other variables constant and it is statistically significant too given the p-value of 0.05 (which is less than 0.05 i.e a rule of thumb)\n",
        "\n",
        "- The intercept of 3.0520 tells us that people of age 0 and socio-economic status of 0 on respective scales on an average say it is 3.05 units important, on a scale of 1-6, that environment is important and to be taken care of.\n",
        "\n",
        "- The model also tells us how socio-economic-status interacts with how important one thinks looking after environment is important. On an average with increasing age and increasing socio-economic-status people think it is less important to take care of environment.\n",
        "\n",
        "- The interaction feature says that with a unit increase in importance given to environment, the product of SES and age goes down by 0.0018 units while holding all other variables constant and it is statistically significant given the p-value of 0.042 (which is less than or equal to 0.05 i.e a rule of thumb)\n",
        "\n",
        "#### **My intuition and if it worked out**\n",
        "\n",
        "My intuition was that (in Germany) wealthier people would have their lower order of Maslov's hierarchy of needs taken care of and hence would say taking care of environment is important. \n",
        "\n",
        "Clearly, as seen in this interaction, is in counter to my intuition.\n"
      ]
    },
    {
      "cell_type": "code",
      "metadata": {
        "colab": {
          "base_uri": "https://localhost:8080/"
        },
        "id": "qnraeoWbLBRH",
        "outputId": "75258669-a9f5-43e7-cb3c-ba798cf30077"
      },
      "source": [
        "# Running a multilinear regression with Japans data \n",
        "lm2 = smf.ols(formula = 'environment_imp ~age*ses', data = wvs_data, subset = ((wvs_data['country']==276))).fit()     #| (wvs_data['country']==156\n",
        "print (lm2.summary())"
      ],
      "execution_count": null,
      "outputs": [
        {
          "output_type": "stream",
          "text": [
            "                            OLS Regression Results                            \n",
            "==============================================================================\n",
            "Dep. Variable:        environment_imp   R-squared:                       0.030\n",
            "Model:                            OLS   Adj. R-squared:                  0.029\n",
            "Method:                 Least Squares   F-statistic:                     20.24\n",
            "Date:                Sat, 20 Mar 2021   Prob (F-statistic):           6.43e-13\n",
            "Time:                        01:07:46   Log-Likelihood:                -3163.1\n",
            "No. Observations:                1942   AIC:                             6334.\n",
            "Df Residuals:                    1938   BIC:                             6356.\n",
            "Df Model:                           3                                         \n",
            "Covariance Type:            nonrobust                                         \n",
            "==============================================================================\n",
            "                 coef    std err          t      P>|t|      [0.025      0.975]\n",
            "------------------------------------------------------------------------------\n",
            "Intercept      3.0520      0.233     13.073      0.000       2.594       3.510\n",
            "age            0.0207      0.005      4.528      0.000       0.012       0.030\n",
            "ses            0.0912      0.047      1.961      0.050   -2.84e-05       0.182\n",
            "age:ses       -0.0018      0.001     -2.033      0.042      -0.004   -6.53e-05\n",
            "==============================================================================\n",
            "Omnibus:                       57.117   Durbin-Watson:                   1.717\n",
            "Prob(Omnibus):                  0.000   Jarque-Bera (JB):               47.137\n",
            "Skew:                          -0.307   Prob(JB):                     5.81e-11\n",
            "Kurtosis:                       2.547   Cond. No.                     2.34e+03\n",
            "==============================================================================\n",
            "\n",
            "Warnings:\n",
            "[1] Standard Errors assume that the covariance matrix of the errors is correctly specified.\n",
            "[2] The condition number is large, 2.34e+03. This might indicate that there are\n",
            "strong multicollinearity or other numerical problems.\n"
          ],
          "name": "stdout"
        }
      ]
    }
  ]
}