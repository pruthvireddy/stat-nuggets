{
 "cells": [
  {
   "cell_type": "code",
   "execution_count": 1,
   "metadata": {},
   "outputs": [],
   "source": [
    "%matplotlib inline"
   ]
  },
  {
   "cell_type": "code",
   "execution_count": 2,
   "metadata": {},
   "outputs": [],
   "source": [
    "import pandas as pd\n",
    "import numpy as np\n",
    "\n",
    "p_e = 0.2\n",
    "N = 10000\n",
    "\n",
    "delta = np.random.uniform(0,1,size=N)\n",
    "\n",
    "w = np.random.normal(size=N)\n",
    "z = np.random.binomial(1., p=1. / (1. + np.exp(-w)), size=N)\n",
    "e = np.random.binomial(1., p=p_e, size=N)\n",
    "u = np.random.normal(size=N)\n",
    "x = (e==1)*np.random.binomial(1, p=1. / (1. + np.exp(-delta + u))) + (e==0)*z\n",
    "y = u + w + delta*x + np.random.normal(size=N)\n",
    "\n",
    "df = pd.DataFrame({\"X\": x, \"Z\": z, \"E\": e, \"U\": u, \"Y\": y, \"W\": w})"
   ]
  },
  {
   "cell_type": "markdown",
   "metadata": {},
   "source": [
    "The naive effect is badly biased for the true effect, $\\delta=0.5$."
   ]
  },
  {
   "cell_type": "code",
   "execution_count": 3,
   "metadata": {},
   "outputs": [
    {
     "data": {
      "text/plain": [
       "1.0497250567995196"
      ]
     },
     "execution_count": 3,
     "metadata": {},
     "output_type": "execute_result"
    }
   ],
   "source": [
    "df.groupby('X').mean()['Y'][1] - df.groupby('X').mean()['Y'][0]"
   ]
  },
  {
   "cell_type": "markdown",
   "metadata": {},
   "source": [
    "And the TSLS estimator is even worse,"
   ]
  },
  {
   "cell_type": "code",
   "execution_count": 4,
   "metadata": {},
   "outputs": [
    {
     "data": {
      "text/html": [
       "<table class=\"simpletable\">\n",
       "<caption>OLS Regression Results</caption>\n",
       "<tr>\n",
       "  <th>Dep. Variable:</th>            <td>Y</td>        <th>  R-squared:         </th> <td>   0.124</td> \n",
       "</tr>\n",
       "<tr>\n",
       "  <th>Model:</th>                   <td>OLS</td>       <th>  Adj. R-squared:    </th> <td>   0.124</td> \n",
       "</tr>\n",
       "<tr>\n",
       "  <th>Method:</th>             <td>Least Squares</td>  <th>  F-statistic:       </th> <td>   1418.</td> \n",
       "</tr>\n",
       "<tr>\n",
       "  <th>Date:</th>             <td>Tue, 16 Mar 2021</td> <th>  Prob (F-statistic):</th> <td>2.33e-290</td>\n",
       "</tr>\n",
       "<tr>\n",
       "  <th>Time:</th>                 <td>19:54:30</td>     <th>  Log-Likelihood:    </th> <td> -19507.</td> \n",
       "</tr>\n",
       "<tr>\n",
       "  <th>No. Observations:</th>      <td> 10000</td>      <th>  AIC:               </th> <td>3.902e+04</td>\n",
       "</tr>\n",
       "<tr>\n",
       "  <th>Df Residuals:</th>          <td>  9998</td>      <th>  BIC:               </th> <td>3.903e+04</td>\n",
       "</tr>\n",
       "<tr>\n",
       "  <th>Df Model:</th>              <td>     1</td>      <th>                     </th>     <td> </td>    \n",
       "</tr>\n",
       "<tr>\n",
       "  <th>Covariance Type:</th>      <td>nonrobust</td>    <th>                     </th>     <td> </td>    \n",
       "</tr>\n",
       "</table>\n",
       "<table class=\"simpletable\">\n",
       "<tr>\n",
       "      <td></td>         <th>coef</th>     <th>std err</th>      <th>t</th>      <th>P>|t|</th>  <th>[0.025</th>    <th>0.975]</th>  \n",
       "</tr>\n",
       "<tr>\n",
       "  <th>$\\hat{X}$</th> <td>    1.6012</td> <td>    0.043</td> <td>   37.659</td> <td> 0.000</td> <td>    1.518</td> <td>    1.685</td>\n",
       "</tr>\n",
       "<tr>\n",
       "  <th>intercept</th> <td>   -0.5677</td> <td>    0.028</td> <td>  -20.315</td> <td> 0.000</td> <td>   -0.623</td> <td>   -0.513</td>\n",
       "</tr>\n",
       "</table>\n",
       "<table class=\"simpletable\">\n",
       "<tr>\n",
       "  <th>Omnibus:</th>       <td> 5.776</td> <th>  Durbin-Watson:     </th> <td>   2.017</td>\n",
       "</tr>\n",
       "<tr>\n",
       "  <th>Prob(Omnibus):</th> <td> 0.056</td> <th>  Jarque-Bera (JB):  </th> <td>   5.754</td>\n",
       "</tr>\n",
       "<tr>\n",
       "  <th>Skew:</th>          <td>-0.052</td> <th>  Prob(JB):          </th> <td>  0.0563</td>\n",
       "</tr>\n",
       "<tr>\n",
       "  <th>Kurtosis:</th>      <td> 3.054</td> <th>  Cond. No.          </th> <td>    3.27</td>\n",
       "</tr>\n",
       "</table><br/><br/>Warnings:<br/>[1] Standard Errors assume that the covariance matrix of the errors is correctly specified."
      ],
      "text/plain": [
       "<class 'statsmodels.iolib.summary.Summary'>\n",
       "\"\"\"\n",
       "                            OLS Regression Results                            \n",
       "==============================================================================\n",
       "Dep. Variable:                      Y   R-squared:                       0.124\n",
       "Model:                            OLS   Adj. R-squared:                  0.124\n",
       "Method:                 Least Squares   F-statistic:                     1418.\n",
       "Date:                Tue, 16 Mar 2021   Prob (F-statistic):          2.33e-290\n",
       "Time:                        19:54:30   Log-Likelihood:                -19507.\n",
       "No. Observations:               10000   AIC:                         3.902e+04\n",
       "Df Residuals:                    9998   BIC:                         3.903e+04\n",
       "Df Model:                           1                                         \n",
       "Covariance Type:            nonrobust                                         \n",
       "==============================================================================\n",
       "                 coef    std err          t      P>|t|      [0.025      0.975]\n",
       "------------------------------------------------------------------------------\n",
       "$\\hat{X}$      1.6012      0.043     37.659      0.000       1.518       1.685\n",
       "intercept     -0.5677      0.028    -20.315      0.000      -0.623      -0.513\n",
       "==============================================================================\n",
       "Omnibus:                        5.776   Durbin-Watson:                   2.017\n",
       "Prob(Omnibus):                  0.056   Jarque-Bera (JB):                5.754\n",
       "Skew:                          -0.052   Prob(JB):                       0.0563\n",
       "Kurtosis:                       3.054   Cond. No.                         3.27\n",
       "==============================================================================\n",
       "\n",
       "Warnings:\n",
       "[1] Standard Errors assume that the covariance matrix of the errors is correctly specified.\n",
       "\"\"\""
      ]
     },
     "execution_count": 4,
     "metadata": {},
     "output_type": "execute_result"
    }
   ],
   "source": [
    "import statsmodels.api as sm\n",
    "\n",
    "df['intercept'] = 1.\n",
    "model = sm.OLS(endog=df['X'], exog=df[['Z', 'intercept']])\n",
    "result = model.fit()\n",
    "df['$\\hat{X}$'] = result.predict()\n",
    "\n",
    "model = sm.OLS(endog=df['Y'], exog=df[['$\\hat{X}$', 'intercept']])\n",
    "result = model.fit()\n",
    "result.summary()"
   ]
  },
  {
   "cell_type": "markdown",
   "metadata": {},
   "source": [
    "Can we control for $W$ to block the path, and recover a conditional exclusion restriction?"
   ]
  },
  {
   "cell_type": "code",
   "execution_count": 8,
   "metadata": {},
   "outputs": [
    {
     "data": {
      "text/html": [
       "<table class=\"simpletable\">\n",
       "<caption>OLS Regression Results</caption>\n",
       "<tr>\n",
       "  <th>Dep. Variable:</th>            <td>Y</td>        <th>  R-squared:         </th> <td>   0.375</td> \n",
       "</tr>\n",
       "<tr>\n",
       "  <th>Model:</th>                   <td>OLS</td>       <th>  Adj. R-squared:    </th> <td>   0.375</td> \n",
       "</tr>\n",
       "<tr>\n",
       "  <th>Method:</th>             <td>Least Squares</td>  <th>  F-statistic:       </th> <td>   2995.</td> \n",
       "</tr>\n",
       "<tr>\n",
       "  <th>Date:</th>             <td>Tue, 16 Mar 2021</td> <th>  Prob (F-statistic):</th>  <td>  0.00</td>  \n",
       "</tr>\n",
       "<tr>\n",
       "  <th>Time:</th>                 <td>19:55:56</td>     <th>  Log-Likelihood:    </th> <td> -17823.</td> \n",
       "</tr>\n",
       "<tr>\n",
       "  <th>No. Observations:</th>      <td> 10000</td>      <th>  AIC:               </th> <td>3.565e+04</td>\n",
       "</tr>\n",
       "<tr>\n",
       "  <th>Df Residuals:</th>          <td>  9997</td>      <th>  BIC:               </th> <td>3.567e+04</td>\n",
       "</tr>\n",
       "<tr>\n",
       "  <th>Df Model:</th>              <td>     2</td>      <th>                     </th>     <td> </td>    \n",
       "</tr>\n",
       "<tr>\n",
       "  <th>Covariance Type:</th>      <td>nonrobust</td>    <th>                     </th>     <td> </td>    \n",
       "</tr>\n",
       "</table>\n",
       "<table class=\"simpletable\">\n",
       "<tr>\n",
       "      <td></td>         <th>coef</th>     <th>std err</th>      <th>t</th>      <th>P>|t|</th>  <th>[0.025</th>    <th>0.975]</th>  \n",
       "</tr>\n",
       "<tr>\n",
       "  <th>$\\hat{X}$</th> <td>    0.5542</td> <td>    0.039</td> <td>   14.040</td> <td> 0.000</td> <td>    0.477</td> <td>    0.632</td>\n",
       "</tr>\n",
       "<tr>\n",
       "  <th>W</th>         <td>    1.0006</td> <td>    0.016</td> <td>   63.464</td> <td> 0.000</td> <td>    0.970</td> <td>    1.031</td>\n",
       "</tr>\n",
       "<tr>\n",
       "  <th>intercept</th> <td>   -0.0277</td> <td>    0.025</td> <td>   -1.107</td> <td> 0.268</td> <td>   -0.077</td> <td>    0.021</td>\n",
       "</tr>\n",
       "</table>\n",
       "<table class=\"simpletable\">\n",
       "<tr>\n",
       "  <th>Omnibus:</th>       <td> 2.961</td> <th>  Durbin-Watson:     </th> <td>   1.996</td>\n",
       "</tr>\n",
       "<tr>\n",
       "  <th>Prob(Omnibus):</th> <td> 0.227</td> <th>  Jarque-Bera (JB):  </th> <td>   2.932</td>\n",
       "</tr>\n",
       "<tr>\n",
       "  <th>Skew:</th>          <td>-0.041</td> <th>  Prob(JB):          </th> <td>   0.231</td>\n",
       "</tr>\n",
       "<tr>\n",
       "  <th>Kurtosis:</th>      <td> 3.020</td> <th>  Cond. No.          </th> <td>    3.66</td>\n",
       "</tr>\n",
       "</table><br/><br/>Warnings:<br/>[1] Standard Errors assume that the covariance matrix of the errors is correctly specified."
      ],
      "text/plain": [
       "<class 'statsmodels.iolib.summary.Summary'>\n",
       "\"\"\"\n",
       "                            OLS Regression Results                            \n",
       "==============================================================================\n",
       "Dep. Variable:                      Y   R-squared:                       0.375\n",
       "Model:                            OLS   Adj. R-squared:                  0.375\n",
       "Method:                 Least Squares   F-statistic:                     2995.\n",
       "Date:                Tue, 16 Mar 2021   Prob (F-statistic):               0.00\n",
       "Time:                        19:55:56   Log-Likelihood:                -17823.\n",
       "No. Observations:               10000   AIC:                         3.565e+04\n",
       "Df Residuals:                    9997   BIC:                         3.567e+04\n",
       "Df Model:                           2                                         \n",
       "Covariance Type:            nonrobust                                         \n",
       "==============================================================================\n",
       "                 coef    std err          t      P>|t|      [0.025      0.975]\n",
       "------------------------------------------------------------------------------\n",
       "$\\hat{X}$      0.5542      0.039     14.040      0.000       0.477       0.632\n",
       "W              1.0006      0.016     63.464      0.000       0.970       1.031\n",
       "intercept     -0.0277      0.025     -1.107      0.268      -0.077       0.021\n",
       "==============================================================================\n",
       "Omnibus:                        2.961   Durbin-Watson:                   1.996\n",
       "Prob(Omnibus):                  0.227   Jarque-Bera (JB):                2.932\n",
       "Skew:                          -0.041   Prob(JB):                        0.231\n",
       "Kurtosis:                       3.020   Cond. No.                         3.66\n",
       "==============================================================================\n",
       "\n",
       "Warnings:\n",
       "[1] Standard Errors assume that the covariance matrix of the errors is correctly specified.\n",
       "\"\"\""
      ]
     },
     "execution_count": 8,
     "metadata": {},
     "output_type": "execute_result"
    }
   ],
   "source": [
    "import statsmodels.api as sm\n",
    "\n",
    "df['intercept'] = 1.\n",
    "model = sm.OLS(endog=df['X'], exog=df[['Z', 'W', 'intercept']])\n",
    "result = model.fit()\n",
    "df['$\\hat{X}$'] = result.predict()\n",
    "\n",
    "model = sm.OLS(endog=df['Y'], exog=df[['$\\hat{X}$', 'W', 'intercept']])\n",
    "result = model.fit()\n",
    "result.summary()"
   ]
  },
  {
   "cell_type": "markdown",
   "metadata": {},
   "source": [
    "Yes! Does it work for the other DGP as well?"
   ]
  },
  {
   "cell_type": "code",
   "execution_count": 9,
   "metadata": {},
   "outputs": [],
   "source": [
    "import pandas as pd\n",
    "import numpy as np\n",
    "\n",
    "p_e = 0.2\n",
    "N = 10000\n",
    "\n",
    "delta = np.random.uniform(0,1,size=N)\n",
    "\n",
    "w = np.random.normal(size=N)\n",
    "z = np.random.binomial(1., p=1. / (1. + np.exp(-w)), size=N)\n",
    "e = np.random.binomial(1., p=p_e, size=N)\n",
    "u = np.random.normal(w, size=N)\n",
    "x = (e==1)*np.random.binomial(1, p=1. / (1. + np.exp(-delta + u))) + (e==0)*z\n",
    "y = u + delta*x + np.random.normal(size=N)\n",
    "\n",
    "df = pd.DataFrame({\"X\": x, \"Z\": z, \"E\": e, \"U\": u, \"Y\": y, \"W\": w})"
   ]
  },
  {
   "cell_type": "code",
   "execution_count": 10,
   "metadata": {},
   "outputs": [
    {
     "data": {
      "text/html": [
       "<table class=\"simpletable\">\n",
       "<caption>OLS Regression Results</caption>\n",
       "<tr>\n",
       "  <th>Dep. Variable:</th>            <td>Y</td>        <th>  R-squared:         </th> <td>   0.363</td> \n",
       "</tr>\n",
       "<tr>\n",
       "  <th>Model:</th>                   <td>OLS</td>       <th>  Adj. R-squared:    </th> <td>   0.363</td> \n",
       "</tr>\n",
       "<tr>\n",
       "  <th>Method:</th>             <td>Least Squares</td>  <th>  F-statistic:       </th> <td>   2848.</td> \n",
       "</tr>\n",
       "<tr>\n",
       "  <th>Date:</th>             <td>Tue, 16 Mar 2021</td> <th>  Prob (F-statistic):</th>  <td>  0.00</td>  \n",
       "</tr>\n",
       "<tr>\n",
       "  <th>Time:</th>                 <td>19:56:34</td>     <th>  Log-Likelihood:    </th> <td> -17874.</td> \n",
       "</tr>\n",
       "<tr>\n",
       "  <th>No. Observations:</th>      <td> 10000</td>      <th>  AIC:               </th> <td>3.575e+04</td>\n",
       "</tr>\n",
       "<tr>\n",
       "  <th>Df Residuals:</th>          <td>  9997</td>      <th>  BIC:               </th> <td>3.578e+04</td>\n",
       "</tr>\n",
       "<tr>\n",
       "  <th>Df Model:</th>              <td>     2</td>      <th>                     </th>     <td> </td>    \n",
       "</tr>\n",
       "<tr>\n",
       "  <th>Covariance Type:</th>      <td>nonrobust</td>    <th>                     </th>     <td> </td>    \n",
       "</tr>\n",
       "</table>\n",
       "<table class=\"simpletable\">\n",
       "<tr>\n",
       "      <td></td>         <th>coef</th>     <th>std err</th>      <th>t</th>      <th>P>|t|</th>  <th>[0.025</th>    <th>0.975]</th>  \n",
       "</tr>\n",
       "<tr>\n",
       "  <th>$\\hat{X}$</th> <td>    0.4754</td> <td>    0.040</td> <td>   11.941</td> <td> 0.000</td> <td>    0.397</td> <td>    0.553</td>\n",
       "</tr>\n",
       "<tr>\n",
       "  <th>W</th>         <td>    1.0150</td> <td>    0.015</td> <td>   65.767</td> <td> 0.000</td> <td>    0.985</td> <td>    1.045</td>\n",
       "</tr>\n",
       "<tr>\n",
       "  <th>intercept</th> <td>    0.0068</td> <td>    0.025</td> <td>    0.270</td> <td> 0.787</td> <td>   -0.042</td> <td>    0.056</td>\n",
       "</tr>\n",
       "</table>\n",
       "<table class=\"simpletable\">\n",
       "<tr>\n",
       "  <th>Omnibus:</th>       <td> 0.163</td> <th>  Durbin-Watson:     </th> <td>   2.012</td>\n",
       "</tr>\n",
       "<tr>\n",
       "  <th>Prob(Omnibus):</th> <td> 0.922</td> <th>  Jarque-Bera (JB):  </th> <td>   0.137</td>\n",
       "</tr>\n",
       "<tr>\n",
       "  <th>Skew:</th>          <td>-0.002</td> <th>  Prob(JB):          </th> <td>   0.934</td>\n",
       "</tr>\n",
       "<tr>\n",
       "  <th>Kurtosis:</th>      <td> 3.018</td> <th>  Cond. No.          </th> <td>    3.63</td>\n",
       "</tr>\n",
       "</table><br/><br/>Warnings:<br/>[1] Standard Errors assume that the covariance matrix of the errors is correctly specified."
      ],
      "text/plain": [
       "<class 'statsmodels.iolib.summary.Summary'>\n",
       "\"\"\"\n",
       "                            OLS Regression Results                            \n",
       "==============================================================================\n",
       "Dep. Variable:                      Y   R-squared:                       0.363\n",
       "Model:                            OLS   Adj. R-squared:                  0.363\n",
       "Method:                 Least Squares   F-statistic:                     2848.\n",
       "Date:                Tue, 16 Mar 2021   Prob (F-statistic):               0.00\n",
       "Time:                        19:56:34   Log-Likelihood:                -17874.\n",
       "No. Observations:               10000   AIC:                         3.575e+04\n",
       "Df Residuals:                    9997   BIC:                         3.578e+04\n",
       "Df Model:                           2                                         \n",
       "Covariance Type:            nonrobust                                         \n",
       "==============================================================================\n",
       "                 coef    std err          t      P>|t|      [0.025      0.975]\n",
       "------------------------------------------------------------------------------\n",
       "$\\hat{X}$      0.4754      0.040     11.941      0.000       0.397       0.553\n",
       "W              1.0150      0.015     65.767      0.000       0.985       1.045\n",
       "intercept      0.0068      0.025      0.270      0.787      -0.042       0.056\n",
       "==============================================================================\n",
       "Omnibus:                        0.163   Durbin-Watson:                   2.012\n",
       "Prob(Omnibus):                  0.922   Jarque-Bera (JB):                0.137\n",
       "Skew:                          -0.002   Prob(JB):                        0.934\n",
       "Kurtosis:                       3.018   Cond. No.                         3.63\n",
       "==============================================================================\n",
       "\n",
       "Warnings:\n",
       "[1] Standard Errors assume that the covariance matrix of the errors is correctly specified.\n",
       "\"\"\""
      ]
     },
     "execution_count": 10,
     "metadata": {},
     "output_type": "execute_result"
    }
   ],
   "source": [
    "import statsmodels.api as sm\n",
    "\n",
    "df['intercept'] = 1.\n",
    "model = sm.OLS(endog=df['X'], exog=df[['Z', 'W', 'intercept']])\n",
    "result = model.fit()\n",
    "df['$\\hat{X}$'] = result.predict()\n",
    "\n",
    "model = sm.OLS(endog=df['Y'], exog=df[['$\\hat{X}$', 'W', 'intercept']])\n",
    "result = model.fit()\n",
    "result.summary()"
   ]
  },
  {
   "cell_type": "markdown",
   "metadata": {},
   "source": [
    "It does! We have a conditional instrument."
   ]
  },
  {
   "cell_type": "code",
   "execution_count": null,
   "metadata": {},
   "outputs": [],
   "source": []
  }
 ],
 "metadata": {
  "kernelspec": {
   "display_name": "Python 3",
   "language": "python",
   "name": "python3"
  },
  "language_info": {
   "codemirror_mode": {
    "name": "ipython",
    "version": 3
   },
   "file_extension": ".py",
   "mimetype": "text/x-python",
   "name": "python",
   "nbconvert_exporter": "python",
   "pygments_lexer": "ipython3",
   "version": "3.6.7"
  }
 },
 "nbformat": 4,
 "nbformat_minor": 2
}
