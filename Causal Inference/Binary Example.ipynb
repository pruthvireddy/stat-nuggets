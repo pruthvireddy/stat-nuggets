{
 "cells": [
  {
   "cell_type": "code",
   "execution_count": 1,
   "metadata": {},
   "outputs": [],
   "source": [
    "import pandas as pd\n",
    "import numpy as np\n",
    "\n",
    "N = 500000\n",
    "\n",
    "def inverse_logit(x):\n",
    "    return 1. / (1. + np.exp(-x))\n",
    "\n",
    "u = np.random.normal(size=N)\n",
    "x = np.random.binomial(1, p=inverse_logit(u))\n",
    "z = np.random.binomial(1, p=0.25 + 0.5*x)\n",
    "y = np.random.binomial(1, p=0.5*z + 0.5*inverse_logit(u))\n",
    "\n",
    "df = pd.DataFrame({'X': x, 'Z': z, 'Y': y})"
   ]
  },
  {
   "cell_type": "code",
   "execution_count": 2,
   "metadata": {},
   "outputs": [
    {
     "data": {
      "text/plain": [
       "0.3376959217685063"
      ]
     },
     "execution_count": 2,
     "metadata": {},
     "output_type": "execute_result"
    }
   ],
   "source": [
    "# true ATE is 0.5 * 0.5 = 0.25\n",
    "df.groupby('X').mean()['Y'][1] - df.groupby('X').mean()['Y'][0]"
   ]
  },
  {
   "cell_type": "markdown",
   "metadata": {},
   "source": [
    "We want to estimate $P(Y|do(X=x)) = \\sum_z P(Z=z|X=x) \\sum_{x'}P(Y|X=x', Z=z)P(X=x')$\n",
    "\n",
    "This has three components:\n",
    "\n",
    "1. $ P(Z=z|X=x)$\n",
    "2. $P(Y|X=x', Z=z)$, and\n",
    "3. $P(X=x')$"
   ]
  },
  {
   "cell_type": "markdown",
   "metadata": {},
   "source": [
    "First, $ P(Z=z|X=x)$, using the trick that $E[Z] = P(Z)$ for binary $Z$"
   ]
  },
  {
   "cell_type": "code",
   "execution_count": 38,
   "metadata": {},
   "outputs": [
    {
     "data": {
      "text/plain": [
       "X\n",
       "0    0.247669\n",
       "1    0.750254\n",
       "Name: Z, dtype: float64"
      ]
     },
     "execution_count": 38,
     "metadata": {},
     "output_type": "execute_result"
    }
   ],
   "source": [
    "df.groupby('X').mean()['Z']"
   ]
  },
  {
   "cell_type": "markdown",
   "metadata": {},
   "source": [
    "then $P(Y|X=x', Z=z)$"
   ]
  },
  {
   "cell_type": "code",
   "execution_count": 39,
   "metadata": {},
   "outputs": [
    {
     "data": {
      "text/plain": [
       "X  Z\n",
       "0  0    0.206088\n",
       "   1    0.703770\n",
       "1  0    0.291150\n",
       "   1    0.793087\n",
       "Name: Y, dtype: float64"
      ]
     },
     "execution_count": 39,
     "metadata": {},
     "output_type": "execute_result"
    }
   ],
   "source": [
    "df.groupby(['X', 'Z']).mean()['Y']"
   ]
  },
  {
   "cell_type": "markdown",
   "metadata": {},
   "source": [
    "and finally $P(X=x')$"
   ]
  },
  {
   "cell_type": "code",
   "execution_count": 40,
   "metadata": {},
   "outputs": [
    {
     "data": {
      "text/plain": [
       "(X    0.500292\n",
       " dtype: float64,\n",
       " X    0.499708\n",
       " dtype: float64)"
      ]
     },
     "execution_count": 40,
     "metadata": {},
     "output_type": "execute_result"
    }
   ],
   "source": [
    "df.mean()[['X']], 1. - df.mean()[['X']]"
   ]
  },
  {
   "cell_type": "markdown",
   "metadata": {},
   "source": [
    "putting it all together,"
   ]
  },
  {
   "cell_type": "code",
   "execution_count": 3,
   "metadata": {},
   "outputs": [],
   "source": [
    "def p_y_given_do_x(y, x, df=df):\n",
    "    result = 0.\n",
    "    for z in df.Z.unique():\n",
    "        for xp in df.X.unique():\n",
    "            f1 = z * df.groupby('X').mean()['Z'][x] + (1-z)* (1-df.groupby('X').mean()['Z'][x])\n",
    "            f2 = y * df.groupby(['X', 'Z']).mean()['Y'][xp, z] + (1-y)*(1-df.groupby(['X', 'Z']).mean()['Y'][xp, z])\n",
    "            f3 = x * df.mean()[['X']] + (1-x)*(1-df.mean()[['X']])\n",
    "            result += f1 * f2 * f3\n",
    "    return result"
   ]
  },
  {
   "cell_type": "code",
   "execution_count": 4,
   "metadata": {},
   "outputs": [
    {
     "data": {
      "text/plain": [
       "X    0.251098\n",
       "dtype: float64"
      ]
     },
     "execution_count": 4,
     "metadata": {},
     "output_type": "execute_result"
    }
   ],
   "source": [
    "p_y_given_do_x(1, 1) - p_y_given_do_x(1, 0)"
   ]
  },
  {
   "cell_type": "code",
   "execution_count": null,
   "metadata": {},
   "outputs": [],
   "source": []
  }
 ],
 "metadata": {
  "kernelspec": {
   "display_name": "Python 3",
   "language": "python",
   "name": "python3"
  },
  "language_info": {
   "codemirror_mode": {
    "name": "ipython",
    "version": 3
   },
   "file_extension": ".py",
   "mimetype": "text/x-python",
   "name": "python",
   "nbconvert_exporter": "python",
   "pygments_lexer": "ipython3",
   "version": "3.6.9"
  }
 },
 "nbformat": 4,
 "nbformat_minor": 4
}
