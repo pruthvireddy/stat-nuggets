{
 "cells": [
  {
   "cell_type": "code",
   "execution_count": 236,
   "metadata": {},
   "outputs": [],
   "source": [
    "%matplotlib inline"
   ]
  },
  {
   "cell_type": "code",
   "execution_count": 237,
   "metadata": {},
   "outputs": [],
   "source": [
    "import pandas as pd\n",
    "import numpy as np\n",
    "import matplotlib.pyplot as pp"
   ]
  },
  {
   "cell_type": "markdown",
   "metadata": {},
   "source": [
    "# Generating Data"
   ]
  },
  {
   "cell_type": "code",
   "execution_count": 238,
   "metadata": {},
   "outputs": [],
   "source": [
    "N = 100000\n",
    "\n",
    "household_income = np.random.gamma(50, 1000, size=N)  # Z1, in USD. probably unrealistic, \n",
    "                                                      # since not long-tailed enough\n",
    "parents_education = np.random.choice(range(5), size=N)  # Z2, labels ['no high school', high school', 'some college', 'BA/BS', \n",
    "                                                        #             'post-grad degree']\n",
    "last_year_gpa = np.random.uniform(2.0, 4.0, size=N)  # Z3 on a 4-point scale, \n",
    "                                                     # assuming everyone passed last year\n",
    "commute_time = np.random.gamma(1, 1, size=N)  # Z4, in hours\n",
    "hobby_engagement = np.random.gamma(2, 1, size=N) # Z5, in hours per week\n",
    "\n",
    "df = pd.DataFrame({'household_income': household_income,\n",
    "                   'parents_education': parents_education,\n",
    "                   'last_year_gpa': last_year_gpa,\n",
    "                   'commute_time': commute_time,\n",
    "                   'hobby_engagement': hobby_engagement})\n"
   ]
  },
  {
   "cell_type": "code",
   "execution_count": 239,
   "metadata": {},
   "outputs": [
    {
     "data": {
      "image/png": "[encoded data removed]",
      "text/plain": [
       "<Figure size 720x720 with 6 Axes>"
      ]
     },
     "metadata": {
      "needs_background": "light"
     },
     "output_type": "display_data"
    }
   ],
   "source": [
    "df.hist(figsize=(10,10), bins=30);"
   ]
  },
  {
   "cell_type": "code",
   "execution_count": 240,
   "metadata": {},
   "outputs": [],
   "source": [
    "beta_ca = 1.\n",
    "beta_ha = -1.\n",
    "beta_ia = 1.\n",
    "beta_ga = -1.\n",
    "beta_ea = 1.\n",
    "beta_a = -3\n",
    "\n",
    "phi = beta_ca * df['commute_time'] / df['commute_time'].std() + \\\n",
    "      beta_ha * df['hobby_engagement'] / df['hobby_engagement'].std()+ \\\n",
    "      beta_ia * df['household_income'] / df['household_income'].std()+ \\\n",
    "      beta_ga * df['last_year_gpa'] / df['last_year_gpa'].std() + \\\n",
    "      beta_ea * df['parents_education'] / df['parents_education'].std() + \\\n",
    "      beta_a\n",
    "p_app = 1. / (1. + np.exp(-phi))\n",
    "df['uses_app'] = np.random.binomial(1., p=p_app)"
   ]
  },
  {
   "cell_type": "code",
   "execution_count": 241,
   "metadata": {},
   "outputs": [
    {
     "data": {
      "text/plain": [
       "household_income     49978.050187\n",
       "parents_education        2.009510\n",
       "last_year_gpa            2.999310\n",
       "commute_time             1.000307\n",
       "hobby_engagement         2.007624\n",
       "uses_app                 0.482310\n",
       "dtype: float64"
      ]
     },
     "execution_count": 241,
     "metadata": {},
     "output_type": "execute_result"
    }
   ],
   "source": [
    "df.mean()"
   ]
  },
  {
   "cell_type": "code",
   "execution_count": 242,
   "metadata": {},
   "outputs": [
    {
     "data": {
      "text/html": [
       "<div>\n",
       "<style scoped>\n",
       "    .dataframe tbody tr th:only-of-type {\n",
       "        vertical-align: middle;\n",
       "    }\n",
       "\n",
       "    .dataframe tbody tr th {\n",
       "        vertical-align: top;\n",
       "    }\n",
       "\n",
       "    .dataframe thead th {\n",
       "        text-align: right;\n",
       "    }\n",
       "</style>\n",
       "<table border=\"1\" class=\"dataframe\">\n",
       "  <thead>\n",
       "    <tr style=\"text-align: right;\">\n",
       "      <th></th>\n",
       "      <th>household_income</th>\n",
       "      <th>parents_education</th>\n",
       "      <th>last_year_gpa</th>\n",
       "      <th>commute_time</th>\n",
       "      <th>hobby_engagement</th>\n",
       "      <th>uses_app</th>\n",
       "    </tr>\n",
       "  </thead>\n",
       "  <tbody>\n",
       "    <tr>\n",
       "      <th>household_income</th>\n",
       "      <td>1.000000</td>\n",
       "      <td>-0.000042</td>\n",
       "      <td>-0.003146</td>\n",
       "      <td>0.002336</td>\n",
       "      <td>0.002089</td>\n",
       "      <td>0.283521</td>\n",
       "    </tr>\n",
       "    <tr>\n",
       "      <th>parents_education</th>\n",
       "      <td>-0.000042</td>\n",
       "      <td>1.000000</td>\n",
       "      <td>-0.001203</td>\n",
       "      <td>-0.002486</td>\n",
       "      <td>-0.000333</td>\n",
       "      <td>0.292471</td>\n",
       "    </tr>\n",
       "    <tr>\n",
       "      <th>last_year_gpa</th>\n",
       "      <td>-0.003146</td>\n",
       "      <td>-0.001203</td>\n",
       "      <td>1.000000</td>\n",
       "      <td>-0.000747</td>\n",
       "      <td>0.003226</td>\n",
       "      <td>-0.294910</td>\n",
       "    </tr>\n",
       "    <tr>\n",
       "      <th>commute_time</th>\n",
       "      <td>0.002336</td>\n",
       "      <td>-0.002486</td>\n",
       "      <td>-0.000747</td>\n",
       "      <td>1.000000</td>\n",
       "      <td>-0.002351</td>\n",
       "      <td>0.263965</td>\n",
       "    </tr>\n",
       "    <tr>\n",
       "      <th>hobby_engagement</th>\n",
       "      <td>0.002089</td>\n",
       "      <td>-0.000333</td>\n",
       "      <td>0.003226</td>\n",
       "      <td>-0.002351</td>\n",
       "      <td>1.000000</td>\n",
       "      <td>-0.265660</td>\n",
       "    </tr>\n",
       "    <tr>\n",
       "      <th>uses_app</th>\n",
       "      <td>0.283521</td>\n",
       "      <td>0.292471</td>\n",
       "      <td>-0.294910</td>\n",
       "      <td>0.263965</td>\n",
       "      <td>-0.265660</td>\n",
       "      <td>1.000000</td>\n",
       "    </tr>\n",
       "  </tbody>\n",
       "</table>\n",
       "</div>"
      ],
      "text/plain": [
       "                   household_income  parents_education  last_year_gpa  \\\n",
       "household_income           1.000000          -0.000042      -0.003146   \n",
       "parents_education         -0.000042           1.000000      -0.001203   \n",
       "last_year_gpa             -0.003146          -0.001203       1.000000   \n",
       "commute_time               0.002336          -0.002486      -0.000747   \n",
       "hobby_engagement           0.002089          -0.000333       0.003226   \n",
       "uses_app                   0.283521           0.292471      -0.294910   \n",
       "\n",
       "                   commute_time  hobby_engagement  uses_app  \n",
       "household_income       0.002336          0.002089  0.283521  \n",
       "parents_education     -0.002486         -0.000333  0.292471  \n",
       "last_year_gpa         -0.000747          0.003226 -0.294910  \n",
       "commute_time           1.000000         -0.002351  0.263965  \n",
       "hobby_engagement      -0.002351          1.000000 -0.265660  \n",
       "uses_app               0.263965         -0.265660  1.000000  "
      ]
     },
     "execution_count": 242,
     "metadata": {},
     "output_type": "execute_result"
    }
   ],
   "source": [
    "df.corr()"
   ]
  },
  {
   "cell_type": "code",
   "execution_count": 243,
   "metadata": {},
   "outputs": [],
   "source": [
    "beta_cp = -1.\n",
    "beta_hp = -1.\n",
    "beta_ip = 1.\n",
    "beta_gp = 8.\n",
    "beta_p = -50\n",
    "beta_ep = 1.\n",
    "\n",
    "delta = 0.1\n",
    "\n",
    "phi_p = beta_cp * df['commute_time'] / df['commute_time'].std() + \\\n",
    "        beta_hp * df['hobby_engagement'] / df['hobby_engagement'].std()+ \\\n",
    "        beta_ip * df['household_income'] / df['household_income'].std()+ \\\n",
    "        beta_gp * df['last_year_gpa'] / df['last_year_gpa'].std() + \\\n",
    "        beta_ep * df['parents_education'] / df['parents_education'].std() + \\\n",
    "        beta_p\n",
    "p_passes = np.minimum(1. / (1. + np.exp(-phi_p/5)), 1. - delta - 0.001) + df['uses_app']*delta\n",
    "df['passes'] = np.random.binomial(1., p=p_passes)"
   ]
  },
  {
   "cell_type": "code",
   "execution_count": 244,
   "metadata": {},
   "outputs": [
    {
     "data": {
      "text/plain": [
       "<AxesSubplot:>"
      ]
     },
     "execution_count": 244,
     "metadata": {},
     "output_type": "execute_result"
    },
    {
     "data": {
      "image/png": "[encoded data removed]",
      "text/plain": [
       "<Figure size 432x288 with 1 Axes>"
      ]
     },
     "metadata": {
      "needs_background": "light"
     },
     "output_type": "display_data"
    }
   ],
   "source": [
    "p_passes.hist(bins=100)"
   ]
  },
  {
   "cell_type": "code",
   "execution_count": 245,
   "metadata": {},
   "outputs": [
    {
     "data": {
      "text/plain": [
       "household_income     49978.050187\n",
       "parents_education        2.009510\n",
       "last_year_gpa            2.999310\n",
       "commute_time             1.000307\n",
       "hobby_engagement         2.007624\n",
       "uses_app                 0.482310\n",
       "passes                   0.479100\n",
       "dtype: float64"
      ]
     },
     "execution_count": 245,
     "metadata": {},
     "output_type": "execute_result"
    }
   ],
   "source": [
    "df.mean()"
   ]
  },
  {
   "cell_type": "code",
   "execution_count": 246,
   "metadata": {},
   "outputs": [
    {
     "data": {
      "text/html": [
       "<div>\n",
       "<style scoped>\n",
       "    .dataframe tbody tr th:only-of-type {\n",
       "        vertical-align: middle;\n",
       "    }\n",
       "\n",
       "    .dataframe tbody tr th {\n",
       "        vertical-align: top;\n",
       "    }\n",
       "\n",
       "    .dataframe thead th {\n",
       "        text-align: right;\n",
       "    }\n",
       "</style>\n",
       "<table border=\"1\" class=\"dataframe\">\n",
       "  <thead>\n",
       "    <tr style=\"text-align: right;\">\n",
       "      <th></th>\n",
       "      <th>household_income</th>\n",
       "      <th>parents_education</th>\n",
       "      <th>last_year_gpa</th>\n",
       "      <th>commute_time</th>\n",
       "      <th>hobby_engagement</th>\n",
       "      <th>uses_app</th>\n",
       "      <th>passes</th>\n",
       "    </tr>\n",
       "  </thead>\n",
       "  <tbody>\n",
       "    <tr>\n",
       "      <th>household_income</th>\n",
       "      <td>1.000000</td>\n",
       "      <td>-0.000042</td>\n",
       "      <td>-0.003146</td>\n",
       "      <td>0.002336</td>\n",
       "      <td>0.002089</td>\n",
       "      <td>0.283521</td>\n",
       "      <td>0.089315</td>\n",
       "    </tr>\n",
       "    <tr>\n",
       "      <th>parents_education</th>\n",
       "      <td>-0.000042</td>\n",
       "      <td>1.000000</td>\n",
       "      <td>-0.001203</td>\n",
       "      <td>-0.002486</td>\n",
       "      <td>-0.000333</td>\n",
       "      <td>0.292471</td>\n",
       "      <td>0.085072</td>\n",
       "    </tr>\n",
       "    <tr>\n",
       "      <th>last_year_gpa</th>\n",
       "      <td>-0.003146</td>\n",
       "      <td>-0.001203</td>\n",
       "      <td>1.000000</td>\n",
       "      <td>-0.000747</td>\n",
       "      <td>0.003226</td>\n",
       "      <td>-0.294910</td>\n",
       "      <td>0.542995</td>\n",
       "    </tr>\n",
       "    <tr>\n",
       "      <th>commute_time</th>\n",
       "      <td>0.002336</td>\n",
       "      <td>-0.002486</td>\n",
       "      <td>-0.000747</td>\n",
       "      <td>1.000000</td>\n",
       "      <td>-0.002351</td>\n",
       "      <td>0.263965</td>\n",
       "      <td>-0.037276</td>\n",
       "    </tr>\n",
       "    <tr>\n",
       "      <th>hobby_engagement</th>\n",
       "      <td>0.002089</td>\n",
       "      <td>-0.000333</td>\n",
       "      <td>0.003226</td>\n",
       "      <td>-0.002351</td>\n",
       "      <td>1.000000</td>\n",
       "      <td>-0.265660</td>\n",
       "      <td>-0.082918</td>\n",
       "    </tr>\n",
       "    <tr>\n",
       "      <th>uses_app</th>\n",
       "      <td>0.283521</td>\n",
       "      <td>0.292471</td>\n",
       "      <td>-0.294910</td>\n",
       "      <td>0.263965</td>\n",
       "      <td>-0.265660</td>\n",
       "      <td>1.000000</td>\n",
       "      <td>-0.035192</td>\n",
       "    </tr>\n",
       "    <tr>\n",
       "      <th>passes</th>\n",
       "      <td>0.089315</td>\n",
       "      <td>0.085072</td>\n",
       "      <td>0.542995</td>\n",
       "      <td>-0.037276</td>\n",
       "      <td>-0.082918</td>\n",
       "      <td>-0.035192</td>\n",
       "      <td>1.000000</td>\n",
       "    </tr>\n",
       "  </tbody>\n",
       "</table>\n",
       "</div>"
      ],
      "text/plain": [
       "                   household_income  parents_education  last_year_gpa  \\\n",
       "household_income           1.000000          -0.000042      -0.003146   \n",
       "parents_education         -0.000042           1.000000      -0.001203   \n",
       "last_year_gpa             -0.003146          -0.001203       1.000000   \n",
       "commute_time               0.002336          -0.002486      -0.000747   \n",
       "hobby_engagement           0.002089          -0.000333       0.003226   \n",
       "uses_app                   0.283521           0.292471      -0.294910   \n",
       "passes                     0.089315           0.085072       0.542995   \n",
       "\n",
       "                   commute_time  hobby_engagement  uses_app    passes  \n",
       "household_income       0.002336          0.002089  0.283521  0.089315  \n",
       "parents_education     -0.002486         -0.000333  0.292471  0.085072  \n",
       "last_year_gpa         -0.000747          0.003226 -0.294910  0.542995  \n",
       "commute_time           1.000000         -0.002351  0.263965 -0.037276  \n",
       "hobby_engagement      -0.002351          1.000000 -0.265660 -0.082918  \n",
       "uses_app               0.263965         -0.265660  1.000000 -0.035192  \n",
       "passes                -0.037276         -0.082918 -0.035192  1.000000  "
      ]
     },
     "execution_count": 246,
     "metadata": {},
     "output_type": "execute_result"
    }
   ],
   "source": [
    "df.corr()"
   ]
  },
  {
   "cell_type": "code",
   "execution_count": 247,
   "metadata": {},
   "outputs": [
    {
     "data": {
      "text/plain": [
       "-0.03518292402812784"
      ]
     },
     "execution_count": 247,
     "metadata": {},
     "output_type": "execute_result"
    }
   ],
   "source": [
    "## Let's check the naive estimate\n",
    "\n",
    "df.groupby('uses_app').mean()['passes'][1] - df.groupby('uses_app').mean()['passes'][0]"
   ]
  },
  {
   "cell_type": "markdown",
   "metadata": {},
   "source": [
    "Looks like the effect is biased, from its true value of 0.1 percentage points."
   ]
  },
  {
   "cell_type": "markdown",
   "metadata": {},
   "source": [
    "Now, let's try exact matching. First, we should pre-process our continuous variables into discrete variables."
   ]
  },
  {
   "cell_type": "markdown",
   "metadata": {},
   "source": [
    "# Exact Matching"
   ]
  },
  {
   "cell_type": "markdown",
   "metadata": {},
   "source": [
    "Let's discretize with quantile discretization"
   ]
  },
  {
   "cell_type": "code",
   "execution_count": 248,
   "metadata": {},
   "outputs": [],
   "source": [
    "continuous_variables = ['household_income',\n",
    "                        'last_year_gpa',\n",
    "                        'commute_time',\n",
    "                        'hobby_engagement']\n",
    "number_of_strata = 5\n",
    "for variable in continuous_variables:\n",
    "    df['{}_discrete'.format(variable)] = pd.qcut(df['{}'.format(variable)], \n",
    "                                                 number_of_strata, \n",
    "                                                 labels=range(number_of_strata)).astype(int)"
   ]
  },
  {
   "cell_type": "code",
   "execution_count": 249,
   "metadata": {},
   "outputs": [
    {
     "data": {
      "text/html": [
       "<div>\n",
       "<style scoped>\n",
       "    .dataframe tbody tr th:only-of-type {\n",
       "        vertical-align: middle;\n",
       "    }\n",
       "\n",
       "    .dataframe tbody tr th {\n",
       "        vertical-align: top;\n",
       "    }\n",
       "\n",
       "    .dataframe thead th {\n",
       "        text-align: right;\n",
       "    }\n",
       "</style>\n",
       "<table border=\"1\" class=\"dataframe\">\n",
       "  <thead>\n",
       "    <tr style=\"text-align: right;\">\n",
       "      <th></th>\n",
       "      <th>household_income</th>\n",
       "      <th>parents_education</th>\n",
       "      <th>last_year_gpa</th>\n",
       "      <th>commute_time</th>\n",
       "      <th>hobby_engagement</th>\n",
       "      <th>uses_app</th>\n",
       "      <th>passes</th>\n",
       "      <th>household_income_discrete</th>\n",
       "      <th>last_year_gpa_discrete</th>\n",
       "      <th>commute_time_discrete</th>\n",
       "      <th>hobby_engagement_discrete</th>\n",
       "    </tr>\n",
       "  </thead>\n",
       "  <tbody>\n",
       "    <tr>\n",
       "      <th>0</th>\n",
       "      <td>61904.740709</td>\n",
       "      <td>0</td>\n",
       "      <td>3.383905</td>\n",
       "      <td>0.051271</td>\n",
       "      <td>0.127383</td>\n",
       "      <td>1</td>\n",
       "      <td>1</td>\n",
       "      <td>4</td>\n",
       "      <td>3</td>\n",
       "      <td>0</td>\n",
       "      <td>0</td>\n",
       "    </tr>\n",
       "    <tr>\n",
       "      <th>1</th>\n",
       "      <td>47082.806558</td>\n",
       "      <td>1</td>\n",
       "      <td>3.447803</td>\n",
       "      <td>4.746682</td>\n",
       "      <td>1.206258</td>\n",
       "      <td>1</td>\n",
       "      <td>0</td>\n",
       "      <td>1</td>\n",
       "      <td>3</td>\n",
       "      <td>4</td>\n",
       "      <td>1</td>\n",
       "    </tr>\n",
       "    <tr>\n",
       "      <th>2</th>\n",
       "      <td>55752.881208</td>\n",
       "      <td>0</td>\n",
       "      <td>3.590264</td>\n",
       "      <td>0.240381</td>\n",
       "      <td>5.432306</td>\n",
       "      <td>0</td>\n",
       "      <td>1</td>\n",
       "      <td>3</td>\n",
       "      <td>3</td>\n",
       "      <td>1</td>\n",
       "      <td>4</td>\n",
       "    </tr>\n",
       "    <tr>\n",
       "      <th>3</th>\n",
       "      <td>40119.451438</td>\n",
       "      <td>4</td>\n",
       "      <td>3.035910</td>\n",
       "      <td>0.358731</td>\n",
       "      <td>2.443943</td>\n",
       "      <td>1</td>\n",
       "      <td>1</td>\n",
       "      <td>0</td>\n",
       "      <td>2</td>\n",
       "      <td>1</td>\n",
       "      <td>3</td>\n",
       "    </tr>\n",
       "    <tr>\n",
       "      <th>4</th>\n",
       "      <td>43874.212138</td>\n",
       "      <td>0</td>\n",
       "      <td>2.677438</td>\n",
       "      <td>0.696017</td>\n",
       "      <td>0.688548</td>\n",
       "      <td>0</td>\n",
       "      <td>0</td>\n",
       "      <td>0</td>\n",
       "      <td>1</td>\n",
       "      <td>2</td>\n",
       "      <td>0</td>\n",
       "    </tr>\n",
       "  </tbody>\n",
       "</table>\n",
       "</div>"
      ],
      "text/plain": [
       "   household_income  parents_education  last_year_gpa  commute_time  \\\n",
       "0      61904.740709                  0       3.383905      0.051271   \n",
       "1      47082.806558                  1       3.447803      4.746682   \n",
       "2      55752.881208                  0       3.590264      0.240381   \n",
       "3      40119.451438                  4       3.035910      0.358731   \n",
       "4      43874.212138                  0       2.677438      0.696017   \n",
       "\n",
       "   hobby_engagement  uses_app  passes  household_income_discrete  \\\n",
       "0          0.127383         1       1                          4   \n",
       "1          1.206258         1       0                          1   \n",
       "2          5.432306         0       1                          3   \n",
       "3          2.443943         1       1                          0   \n",
       "4          0.688548         0       0                          0   \n",
       "\n",
       "   last_year_gpa_discrete  commute_time_discrete  hobby_engagement_discrete  \n",
       "0                       3                      0                          0  \n",
       "1                       3                      4                          1  \n",
       "2                       3                      1                          4  \n",
       "3                       2                      1                          3  \n",
       "4                       1                      2                          0  "
      ]
     },
     "execution_count": 249,
     "metadata": {},
     "output_type": "execute_result"
    }
   ],
   "source": [
    "df.head()"
   ]
  },
  {
   "cell_type": "code",
   "execution_count": 250,
   "metadata": {},
   "outputs": [
    {
     "data": {
      "text/plain": [
       "16.0"
      ]
     },
     "execution_count": 250,
     "metadata": {},
     "output_type": "execute_result"
    }
   ],
   "source": [
    "# how much data per x-z stratum?\n",
    "\n",
    "N / (2. * np.power(5,5))"
   ]
  },
  {
   "cell_type": "code",
   "execution_count": 251,
   "metadata": {},
   "outputs": [
    {
     "data": {
      "text/plain": [
       "Index(['household_income', 'parents_education', 'last_year_gpa',\n",
       "       'commute_time', 'hobby_engagement', 'uses_app', 'passes',\n",
       "       'household_income_discrete', 'last_year_gpa_discrete',\n",
       "       'commute_time_discrete', 'hobby_engagement_discrete'],\n",
       "      dtype='object')"
      ]
     },
     "execution_count": 251,
     "metadata": {},
     "output_type": "execute_result"
    }
   ],
   "source": [
    "df.columns"
   ]
  },
  {
   "cell_type": "code",
   "execution_count": 252,
   "metadata": {},
   "outputs": [],
   "source": [
    "processed_variables = ['uses_app', 'passes', 'household_income_discrete', 'last_year_gpa_discrete', \n",
    "                       'commute_time_discrete', 'hobby_engagement_discrete','parents_education']\n",
    "matching_variables = ['household_income_discrete', 'last_year_gpa_discrete', \n",
    "                       'commute_time_discrete', 'hobby_engagement_discrete','parents_education']"
   ]
  },
  {
   "cell_type": "markdown",
   "metadata": {},
   "source": [
    "In order to do matching, we need each matching stratum, $Z$, to contain both a person who uses the app and one who doesn't, so we can compare them. Here, the strata are defined by having the same values for each of the matching variables. If we groupby the matching variables and count the number of people in each group, we'll see whether this is a feasible approach.\n",
    "\n",
    "**Question**: What if we're missing people in some strata? How much missingness can we get away with?"
   ]
  },
  {
   "cell_type": "code",
   "execution_count": 253,
   "metadata": {},
   "outputs": [
    {
     "data": {
      "image/png": "[encoded data removed]",
      "text/plain": [
       "<Figure size 864x432 with 1 Axes>"
      ]
     },
     "metadata": {
      "needs_background": "light"
     },
     "output_type": "display_data"
    }
   ],
   "source": [
    "df.groupby(matching_variables + ['uses_app']).count()\\\n",
    "                                             .rename(columns={'passes': 'strata'})\\\n",
    "                                             .hist('strata', bins=30, figsize=(12,6)); \n",
    "pp.xlabel(xlabel='data points');"
   ]
  },
  {
   "cell_type": "markdown",
   "metadata": {},
   "source": [
    "So we see most strata have enough people in them to suspect we'll get good matches. If we were concerned about the loss of data, we could instead change the bin count to a lower number. For example, if instead of 5 bins per $Z$ variable, which gives us $5^5 = 3125$ different $Z$ strata, we tried only 2 bins per variable, we'd have only $2^5 = 32$ different $Z$ strata.\n",
    "\n"
   ]
  },
  {
   "cell_type": "code",
   "execution_count": 198,
   "metadata": {},
   "outputs": [],
   "source": [
    "continuous_variables = ['household_income',\n",
    "                        'last_year_gpa',\n",
    "                        'commute_time',\n",
    "                        'hobby_engagement']\n",
    "number_of_bins = 2\n",
    "for variable in continuous_variables:\n",
    "    df['{}_discrete'.format(variable)] = pd.qcut(df['{}'.format(variable)], \n",
    "                                                 number_of_bins, \n",
    "                                                 labels=range(number_of_bins)).astype(int)"
   ]
  },
  {
   "cell_type": "code",
   "execution_count": 199,
   "metadata": {},
   "outputs": [],
   "source": [
    "# And now we'll coarsen education to high school and lower vs greater than high school\n",
    "\n",
    "df['parents_education_coarse'] = df['parents_education'].apply(lambda x: x > 1).astype(int)"
   ]
  },
  {
   "cell_type": "code",
   "execution_count": 200,
   "metadata": {},
   "outputs": [],
   "source": [
    "processed_variables = ['uses_app', 'passes', 'household_income_discrete', 'last_year_gpa_discrete', \n",
    "                       'commute_time_discrete', 'hobby_engagement_discrete','parents_education']\n",
    "matching_variables = ['household_income_discrete', 'last_year_gpa_discrete', \n",
    "                       'commute_time_discrete', 'hobby_engagement_discrete','parents_education_coarse']"
   ]
  },
  {
   "cell_type": "code",
   "execution_count": 201,
   "metadata": {},
   "outputs": [
    {
     "data": {
      "image/png": "[encoded data removed]",
      "text/plain": [
       "<Figure size 432x288 with 1 Axes>"
      ]
     },
     "metadata": {
      "needs_background": "light"
     },
     "output_type": "display_data"
    }
   ],
   "source": [
    "df.groupby(matching_variables + ['uses_app']).count().hist('passes');"
   ]
  },
  {
   "cell_type": "code",
   "execution_count": 202,
   "metadata": {},
   "outputs": [
    {
     "data": {
      "text/plain": [
       "64"
      ]
     },
     "execution_count": 202,
     "metadata": {},
     "output_type": "execute_result"
    }
   ],
   "source": [
    "len(df.groupby(matching_variables + ['uses_app']).count())"
   ]
  },
  {
   "cell_type": "markdown",
   "metadata": {},
   "source": [
    "This loses quite a lot of information. You can play with the parameters here (rerunning from the beginning each time) to get a feel for how much the effect estimates below change when you vary the discretization."
   ]
  },
  {
   "cell_type": "markdown",
   "metadata": {},
   "source": [
    "# Performing Matching"
   ]
  },
  {
   "cell_type": "code",
   "execution_count": 254,
   "metadata": {
    "scrolled": true
   },
   "outputs": [],
   "source": [
    "index_variables = matching_variables + ['uses_app']\n"
   ]
  },
  {
   "cell_type": "code",
   "execution_count": 255,
   "metadata": {
    "scrolled": true
   },
   "outputs": [],
   "source": [
    "z_strata = df.groupby(index_variables)\n",
    "\n",
    "def choose_match(row):\n",
    "    index = row[index_variables].copy()\n",
    "    index['uses_app'] = 1 - index['uses_app']\n",
    "    try:\n",
    "        matches = z_strata.get_group(tuple(index[index_variables].values))\n",
    "    except:\n",
    "        return np.nan\n",
    "    match = matches.sample(n=1)\n",
    "    return match['passes'].values[0]\n",
    "\n",
    "df['matched_outcome'] = df.apply(choose_match, axis=1)"
   ]
  },
  {
   "cell_type": "code",
   "execution_count": 256,
   "metadata": {},
   "outputs": [
    {
     "data": {
      "text/plain": [
       "household_income             49978.050187\n",
       "parents_education                2.009510\n",
       "last_year_gpa                    2.999310\n",
       "commute_time                     1.000307\n",
       "hobby_engagement                 2.007624\n",
       "uses_app                         0.482310\n",
       "passes                           0.479100\n",
       "household_income_discrete        2.000000\n",
       "last_year_gpa_discrete           2.000000\n",
       "commute_time_discrete            2.000000\n",
       "hobby_engagement_discrete        2.000000\n",
       "matched_outcome                  0.478534\n",
       "dtype: float64"
      ]
     },
     "execution_count": 256,
     "metadata": {},
     "output_type": "execute_result"
    }
   ],
   "source": [
    "df.mean()"
   ]
  },
  {
   "cell_type": "code",
   "execution_count": 257,
   "metadata": {},
   "outputs": [
    {
     "data": {
      "text/plain": [
       "0.09662836079791848"
      ]
     },
     "execution_count": 257,
     "metadata": {},
     "output_type": "execute_result"
    }
   ],
   "source": [
    "y1 = df['uses_app']*df['passes'] + (1. - df['uses_app'])*df['matched_outcome']\n",
    "y0 = (1-df['uses_app'])*df['passes'] + (df['uses_app'])*df['matched_outcome']\n",
    "(y1 - y0).mean()"
   ]
  },
  {
   "cell_type": "code",
   "execution_count": 258,
   "metadata": {},
   "outputs": [
    {
     "data": {
      "text/plain": [
       "0.08792910999503967"
      ]
     },
     "execution_count": 258,
     "metadata": {},
     "output_type": "execute_result"
    }
   ],
   "source": [
    "att = df.groupby('uses_app').mean()['passes'][1] - df.groupby('uses_app').mean()['matched_outcome'][1]\n",
    "att"
   ]
  },
  {
   "cell_type": "code",
   "execution_count": 259,
   "metadata": {},
   "outputs": [
    {
     "data": {
      "text/plain": [
       "0.08211519433262926"
      ]
     },
     "execution_count": 259,
     "metadata": {},
     "output_type": "execute_result"
    }
   ],
   "source": [
    "atc = df.groupby('uses_app').mean()['matched_outcome'][0] - df.groupby('uses_app').mean()['passes'][0]\n",
    "atc"
   ]
  },
  {
   "cell_type": "code",
   "execution_count": 260,
   "metadata": {},
   "outputs": [],
   "source": [
    "p_x = df.mean()['uses_app']\n"
   ]
  },
  {
   "cell_type": "code",
   "execution_count": 261,
   "metadata": {},
   "outputs": [
    {
     "data": {
      "text/plain": [
       "0.08491930399576643"
      ]
     },
     "execution_count": 261,
     "metadata": {},
     "output_type": "execute_result"
    }
   ],
   "source": [
    "p_x*att + (1 - p_x) * atc"
   ]
  },
  {
   "cell_type": "code",
   "execution_count": 262,
   "metadata": {},
   "outputs": [
    {
     "data": {
      "text/plain": [
       "household_income             0.9224\n",
       "parents_education            0.9224\n",
       "last_year_gpa                0.9224\n",
       "commute_time                 0.9224\n",
       "hobby_engagement             0.9224\n",
       "household_income_discrete    0.9224\n",
       "last_year_gpa_discrete       0.9224\n",
       "commute_time_discrete        0.9224\n",
       "hobby_engagement_discrete    0.9224\n",
       "dtype: float64"
      ]
     },
     "execution_count": 262,
     "metadata": {},
     "output_type": "execute_result"
    }
   ],
   "source": [
    "df.groupby(['passes', 'uses_app', 'matched_outcome']).count().sum() / N"
   ]
  },
  {
   "cell_type": "code",
   "execution_count": null,
   "metadata": {},
   "outputs": [],
   "source": []
  }
 ],
 "metadata": {
  "kernelspec": {
   "display_name": "Python 3",
   "language": "python",
   "name": "python3"
  },
  "language_info": {
   "codemirror_mode": {
    "name": "ipython",
    "version": 3
   },
   "file_extension": ".py",
   "mimetype": "text/x-python",
   "name": "python",
   "nbconvert_exporter": "python",
   "pygments_lexer": "ipython3",
   "version": "3.6.5"
  }
 },
 "nbformat": 4,
 "nbformat_minor": 2
}
