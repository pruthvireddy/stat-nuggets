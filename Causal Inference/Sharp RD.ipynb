{
 "cells": [
  {
   "cell_type": "code",
   "execution_count": 84,
   "metadata": {},
   "outputs": [],
   "source": [
    "import pandas as pd\n",
    "import numpy as np\n",
    "\n",
    "\n",
    "N = 50000\n",
    "\n",
    "u = np.random.normal(1, size=N)\n",
    "z = np.maximum(0, u + np.random.uniform(0, 5, size=N))\n",
    "\n",
    "delta = u\n",
    "z_0 = 5.\n",
    "p_x =  (z < z_0) * 0 + (z >= z_0) * 1\n",
    "x = p_x\n",
    "\n",
    "epsilon = 0.1*np.random.normal(size=N)\n",
    "y = delta*x + z + epsilon\n",
    "y0 = z + epsilon\n",
    "y1 = delta + z + epsilon\n",
    "\n",
    "df = pd.DataFrame({'X': x, 'Z': z, 'Y': y, # observable\n",
    "                   'Y1': y1, 'Y0': y0, 'U': u}) # unobservable"
   ]
  },
  {
   "cell_type": "markdown",
   "metadata": {},
   "source": [
    "## Is the data biased? The true ATE averages 1, since the individual effect is just U."
   ]
  },
  {
   "cell_type": "code",
   "execution_count": 85,
   "metadata": {},
   "outputs": [
    {
     "data": {
      "text/plain": [
       "4.8317535964108"
      ]
     },
     "execution_count": 85,
     "metadata": {},
     "output_type": "execute_result"
    }
   ],
   "source": [
    "df.groupby('X').mean()['Y'][1] - df.groupby('X').mean()['Y'][0]"
   ]
  },
  {
   "cell_type": "markdown",
   "metadata": {},
   "source": [
    "so we have bias around 3.8"
   ]
  },
  {
   "cell_type": "markdown",
   "metadata": {},
   "source": [
    "# Let's examine our assumptions.\n",
    "\n",
    "1. There is a discontinuity, $$lim_{z \\rightarrow z_0^+ } P(X|Z=z) \\neq lim_{z \\rightarrow z_0^- } P(X|Z=z)$$\n",
    "2. The counterfactuals are continuous at the discontinuity\n",
    "3. $\\delta \\perp X | Z = z_0$"
   ]
  },
  {
   "cell_type": "markdown",
   "metadata": {},
   "source": [
    "## 1. How does P(X|Z) look at the discontinuity?"
   ]
  },
  {
   "cell_type": "code",
   "execution_count": 86,
   "metadata": {},
   "outputs": [
    {
     "data": {
      "text/plain": [
       "<matplotlib.axes._subplots.AxesSubplot at 0x7f4c58732048>"
      ]
     },
     "execution_count": 86,
     "metadata": {},
     "output_type": "execute_result"
    },
    {
     "data": {
      "image/png": "[encoded data removed]",
      "text/plain": [
       "<Figure size 432x288 with 1 Axes>"
      ]
     },
     "metadata": {
      "needs_background": "light"
     },
     "output_type": "display_data"
    }
   ],
   "source": [
    "df.plot(x='Z', y='X', kind='scatter')"
   ]
  },
  {
   "cell_type": "markdown",
   "metadata": {},
   "source": [
    "So we see there's a jump discontinuity, and can confirm assumption 1."
   ]
  },
  {
   "cell_type": "markdown",
   "metadata": {},
   "source": [
    "## 2. The counterfactuals are continuous at $Z=Z_0$ \n",
    "\n",
    "We can't confirm this directly, since we can't measure the counterfactuals for everyone! Instead, since we hope that people near the discontinuity are similar, we can at least inspect the selection variable."
   ]
  },
  {
   "cell_type": "code",
   "execution_count": 87,
   "metadata": {},
   "outputs": [
    {
     "data": {
      "text/plain": [
       "<matplotlib.axes._subplots.AxesSubplot at 0x7f4c587059e8>"
      ]
     },
     "execution_count": 87,
     "metadata": {},
     "output_type": "execute_result"
    },
    {
     "data": {
      "image/png": "[encoded data removed]",
      "text/plain": [
       "<Figure size 432x288 with 1 Axes>"
      ]
     },
     "metadata": {
      "needs_background": "light"
     },
     "output_type": "display_data"
    }
   ],
   "source": [
    "df.Z.plot.kde()"
   ]
  },
  {
   "cell_type": "code",
   "execution_count": 88,
   "metadata": {},
   "outputs": [
    {
     "data": {
      "text/plain": [
       "<matplotlib.axes._subplots.AxesSubplot at 0x7f4c586d0668>"
      ]
     },
     "execution_count": 88,
     "metadata": {},
     "output_type": "execute_result"
    },
    {
     "data": {
      "image/png": "[encoded data removed]",
      "text/plain": [
       "<Figure size 432x288 with 1 Axes>"
      ]
     },
     "metadata": {
      "needs_background": "light"
     },
     "output_type": "display_data"
    }
   ],
   "source": [
    "df.Z.hist(bins=100)"
   ]
  },
  {
   "cell_type": "markdown",
   "metadata": {},
   "source": [
    "If there were pileup before or after the threshold, we'd have to worry about self-selection at the discontinuity, so variation in the causal state due to the discontinuity could be confounded (this is related to the next condition as well). \n",
    "\n",
    "There's no pileup above or below $z_0 = 5$, so we've done what we can to search for self-selection."
   ]
  },
  {
   "cell_type": "markdown",
   "metadata": {},
   "source": [
    "## 3. $\\delta \\perp X | Z = z_0$"
   ]
  },
  {
   "cell_type": "markdown",
   "metadata": {},
   "source": [
    "We have deterministic assignment with $Z$, so $Z$ forms a back-door set for the effect of $X$ on $Y$. We can verify by looking at the same plot above, and seeing everyone above the threshold $Z=5$ has $X=1$, and below has $X=0$."
   ]
  },
  {
   "cell_type": "markdown",
   "metadata": {},
   "source": [
    "# Estimation"
   ]
  },
  {
   "cell_type": "markdown",
   "metadata": {},
   "source": [
    "Having  checked our assumptions, let's build models for E[Y|Z] on either side of the discontinuity."
   ]
  },
  {
   "cell_type": "code",
   "execution_count": 81,
   "metadata": {},
   "outputs": [],
   "source": [
    "from sklearn.neighbors import RadiusNeighborsRegressor\n",
    "\n",
    "\n",
    "model_left = RadiusNeighborsRegressor(radius=0.05)\n",
    "model_left = model_left.fit(df[df.Z < z_0][['Z']], df[df.Z < z_0]['Y'])\n",
    "\n",
    "model_right = RadiusNeighborsRegressor(radius=0.05)\n",
    "model_right = model_right.fit(df[df.Z >= z_0][['Z']], df[df.Z >= z_0]['Y'])\n",
    "\n",
    "def predict_y(z):\n",
    "    if z < z_0:\n",
    "        return model_left.predict([[z]])[0]\n",
    "    else:\n",
    "        return model_right.predict([[z]])[0]\n",
    "\n",
    "df['E[Y|Z]'] = df['Z'].apply(predict_y)"
   ]
  },
  {
   "cell_type": "markdown",
   "metadata": {},
   "source": [
    "### Our estimate is the gap"
   ]
  },
  {
   "cell_type": "code",
   "execution_count": 82,
   "metadata": {},
   "outputs": [
    {
     "data": {
      "text/plain": [
       "<matplotlib.axes._subplots.AxesSubplot at 0x7f4c587c95f8>"
      ]
     },
     "execution_count": 82,
     "metadata": {},
     "output_type": "execute_result"
    },
    {
     "data": {
      "image/png": "[encoded data removed]",
      "text/plain": [
       "<Figure size 432x288 with 1 Axes>"
      ]
     },
     "metadata": {
      "needs_background": "light"
     },
     "output_type": "display_data"
    }
   ],
   "source": [
    "df.plot(x='Z', y='E[Y|Z]', kind='scatter')"
   ]
  },
  {
   "cell_type": "code",
   "execution_count": 83,
   "metadata": {},
   "outputs": [
    {
     "data": {
      "text/plain": [
       "array([1.36845488])"
      ]
     },
     "execution_count": 83,
     "metadata": {},
     "output_type": "execute_result"
    }
   ],
   "source": [
    "model_right.predict([[z_0]]) - model_left.predict([[z_0]])"
   ]
  },
  {
   "cell_type": "markdown",
   "metadata": {},
   "source": [
    "### Did we have continuity in the potential outcomes?"
   ]
  },
  {
   "cell_type": "code",
   "execution_count": 89,
   "metadata": {},
   "outputs": [],
   "source": [
    "from sklearn.neighbors import RadiusNeighborsRegressor\n",
    "\n",
    "\n",
    "model_left = RadiusNeighborsRegressor(radius=0.1)\n",
    "model_left = model_left.fit(df[df.Z < z_0][['Z']], df[df.Z < z_0]['Y0'])\n",
    "\n",
    "model_right = RadiusNeighborsRegressor(radius=0.1)\n",
    "model_right = model_right.fit(df[df.Z >= z_0][['Z']], df[df.Z >= z_0]['Y0'])\n",
    "\n",
    "def predict_y(z):\n",
    "    if z < z_0:\n",
    "        return model_left.predict([[z]])[0]\n",
    "    else:\n",
    "        return model_right.predict([[z]])[0]\n",
    "\n",
    "df['y_pred'] = df['Z'].apply(predict_y)"
   ]
  },
  {
   "cell_type": "code",
   "execution_count": 90,
   "metadata": {},
   "outputs": [
    {
     "data": {
      "text/plain": [
       "<matplotlib.axes._subplots.AxesSubplot at 0x7f4c58581518>"
      ]
     },
     "execution_count": 90,
     "metadata": {},
     "output_type": "execute_result"
    },
    {
     "data": {
      "image/png": "[encoded data removed]",
      "text/plain": [
       "<Figure size 432x288 with 1 Axes>"
      ]
     },
     "metadata": {
      "needs_background": "light"
     },
     "output_type": "display_data"
    }
   ],
   "source": [
    "df.plot(x='Z', y='y_pred', kind='scatter')"
   ]
  },
  {
   "cell_type": "code",
   "execution_count": 91,
   "metadata": {},
   "outputs": [
    {
     "data": {
      "text/plain": [
       "array([0.10049658])"
      ]
     },
     "execution_count": 91,
     "metadata": {},
     "output_type": "execute_result"
    }
   ],
   "source": [
    "model_right.predict([[z_0]]) - model_left.predict([[z_0]])"
   ]
  },
  {
   "cell_type": "markdown",
   "metadata": {},
   "source": [
    "### Did we get the right estimate of the treatment effect? \n",
    "\n",
    "$\\delta = U$, so we can look at $E[U|Z]$ in this case to confirm (not possible in practice)"
   ]
  },
  {
   "cell_type": "code",
   "execution_count": 69,
   "metadata": {},
   "outputs": [
    {
     "data": {
      "text/plain": [
       "<matplotlib.axes._subplots.AxesSubplot at 0x7f4c588b3940>"
      ]
     },
     "execution_count": 69,
     "metadata": {},
     "output_type": "execute_result"
    },
    {
     "data": {
      "image/png": "[encoded data removed]",
      "text/plain": [
       "<Figure size 432x288 with 1 Axes>"
      ]
     },
     "metadata": {
      "needs_background": "light"
     },
     "output_type": "display_data"
    }
   ],
   "source": [
    "model = RadiusNeighborsRegressor(radius=0.5)\n",
    "model = model.fit(df[['Z']], df['U'])\n",
    "df['u_pred'] = model.predict(df[['Z']])\n",
    "df.plot(x='Z', y='u_pred', kind='scatter')"
   ]
  },
  {
   "cell_type": "code",
   "execution_count": 92,
   "metadata": {},
   "outputs": [
    {
     "data": {
      "text/plain": [
       "array([1.28657119])"
      ]
     },
     "execution_count": 92,
     "metadata": {},
     "output_type": "execute_result"
    }
   ],
   "source": [
    "model.predict([[z_0]])"
   ]
  },
  {
   "cell_type": "code",
   "execution_count": null,
   "metadata": {},
   "outputs": [],
   "source": []
  },
  {
   "cell_type": "code",
   "execution_count": 14,
   "metadata": {},
   "outputs": [
    {
     "name": "stderr",
     "output_type": "stream",
     "text": [
      "/home/akelleh/.virtualenvs/data/lib/python3.6/site-packages/ipykernel_launcher.py:6: UserWarning: Boolean Series key will be reindexed to match DataFrame index.\n",
      "  \n"
     ]
    },
    {
     "data": {
      "text/html": [
       "<table class=\"simpletable\">\n",
       "<caption>OLS Regression Results</caption>\n",
       "<tr>\n",
       "  <th>Dep. Variable:</th>            <td>Y</td>        <th>  R-squared:         </th> <td>   0.579</td> \n",
       "</tr>\n",
       "<tr>\n",
       "  <th>Model:</th>                   <td>OLS</td>       <th>  Adj. R-squared:    </th> <td>   0.579</td> \n",
       "</tr>\n",
       "<tr>\n",
       "  <th>Method:</th>             <td>Least Squares</td>  <th>  F-statistic:       </th> <td>   1141.</td> \n",
       "</tr>\n",
       "<tr>\n",
       "  <th>Date:</th>             <td>Mon, 29 Mar 2021</td> <th>  Prob (F-statistic):</th> <td>6.70e-158</td>\n",
       "</tr>\n",
       "<tr>\n",
       "  <th>Time:</th>                 <td>21:18:55</td>     <th>  Log-Likelihood:    </th> <td> -744.18</td> \n",
       "</tr>\n",
       "<tr>\n",
       "  <th>No. Observations:</th>      <td>   830</td>      <th>  AIC:               </th> <td>   1492.</td> \n",
       "</tr>\n",
       "<tr>\n",
       "  <th>Df Residuals:</th>          <td>   828</td>      <th>  BIC:               </th> <td>   1502.</td> \n",
       "</tr>\n",
       "<tr>\n",
       "  <th>Df Model:</th>              <td>     1</td>      <th>                     </th>     <td> </td>    \n",
       "</tr>\n",
       "<tr>\n",
       "  <th>Covariance Type:</th>      <td>nonrobust</td>    <th>                     </th>     <td> </td>    \n",
       "</tr>\n",
       "</table>\n",
       "<table class=\"simpletable\">\n",
       "<tr>\n",
       "      <td></td>         <th>coef</th>     <th>std err</th>      <th>t</th>      <th>P>|t|</th>  <th>[0.025</th>    <th>0.975]</th>  \n",
       "</tr>\n",
       "<tr>\n",
       "  <th>X</th>         <td>    1.3954</td> <td>    0.041</td> <td>   33.776</td> <td> 0.000</td> <td>    1.314</td> <td>    1.476</td>\n",
       "</tr>\n",
       "<tr>\n",
       "  <th>intercept</th> <td>    4.9763</td> <td>    0.028</td> <td>  176.173</td> <td> 0.000</td> <td>    4.921</td> <td>    5.032</td>\n",
       "</tr>\n",
       "</table>\n",
       "<table class=\"simpletable\">\n",
       "<tr>\n",
       "  <th>Omnibus:</th>       <td>199.954</td> <th>  Durbin-Watson:     </th> <td>   2.041</td> \n",
       "</tr>\n",
       "<tr>\n",
       "  <th>Prob(Omnibus):</th> <td> 0.000</td>  <th>  Jarque-Bera (JB):  </th> <td> 789.791</td> \n",
       "</tr>\n",
       "<tr>\n",
       "  <th>Skew:</th>          <td> 1.081</td>  <th>  Prob(JB):          </th> <td>3.16e-172</td>\n",
       "</tr>\n",
       "<tr>\n",
       "  <th>Kurtosis:</th>      <td> 7.262</td>  <th>  Cond. No.          </th> <td>    2.55</td> \n",
       "</tr>\n",
       "</table><br/><br/>Warnings:<br/>[1] Standard Errors assume that the covariance matrix of the errors is correctly specified."
      ],
      "text/plain": [
       "<class 'statsmodels.iolib.summary.Summary'>\n",
       "\"\"\"\n",
       "                            OLS Regression Results                            \n",
       "==============================================================================\n",
       "Dep. Variable:                      Y   R-squared:                       0.579\n",
       "Model:                            OLS   Adj. R-squared:                  0.579\n",
       "Method:                 Least Squares   F-statistic:                     1141.\n",
       "Date:                Mon, 29 Mar 2021   Prob (F-statistic):          6.70e-158\n",
       "Time:                        21:18:55   Log-Likelihood:                -744.18\n",
       "No. Observations:                 830   AIC:                             1492.\n",
       "Df Residuals:                     828   BIC:                             1502.\n",
       "Df Model:                           1                                         \n",
       "Covariance Type:            nonrobust                                         \n",
       "==============================================================================\n",
       "                 coef    std err          t      P>|t|      [0.025      0.975]\n",
       "------------------------------------------------------------------------------\n",
       "X              1.3954      0.041     33.776      0.000       1.314       1.476\n",
       "intercept      4.9763      0.028    176.173      0.000       4.921       5.032\n",
       "==============================================================================\n",
       "Omnibus:                      199.954   Durbin-Watson:                   2.041\n",
       "Prob(Omnibus):                  0.000   Jarque-Bera (JB):              789.791\n",
       "Skew:                           1.081   Prob(JB):                    3.16e-172\n",
       "Kurtosis:                       7.262   Cond. No.                         2.55\n",
       "==============================================================================\n",
       "\n",
       "Warnings:\n",
       "[1] Standard Errors assume that the covariance matrix of the errors is correctly specified.\n",
       "\"\"\""
      ]
     },
     "execution_count": 14,
     "metadata": {},
     "output_type": "execute_result"
    }
   ],
   "source": [
    "from statsmodels.api import OLS\n",
    "\n",
    "\n",
    "ep = 0.05\n",
    "df['intercept'] = 1.\n",
    "df_z0 = df[df.Z < z_0 + ep][df.Z > z_0 - ep]\n",
    "\n",
    "\n",
    "model = OLS(endog=df_z0['Y'], exog=df_z0[['X', 'intercept']])\n",
    "result = model.fit()\n",
    "result.summary()"
   ]
  },
  {
   "cell_type": "code",
   "execution_count": null,
   "metadata": {},
   "outputs": [],
   "source": []
  }
 ],
 "metadata": {
  "kernelspec": {
   "display_name": "Python 3",
   "language": "python",
   "name": "python3"
  },
  "language_info": {
   "codemirror_mode": {
    "name": "ipython",
    "version": 3
   },
   "file_extension": ".py",
   "mimetype": "text/x-python",
   "name": "python",
   "nbconvert_exporter": "python",
   "pygments_lexer": "ipython3",
   "version": "3.6.7"
  }
 },
 "nbformat": 4,
 "nbformat_minor": 4
}
