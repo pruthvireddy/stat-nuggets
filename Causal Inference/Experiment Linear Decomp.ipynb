{
 "cells": [
  {
   "cell_type": "code",
   "execution_count": 1,
   "metadata": {},
   "outputs": [],
   "source": [
    "%matplotlib inline"
   ]
  },
  {
   "cell_type": "code",
   "execution_count": 37,
   "metadata": {},
   "outputs": [],
   "source": [
    "import pandas as pd\n",
    "import numpy as np\n",
    "\n",
    "\n",
    "N = 10000\n",
    "\n",
    "p0 = 0.1\n",
    "p = 0.01\n",
    "tau = 5\n",
    "\n",
    "alpha_x = {0: 10, 1: 5, 2: 2}\n",
    "beta_x =  {0: 1, 1: 1, 2: 1}\n",
    "lambda_x = {0: 20, 1: 10, 2: 5}\n",
    "\n",
    "x = np.random.choice([0, 1, 2], size=N)\n",
    "\n",
    "k = [alpha_x[x_i] for x_i in x]\n",
    "theta = [1. / beta_x[x_i] for x_i in x]\n",
    "lambd = [lambda_x[x_i] for x_i in x]\n",
    "z2 = np.random.gamma(k, theta)\n",
    "z1 = np.random.poisson(lambd)\n",
    "\n",
    "y2 = np.random.binomial(1, p=p0 * np.exp(-z2/tau))\n",
    "y1 = np.random.binomial(z1, p)\n",
    "y = y1 + y2\n",
    "\n",
    "df = pd.DataFrame({'X': x, 'Y': y, 'Z_1': z1, 'Z_2': z2, 'Y1': y1, 'Y2': y2})"
   ]
  },
  {
   "cell_type": "code",
   "execution_count": 21,
   "metadata": {},
   "outputs": [
    {
     "data": {
      "text/plain": [
       "array([[<matplotlib.axes._subplots.AxesSubplot object at 0x7f6d3b733128>,\n",
       "        <matplotlib.axes._subplots.AxesSubplot object at 0x7f6d3c0ab828>],\n",
       "       [<matplotlib.axes._subplots.AxesSubplot object at 0x7f6d3bf5ba90>,\n",
       "        <matplotlib.axes._subplots.AxesSubplot object at 0x7f6d3b97acf8>],\n",
       "       [<matplotlib.axes._subplots.AxesSubplot object at 0x7f6d3b50ff60>,\n",
       "        <matplotlib.axes._subplots.AxesSubplot object at 0x7f6d3bbf3208>]],\n",
       "      dtype=object)"
      ]
     },
     "execution_count": 21,
     "metadata": {},
     "output_type": "execute_result"
    },
    {
     "data": {
      "image/png": "[encoded data removed]",
      "text/plain": [
       "<Figure size 432x288 with 6 Axes>"
      ]
     },
     "metadata": {
      "needs_background": "light"
     },
     "output_type": "display_data"
    }
   ],
   "source": [
    "df.hist()"
   ]
  },
  {
   "cell_type": "code",
   "execution_count": 22,
   "metadata": {},
   "outputs": [
    {
     "data": {
      "text/plain": [
       "X\n",
       "0    0.218307\n",
       "1    0.137097\n",
       "2    0.122980\n",
       "Name: Y, dtype: float64"
      ]
     },
     "execution_count": 22,
     "metadata": {},
     "output_type": "execute_result"
    }
   ],
   "source": [
    "df.groupby('X').mean()['Y']"
   ]
  },
  {
   "cell_type": "code",
   "execution_count": 23,
   "metadata": {},
   "outputs": [
    {
     "data": {
      "text/html": [
       "<div>\n",
       "<style scoped>\n",
       "    .dataframe tbody tr th:only-of-type {\n",
       "        vertical-align: middle;\n",
       "    }\n",
       "\n",
       "    .dataframe tbody tr th {\n",
       "        vertical-align: top;\n",
       "    }\n",
       "\n",
       "    .dataframe thead th {\n",
       "        text-align: right;\n",
       "    }\n",
       "</style>\n",
       "<table border=\"1\" class=\"dataframe\">\n",
       "  <thead>\n",
       "    <tr style=\"text-align: right;\">\n",
       "      <th></th>\n",
       "      <th>Y1</th>\n",
       "      <th>Y2</th>\n",
       "      <th>Y</th>\n",
       "    </tr>\n",
       "    <tr>\n",
       "      <th>X</th>\n",
       "      <th></th>\n",
       "      <th></th>\n",
       "      <th></th>\n",
       "    </tr>\n",
       "  </thead>\n",
       "  <tbody>\n",
       "    <tr>\n",
       "      <th>0</th>\n",
       "      <td>0.203152</td>\n",
       "      <td>0.015155</td>\n",
       "      <td>0.218307</td>\n",
       "    </tr>\n",
       "    <tr>\n",
       "      <th>1</th>\n",
       "      <td>0.098363</td>\n",
       "      <td>0.038734</td>\n",
       "      <td>0.137097</td>\n",
       "    </tr>\n",
       "    <tr>\n",
       "      <th>2</th>\n",
       "      <td>0.052454</td>\n",
       "      <td>0.070525</td>\n",
       "      <td>0.122980</td>\n",
       "    </tr>\n",
       "  </tbody>\n",
       "</table>\n",
       "</div>"
      ],
      "text/plain": [
       "         Y1        Y2         Y\n",
       "X                              \n",
       "0  0.203152  0.015155  0.218307\n",
       "1  0.098363  0.038734  0.137097\n",
       "2  0.052454  0.070525  0.122980"
      ]
     },
     "execution_count": 23,
     "metadata": {},
     "output_type": "execute_result"
    }
   ],
   "source": [
    "df.groupby('X').mean()[['Y1', 'Y2', 'Y']]"
   ]
  },
  {
   "cell_type": "code",
   "execution_count": 24,
   "metadata": {},
   "outputs": [
    {
     "data": {
      "text/html": [
       "<table class=\"simpletable\">\n",
       "<caption>OLS Regression Results</caption>\n",
       "<tr>\n",
       "  <th>Dep. Variable:</th>            <td>Y</td>        <th>  R-squared:         </th> <td>   0.019</td> \n",
       "</tr>\n",
       "<tr>\n",
       "  <th>Model:</th>                   <td>OLS</td>       <th>  Adj. R-squared:    </th> <td>   0.019</td> \n",
       "</tr>\n",
       "<tr>\n",
       "  <th>Method:</th>             <td>Least Squares</td>  <th>  F-statistic:       </th> <td>   489.2</td> \n",
       "</tr>\n",
       "<tr>\n",
       "  <th>Date:</th>             <td>Wed, 08 Apr 2020</td> <th>  Prob (F-statistic):</th>  <td>  0.00</td>  \n",
       "</tr>\n",
       "<tr>\n",
       "  <th>Time:</th>                 <td>20:15:55</td>     <th>  Log-Likelihood:    </th> <td> -48851.</td> \n",
       "</tr>\n",
       "<tr>\n",
       "  <th>No. Observations:</th>      <td>100000</td>      <th>  AIC:               </th> <td>9.771e+04</td>\n",
       "</tr>\n",
       "<tr>\n",
       "  <th>Df Residuals:</th>          <td> 99995</td>      <th>  BIC:               </th> <td>9.776e+04</td>\n",
       "</tr>\n",
       "<tr>\n",
       "  <th>Df Model:</th>              <td>     4</td>      <th>                     </th>     <td> </td>    \n",
       "</tr>\n",
       "<tr>\n",
       "  <th>Covariance Type:</th>      <td>nonrobust</td>    <th>                     </th>     <td> </td>    \n",
       "</tr>\n",
       "</table>\n",
       "<table class=\"simpletable\">\n",
       "<tr>\n",
       "      <td></td>         <th>coef</th>     <th>std err</th>      <th>t</th>      <th>P>|t|</th>  <th>[0.025</th>    <th>0.975]</th>  \n",
       "</tr>\n",
       "<tr>\n",
       "  <th>expz2</th>     <td>    0.1174</td> <td>    0.014</td> <td>    8.255</td> <td> 0.000</td> <td>    0.090</td> <td>    0.145</td>\n",
       "</tr>\n",
       "<tr>\n",
       "  <th>Z_2</th>       <td>    0.0019</td> <td>    0.001</td> <td>    2.230</td> <td> 0.026</td> <td>    0.000</td> <td>    0.004</td>\n",
       "</tr>\n",
       "<tr>\n",
       "  <th>Z_1</th>       <td>    0.0100</td> <td>    0.000</td> <td>   28.575</td> <td> 0.000</td> <td>    0.009</td> <td>    0.011</td>\n",
       "</tr>\n",
       "<tr>\n",
       "  <th>X</th>         <td>    0.0032</td> <td>    0.004</td> <td>    0.836</td> <td> 0.403</td> <td>   -0.004</td> <td>    0.011</td>\n",
       "</tr>\n",
       "<tr>\n",
       "  <th>intercept</th> <td>   -0.0200</td> <td>    0.011</td> <td>   -1.763</td> <td> 0.078</td> <td>   -0.042</td> <td>    0.002</td>\n",
       "</tr>\n",
       "</table>\n",
       "<table class=\"simpletable\">\n",
       "<tr>\n",
       "  <th>Omnibus:</th>       <td>48705.798</td> <th>  Durbin-Watson:     </th>  <td>   2.000</td> \n",
       "</tr>\n",
       "<tr>\n",
       "  <th>Prob(Omnibus):</th>  <td> 0.000</td>   <th>  Jarque-Bera (JB):  </th> <td>244768.136</td>\n",
       "</tr>\n",
       "<tr>\n",
       "  <th>Skew:</th>           <td> 2.417</td>   <th>  Prob(JB):          </th>  <td>    0.00</td> \n",
       "</tr>\n",
       "<tr>\n",
       "  <th>Kurtosis:</th>       <td> 8.947</td>   <th>  Cond. No.          </th>  <td>    203.</td> \n",
       "</tr>\n",
       "</table><br/><br/>Warnings:<br/>[1] Standard Errors assume that the covariance matrix of the errors is correctly specified."
      ],
      "text/plain": [
       "<class 'statsmodels.iolib.summary.Summary'>\n",
       "\"\"\"\n",
       "                            OLS Regression Results                            \n",
       "==============================================================================\n",
       "Dep. Variable:                      Y   R-squared:                       0.019\n",
       "Model:                            OLS   Adj. R-squared:                  0.019\n",
       "Method:                 Least Squares   F-statistic:                     489.2\n",
       "Date:                Wed, 08 Apr 2020   Prob (F-statistic):               0.00\n",
       "Time:                        20:15:55   Log-Likelihood:                -48851.\n",
       "No. Observations:              100000   AIC:                         9.771e+04\n",
       "Df Residuals:                   99995   BIC:                         9.776e+04\n",
       "Df Model:                           4                                         \n",
       "Covariance Type:            nonrobust                                         \n",
       "==============================================================================\n",
       "                 coef    std err          t      P>|t|      [0.025      0.975]\n",
       "------------------------------------------------------------------------------\n",
       "expz2          0.1174      0.014      8.255      0.000       0.090       0.145\n",
       "Z_2            0.0019      0.001      2.230      0.026       0.000       0.004\n",
       "Z_1            0.0100      0.000     28.575      0.000       0.009       0.011\n",
       "X              0.0032      0.004      0.836      0.403      -0.004       0.011\n",
       "intercept     -0.0200      0.011     -1.763      0.078      -0.042       0.002\n",
       "==============================================================================\n",
       "Omnibus:                    48705.798   Durbin-Watson:                   2.000\n",
       "Prob(Omnibus):                  0.000   Jarque-Bera (JB):           244768.136\n",
       "Skew:                           2.417   Prob(JB):                         0.00\n",
       "Kurtosis:                       8.947   Cond. No.                         203.\n",
       "==============================================================================\n",
       "\n",
       "Warnings:\n",
       "[1] Standard Errors assume that the covariance matrix of the errors is correctly specified.\n",
       "\"\"\""
      ]
     },
     "execution_count": 24,
     "metadata": {},
     "output_type": "execute_result"
    }
   ],
   "source": [
    "from statsmodels.api import OLS\n",
    "\n",
    "df['expz2'] = np.exp(-z2/tau)\n",
    "df['intercept'] = 1.\n",
    "model = OLS(endog=df['Y'], exog=df[['expz2', 'Z_2', 'Z_1', 'X', 'intercept']])\n",
    "\n",
    "result1 = model.fit()\n",
    "df['y_given_z2_x'] = result1.predict()\n",
    "result1.summary()"
   ]
  },
  {
   "cell_type": "code",
   "execution_count": 31,
   "metadata": {},
   "outputs": [],
   "source": [
    "from statsmodels.nonparametric.kernel_density import KDEMultivariateConditional\n",
    "\n",
    "p_z1_given_x = KDEMultivariateConditional(endog=df[['Z_1']], exog=df[['X']], \n",
    "                                          dep_type='c', indep_type='u', \n",
    "                                          bw='normal_reference')"
   ]
  },
  {
   "cell_type": "code",
   "execution_count": 32,
   "metadata": {},
   "outputs": [],
   "source": [
    "p_z2_given_x = KDEMultivariateConditional(endog=df[['Z_2']], exog=df[['X']], \n",
    "                                          dep_type='c', indep_type='u', \n",
    "                                          bw='normal_reference')"
   ]
  },
  {
   "cell_type": "code",
   "execution_count": 33,
   "metadata": {},
   "outputs": [],
   "source": [
    "df['p_z2_given_x'] = p_z2_given_x.pdf()\n",
    "df['p_z1_given_x'] = p_z1_given_x.pdf()"
   ]
  },
  {
   "cell_type": "code",
   "execution_count": 34,
   "metadata": {},
   "outputs": [
    {
     "data": {
      "text/plain": [
       "<matplotlib.axes._subplots.AxesSubplot at 0x7f6d3bd5ef98>"
      ]
     },
     "execution_count": 34,
     "metadata": {},
     "output_type": "execute_result"
    },
    {
     "data": {
      "image/png": "[encoded data removed]",
      "text/plain": [
       "<Figure size 432x288 with 1 Axes>"
      ]
     },
     "metadata": {
      "needs_background": "light"
     },
     "output_type": "display_data"
    }
   ],
   "source": [
    "df[df.X==0].plot(x='Z_2', y='p_z2_given_x', kind='scatter')"
   ]
  },
  {
   "cell_type": "code",
   "execution_count": 35,
   "metadata": {},
   "outputs": [
    {
     "data": {
      "text/plain": [
       "<matplotlib.axes._subplots.AxesSubplot at 0x7f6d3b4e9198>"
      ]
     },
     "execution_count": 35,
     "metadata": {},
     "output_type": "execute_result"
    },
    {
     "data": {
      "image/png": "[encoded data removed]",
      "text/plain": [
       "<Figure size 432x288 with 1 Axes>"
      ]
     },
     "metadata": {
      "needs_background": "light"
     },
     "output_type": "display_data"
    }
   ],
   "source": [
    "df[df.X==1].plot(x='Z_2', y='p_z2_given_x', kind='scatter')"
   ]
  },
  {
   "cell_type": "code",
   "execution_count": 36,
   "metadata": {},
   "outputs": [
    {
     "data": {
      "text/plain": [
       "<matplotlib.axes._subplots.AxesSubplot at 0x7f6d3b702d68>"
      ]
     },
     "execution_count": 36,
     "metadata": {},
     "output_type": "execute_result"
    },
    {
     "data": {
      "image/png": "[encoded data removed]",
      "text/plain": [
       "<Figure size 432x288 with 1 Axes>"
      ]
     },
     "metadata": {
      "needs_background": "light"
     },
     "output_type": "display_data"
    }
   ],
   "source": [
    "df[df.X==2].plot(x='Z_2', y='p_z2_given_x', kind='scatter')"
   ]
  },
  {
   "cell_type": "code",
   "execution_count": null,
   "metadata": {},
   "outputs": [],
   "source": [
    "px = df.groupby('X').count()"
   ]
  },
  {
   "cell_type": "code",
   "execution_count": null,
   "metadata": {},
   "outputs": [],
   "source": [
    "px / len(df)"
   ]
  },
  {
   "cell_type": "code",
   "execution_count": 9,
   "metadata": {},
   "outputs": [
    {
     "data": {
      "text/plain": [
       "(0.1842450810858526, 7.67039182072342e-09)"
      ]
     },
     "execution_count": 9,
     "metadata": {},
     "output_type": "execute_result"
    }
   ],
   "source": [
    "from scipy.integrate import quad\n",
    "\n",
    "def integrand(z1, x=0):\n",
    "    f1 = float(p_z1_given_x.pdf(endog_predict=[z1], exog_predict=[x]))\n",
    "    the_sum = 0.\n",
    "    for xp in df.X.unique():\n",
    "        y1 = 0.01*z1\n",
    "        p_x = 1/3.\n",
    "        the_sum += y1 * p_x\n",
    "    return the_sum*f1\n",
    "        \n",
    "quad(lambda z: integrand(z, x=0.), \n",
    "         df.Z_1.min() - 1, \n",
    "         df.Z_1.max() + 1)"
   ]
  },
  {
   "cell_type": "code",
   "execution_count": 10,
   "metadata": {},
   "outputs": [
    {
     "data": {
      "text/plain": [
       "(0.10308931507159767, 1.1072909807926234e-08)"
      ]
     },
     "execution_count": 10,
     "metadata": {},
     "output_type": "execute_result"
    }
   ],
   "source": [
    "quad(lambda z: integrand(z, x=1.), df.Z_1.min(), df.Z_1.max())"
   ]
  },
  {
   "cell_type": "code",
   "execution_count": 11,
   "metadata": {},
   "outputs": [
    {
     "data": {
      "text/plain": [
       "(0.06284659882096293, 2.7160166945801733e-09)"
      ]
     },
     "execution_count": 11,
     "metadata": {},
     "output_type": "execute_result"
    }
   ],
   "source": [
    "quad(lambda z: integrand(z, x=2.), df.Z_1.min(), df.Z_1.max())"
   ]
  },
  {
   "cell_type": "code",
   "execution_count": 12,
   "metadata": {},
   "outputs": [
    {
     "data": {
      "text/plain": [
       "(0.016224279650751326, 1.0493377822568681e-08)"
      ]
     },
     "execution_count": 12,
     "metadata": {},
     "output_type": "execute_result"
    }
   ],
   "source": [
    "from scipy.integrate import quad\n",
    "\n",
    "def integrand(z2, x=0):\n",
    "    f1 = float(p_z2_given_x.pdf(endog_predict=[z2], exog_predict=[x]))\n",
    "    the_sum = 0.\n",
    "    for xp in df.X.unique():\n",
    "        y2 = 0.0782*np.exp(-z2/tau)\n",
    "        p_x = 1/3.\n",
    "        the_sum += y2 * p_x\n",
    "    return the_sum*f1\n",
    "        \n",
    "quad(lambda z: integrand(z, x=0.), df.Z_2.min(), df.Z_2.max())"
   ]
  },
  {
   "cell_type": "code",
   "execution_count": 13,
   "metadata": {},
   "outputs": [
    {
     "data": {
      "text/plain": [
       "(0.031625013111870735, 1.161733325338282e-08)"
      ]
     },
     "execution_count": 13,
     "metadata": {},
     "output_type": "execute_result"
    }
   ],
   "source": [
    "quad(lambda z: integrand(z, x=1.), df.Z_2.min(), df.Z_2.max())"
   ]
  },
  {
   "cell_type": "code",
   "execution_count": 14,
   "metadata": {},
   "outputs": [
    {
     "data": {
      "text/plain": [
       "(0.04645835823673856, 1.2403692951474178e-09)"
      ]
     },
     "execution_count": 14,
     "metadata": {},
     "output_type": "execute_result"
    }
   ],
   "source": [
    "quad(lambda z: integrand(z, x=2.), df.Z_2.min(), df.Z_2.max())"
   ]
  },
  {
   "cell_type": "code",
   "execution_count": null,
   "metadata": {},
   "outputs": [],
   "source": []
  }
 ],
 "metadata": {
  "kernelspec": {
   "display_name": "Python 3",
   "language": "python",
   "name": "python3"
  },
  "language_info": {
   "codemirror_mode": {
    "name": "ipython",
    "version": 3
   },
   "file_extension": ".py",
   "mimetype": "text/x-python",
   "name": "python",
   "nbconvert_exporter": "python",
   "pygments_lexer": "ipython3",
   "version": "3.6.9"
  }
 },
 "nbformat": 4,
 "nbformat_minor": 4
}
